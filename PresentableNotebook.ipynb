{
 "cells": [
  {
   "cell_type": "markdown",
   "id": "de3ef891-5043-481e-8313-dfdc2abfe08f",
   "metadata": {},
   "source": [
    "<b> Predict Sales  \n",
    "    Data Description: </b>\n",
    "You are provided with daily historical sales data. The task is to forecast the total amount of products sold in every shop for the test set. Note that the list of shops and products slightly changes every month. Creating a robust model that can handle such situations is part of the challenge. Then:\n",
    "\n",
    "1. for the list of shops and products I should then create a data frame that can be extended with the new lists.\n",
    "2. target feature —> total amount of a given product sold in a given shop per month\n",
    "3. item_cnt_day (# of product sold in a given day)\n",
    "Then I should create a column item_cnt_month\n",
    "\n",
    "<b> Features: </b>  \n",
    "ID - an Id that represents a (Shop, Item) tuple within the test set\n",
    "* shop_id - unique identifier of a shop\n",
    "* item_id - unique identifier of a product\n",
    "* item_category_id - unique identifier of item category\n",
    "* item_cnt_day - number of products sold. You are predicting a monthly amount of this measure\n",
    "* item_price - current price of an item\n",
    "* date - date in format dd/mm/yyyy\n",
    "* date_block_num - a consecutive month number, used for convenience. January 2013 is 0, February 2013 is 1,…, October 2015 is 33\n",
    "* item_name - name of item\n",
    "* shop_name - name of shop\n",
    "* item_category_name - name of item category  "
   ]
  },
  {
   "cell_type": "markdown",
   "id": "8c2133d3",
   "metadata": {},
   "source": [
    "<a id='table_of_contents'></a>\n",
    "\n",
    "0. [Import Packages](#imports_packages)  \n",
    "1. [Import Data](#imports_data)\n",
    "2. [Data Exploration](#data_exploration)\n",
    "3. [Data Cleaning](#data_cleaning)\n",
    "4. [Data Preparation](#data_preparation)\n",
    "5. [Feature Engineering](#feature_engineering)\n",
    "6. [Benchmark Modelling](#benchmark_modelling)\n",
    "7. [Evaluation of the Model](#evaluating_model)\n"
   ]
  },
  {
   "cell_type": "markdown",
   "id": "23682c2b",
   "metadata": {},
   "source": [
    "# 0. Import Packages <a id='imports_packages'></a>\n",
    "[Back to top](#table_of_contents)"
   ]
  },
  {
   "cell_type": "code",
   "execution_count": 104,
   "id": "48f48dad-42bc-45ad-9b28-31c7660504a4",
   "metadata": {},
   "outputs": [],
   "source": [
    "import pandas as pd\n",
    "import numpy as np\n",
    "import matplotlib.pyplot as plt\n",
    "%matplotlib inline"
   ]
  },
  {
   "cell_type": "markdown",
   "id": "a1ee3506",
   "metadata": {},
   "source": [
    "# 1. Import Data <a id='imports_data'></a>\n",
    "[Back to top](#table_of_contents)"
   ]
  },
  {
   "cell_type": "code",
   "execution_count": 105,
   "id": "37f2f470",
   "metadata": {},
   "outputs": [],
   "source": [
    "item_categories = pd.read_csv('Data/item_categories.csv')\n",
    "#item_categories.head()\n"
   ]
  },
  {
   "cell_type": "markdown",
   "id": "cd008f6c-fbdc-4ba6-8311-631c3d7f8fca",
   "metadata": {},
   "source": [
    "# 2. Data Exploration <a id='data_exploration'></a>\n",
    "[Back to top](#table_of_contents)"
   ]
  },
  {
   "cell_type": "markdown",
   "id": "70c771f4-4038-4687-afe3-7f42d0b57248",
   "metadata": {},
   "source": [
    "### Item Categories"
   ]
  },
  {
   "cell_type": "code",
   "execution_count": 106,
   "id": "04d585ed",
   "metadata": {},
   "outputs": [
    {
     "data": {
      "text/plain": [
       "84"
      ]
     },
     "execution_count": 106,
     "metadata": {},
     "output_type": "execute_result"
    }
   ],
   "source": [
    "item_categories['item_category_name'].nunique()"
   ]
  },
  {
   "cell_type": "code",
   "execution_count": 107,
   "id": "fb7baadd",
   "metadata": {},
   "outputs": [
    {
     "name": "stdout",
     "output_type": "stream",
     "text": [
      "Аксессуары - PS2\n",
      "Аксессуары - PS3\n",
      "Аксессуары - PS4\n",
      "Аксессуары - PSP\n",
      "Аксессуары - PSVita\n",
      "Аксессуары - XBOX 360\n",
      "Аксессуары - XBOX ONE\n",
      "Игры - Аксессуары для игр\n"
     ]
    },
    {
     "data": {
      "text/plain": [
       "0     False\n",
       "1      None\n",
       "2      None\n",
       "3      None\n",
       "4      None\n",
       "      ...  \n",
       "79    False\n",
       "80    False\n",
       "81    False\n",
       "82    False\n",
       "83    False\n",
       "Name: item_category_name, Length: 84, dtype: object"
      ]
     },
     "execution_count": 107,
     "metadata": {},
     "output_type": "execute_result"
    }
   ],
   "source": [
    "item_categories['item_category_name'].apply(lambda x: print(x) if 'Аксессуары' in x else False )"
   ]
  },
  {
   "cell_type": "markdown",
   "id": "ef11ab9b-6c1c-4b0c-aad3-e4deab15118d",
   "metadata": {},
   "source": [
    "* There are 84 item categories."
   ]
  },
  {
   "cell_type": "markdown",
   "id": "3294ef9d-7ee7-47a3-885b-ef444cc42e20",
   "metadata": {},
   "source": [
    "### Item List "
   ]
  },
  {
   "cell_type": "code",
   "execution_count": 108,
   "id": "6fa3877f-8fce-41d4-bbf3-857c3d614178",
   "metadata": {},
   "outputs": [
    {
     "data": {
      "text/html": [
       "<div>\n",
       "<style scoped>\n",
       "    .dataframe tbody tr th:only-of-type {\n",
       "        vertical-align: middle;\n",
       "    }\n",
       "\n",
       "    .dataframe tbody tr th {\n",
       "        vertical-align: top;\n",
       "    }\n",
       "\n",
       "    .dataframe thead th {\n",
       "        text-align: right;\n",
       "    }\n",
       "</style>\n",
       "<table border=\"1\" class=\"dataframe\">\n",
       "  <thead>\n",
       "    <tr style=\"text-align: right;\">\n",
       "      <th></th>\n",
       "      <th>item_name</th>\n",
       "      <th>item_id</th>\n",
       "      <th>item_category_id</th>\n",
       "    </tr>\n",
       "  </thead>\n",
       "  <tbody>\n",
       "    <tr>\n",
       "      <th>0</th>\n",
       "      <td>! ВО ВЛАСТИ НАВАЖДЕНИЯ (ПЛАСТ.)         D</td>\n",
       "      <td>0</td>\n",
       "      <td>40</td>\n",
       "    </tr>\n",
       "    <tr>\n",
       "      <th>1</th>\n",
       "      <td>!ABBYY FineReader 12 Professional Edition Full...</td>\n",
       "      <td>1</td>\n",
       "      <td>76</td>\n",
       "    </tr>\n",
       "  </tbody>\n",
       "</table>\n",
       "</div>"
      ],
      "text/plain": [
       "                                           item_name  item_id  \\\n",
       "0          ! ВО ВЛАСТИ НАВАЖДЕНИЯ (ПЛАСТ.)         D        0   \n",
       "1  !ABBYY FineReader 12 Professional Edition Full...        1   \n",
       "\n",
       "   item_category_id  \n",
       "0                40  \n",
       "1                76  "
      ]
     },
     "execution_count": 108,
     "metadata": {},
     "output_type": "execute_result"
    }
   ],
   "source": [
    "item_list = pd.read_csv('Data/items.csv')\n",
    "item_list.head(2)"
   ]
  },
  {
   "cell_type": "code",
   "execution_count": 109,
   "id": "129d6dcb-7fb4-4fd6-b30e-bb149dc75c1a",
   "metadata": {},
   "outputs": [
    {
     "data": {
      "text/plain": [
       "array([[<AxesSubplot:title={'center':'item_id'}>,\n",
       "        <AxesSubplot:title={'center':'item_category_id'}>]], dtype=object)"
      ]
     },
     "execution_count": 109,
     "metadata": {},
     "output_type": "execute_result"
    },
    {
     "data": {
      "image/png": "[encoded data removed]",
      "text/plain": [
       "<Figure size 1440x360 with 2 Axes>"
      ]
     },
     "metadata": {
      "needs_background": "light"
     },
     "output_type": "display_data"
    }
   ],
   "source": [
    "item_list.hist(figsize=(20,5), bins=60)"
   ]
  },
  {
   "cell_type": "code",
   "execution_count": 110,
   "id": "91fdd163",
   "metadata": {},
   "outputs": [
    {
     "name": "stdout",
     "output_type": "stream",
     "text": [
      "22170 unique items\n"
     ]
    }
   ],
   "source": [
    "print(item_list['item_id'].nunique(), 'unique items')"
   ]
  },
  {
   "cell_type": "code",
   "execution_count": 111,
   "id": "7ec92ad1",
   "metadata": {},
   "outputs": [
    {
     "data": {
      "text/plain": [
       "40    5035\n",
       "55    2365\n",
       "37    1780\n",
       "31    1125\n",
       "58     790\n",
       "      ... \n",
       "50       2\n",
       "1        2\n",
       "10       1\n",
       "51       1\n",
       "79       1\n",
       "Name: item_category_id, Length: 84, dtype: int64"
      ]
     },
     "execution_count": 111,
     "metadata": {},
     "output_type": "execute_result"
    }
   ],
   "source": [
    "item_list['item_category_id'].value_counts()"
   ]
  },
  {
   "cell_type": "code",
   "execution_count": 112,
   "id": "306a677c",
   "metadata": {},
   "outputs": [
    {
     "name": "stdout",
     "output_type": "stream",
     "text": [
      "40    Кино - DVD\n",
      "Name: item_category_name, dtype: object\n",
      "55    Музыка - CD локального производства\n",
      "Name: item_category_name, dtype: object\n",
      "37    Кино - Blu-Ray\n",
      "Name: item_category_name, dtype: object\n",
      "31    Игры PC - Цифра\n",
      "Name: item_category_name, dtype: object\n"
     ]
    }
   ],
   "source": [
    "for i in 40, 55, 37, 31:\n",
    "    print(item_categories[item_categories['item_category_id']==i].item_category_name)"
   ]
  },
  {
   "cell_type": "markdown",
   "id": "83678128-db71-44eb-99b7-826ff6324ba0",
   "metadata": {},
   "source": [
    "* There are 22170 different items in the store and the features of them --> item_id, item_category_id\n",
    "* Most of the items belong to item_category #40 which is \"Кино - DVD\""
   ]
  },
  {
   "cell_type": "code",
   "execution_count": 113,
   "id": "c5f0c211",
   "metadata": {},
   "outputs": [],
   "source": [
    "item_id_list = item_list[['item_id', 'item_category_id']]"
   ]
  },
  {
   "cell_type": "code",
   "execution_count": 114,
   "id": "c1741844",
   "metadata": {},
   "outputs": [
    {
     "data": {
      "text/plain": [
       "item_id             int64\n",
       "item_category_id    int64\n",
       "dtype: object"
      ]
     },
     "execution_count": 114,
     "metadata": {},
     "output_type": "execute_result"
    }
   ],
   "source": [
    "item_id_list.dtypes"
   ]
  },
  {
   "cell_type": "markdown",
   "id": "d4baedf2-a1af-4f21-8b0f-6dfb6aa4f759",
   "metadata": {},
   "source": [
    "### Shops"
   ]
  },
  {
   "cell_type": "code",
   "execution_count": 115,
   "id": "bb39e43d-c66e-4539-b6b5-bc4f98429eb2",
   "metadata": {},
   "outputs": [
    {
     "data": {
      "text/html": [
       "<div>\n",
       "<style scoped>\n",
       "    .dataframe tbody tr th:only-of-type {\n",
       "        vertical-align: middle;\n",
       "    }\n",
       "\n",
       "    .dataframe tbody tr th {\n",
       "        vertical-align: top;\n",
       "    }\n",
       "\n",
       "    .dataframe thead th {\n",
       "        text-align: right;\n",
       "    }\n",
       "</style>\n",
       "<table border=\"1\" class=\"dataframe\">\n",
       "  <thead>\n",
       "    <tr style=\"text-align: right;\">\n",
       "      <th></th>\n",
       "      <th>shop_name</th>\n",
       "      <th>shop_id</th>\n",
       "    </tr>\n",
       "  </thead>\n",
       "  <tbody>\n",
       "    <tr>\n",
       "      <th>0</th>\n",
       "      <td>!Якутск Орджоникидзе, 56 фран</td>\n",
       "      <td>0</td>\n",
       "    </tr>\n",
       "    <tr>\n",
       "      <th>1</th>\n",
       "      <td>!Якутск ТЦ \"Центральный\" фран</td>\n",
       "      <td>1</td>\n",
       "    </tr>\n",
       "    <tr>\n",
       "      <th>2</th>\n",
       "      <td>Адыгея ТЦ \"Мега\"</td>\n",
       "      <td>2</td>\n",
       "    </tr>\n",
       "    <tr>\n",
       "      <th>3</th>\n",
       "      <td>Балашиха ТРК \"Октябрь-Киномир\"</td>\n",
       "      <td>3</td>\n",
       "    </tr>\n",
       "    <tr>\n",
       "      <th>4</th>\n",
       "      <td>Волжский ТЦ \"Волга Молл\"</td>\n",
       "      <td>4</td>\n",
       "    </tr>\n",
       "  </tbody>\n",
       "</table>\n",
       "</div>"
      ],
      "text/plain": [
       "                        shop_name  shop_id\n",
       "0   !Якутск Орджоникидзе, 56 фран        0\n",
       "1   !Якутск ТЦ \"Центральный\" фран        1\n",
       "2                Адыгея ТЦ \"Мега\"        2\n",
       "3  Балашиха ТРК \"Октябрь-Киномир\"        3\n",
       "4        Волжский ТЦ \"Волга Молл\"        4"
      ]
     },
     "execution_count": 115,
     "metadata": {},
     "output_type": "execute_result"
    }
   ],
   "source": [
    "shops = pd.read_csv('Data/shops.csv')\n",
    "shops.columns\n",
    "shops.head(5)"
   ]
  },
  {
   "cell_type": "code",
   "execution_count": 116,
   "id": "be17fa80",
   "metadata": {},
   "outputs": [],
   "source": [
    "def add_city_feature(data):\n",
    "    data.loc[data['shop_name'] == 'Сергиев Посад ТЦ \"7Я\"', 'shop_name'] = 'СергиевПосад ТЦ \"7Я\"'\n",
    "    data['city'] = data['shop_name'].str.split(\" \").map(lambda x: x[0])\n",
    "    data.loc[data['city'] == '!Якутск', 'city'] = 'Якутск'\n",
    "    data['city_id'] = data['city'].factorize()[0]\n",
    "    return data"
   ]
  },
  {
   "cell_type": "code",
   "execution_count": 117,
   "id": "b705ea9a",
   "metadata": {},
   "outputs": [],
   "source": [
    "shops_info = add_city_feature(shops)"
   ]
  },
  {
   "cell_type": "code",
   "execution_count": 118,
   "id": "9627d7eb",
   "metadata": {},
   "outputs": [
    {
     "data": {
      "text/html": [
       "<div>\n",
       "<style scoped>\n",
       "    .dataframe tbody tr th:only-of-type {\n",
       "        vertical-align: middle;\n",
       "    }\n",
       "\n",
       "    .dataframe tbody tr th {\n",
       "        vertical-align: top;\n",
       "    }\n",
       "\n",
       "    .dataframe thead th {\n",
       "        text-align: right;\n",
       "    }\n",
       "</style>\n",
       "<table border=\"1\" class=\"dataframe\">\n",
       "  <thead>\n",
       "    <tr style=\"text-align: right;\">\n",
       "      <th></th>\n",
       "      <th>shop_name</th>\n",
       "      <th>shop_id</th>\n",
       "      <th>city</th>\n",
       "      <th>city_id</th>\n",
       "    </tr>\n",
       "  </thead>\n",
       "  <tbody>\n",
       "    <tr>\n",
       "      <th>0</th>\n",
       "      <td>!Якутск Орджоникидзе, 56 фран</td>\n",
       "      <td>0</td>\n",
       "      <td>Якутск</td>\n",
       "      <td>0</td>\n",
       "    </tr>\n",
       "    <tr>\n",
       "      <th>1</th>\n",
       "      <td>!Якутск ТЦ \"Центральный\" фран</td>\n",
       "      <td>1</td>\n",
       "      <td>Якутск</td>\n",
       "      <td>0</td>\n",
       "    </tr>\n",
       "    <tr>\n",
       "      <th>2</th>\n",
       "      <td>Адыгея ТЦ \"Мега\"</td>\n",
       "      <td>2</td>\n",
       "      <td>Адыгея</td>\n",
       "      <td>1</td>\n",
       "    </tr>\n",
       "    <tr>\n",
       "      <th>3</th>\n",
       "      <td>Балашиха ТРК \"Октябрь-Киномир\"</td>\n",
       "      <td>3</td>\n",
       "      <td>Балашиха</td>\n",
       "      <td>2</td>\n",
       "    </tr>\n",
       "    <tr>\n",
       "      <th>4</th>\n",
       "      <td>Волжский ТЦ \"Волга Молл\"</td>\n",
       "      <td>4</td>\n",
       "      <td>Волжский</td>\n",
       "      <td>3</td>\n",
       "    </tr>\n",
       "  </tbody>\n",
       "</table>\n",
       "</div>"
      ],
      "text/plain": [
       "                        shop_name  shop_id      city  city_id\n",
       "0   !Якутск Орджоникидзе, 56 фран        0    Якутск        0\n",
       "1   !Якутск ТЦ \"Центральный\" фран        1    Якутск        0\n",
       "2                Адыгея ТЦ \"Мега\"        2    Адыгея        1\n",
       "3  Балашиха ТРК \"Октябрь-Киномир\"        3  Балашиха        2\n",
       "4        Волжский ТЦ \"Волга Молл\"        4  Волжский        3"
      ]
     },
     "execution_count": 118,
     "metadata": {},
     "output_type": "execute_result"
    }
   ],
   "source": [
    "shops_info.head()"
   ]
  },
  {
   "cell_type": "markdown",
   "id": "fb3583ff-4f5c-4a79-833f-56d573c797d4",
   "metadata": {},
   "source": [
    "* There are 60 shops and their IDs are listed. There are duplicates which are:"
   ]
  },
  {
   "cell_type": "code",
   "execution_count": 119,
   "id": "d932fe93",
   "metadata": {},
   "outputs": [
    {
     "name": "stdout",
     "output_type": "stream",
     "text": [
      "Якутск Орджоникидзе, 56 !Якутск Орджоникидзе, 56 фран\n",
      "Якутск ТЦ \"Центральный\" !Якутск ТЦ \"Центральный\" фран\n",
      "Жуковский ул. Чкалова 39м? Жуковский ул. Чкалова 39м²\n"
     ]
    }
   ],
   "source": [
    "print(shops_info['shop_name'][57], shops_info['shop_name'][0])\n",
    "print(shops_info['shop_name'][58], shops_info['shop_name'][1])\n",
    "print(shops_info['shop_name'][10], shops_info['shop_name'][11])"
   ]
  },
  {
   "cell_type": "code",
   "execution_count": 120,
   "id": "9847fdda",
   "metadata": {},
   "outputs": [],
   "source": [
    "shops_cleaned = shops_info.copy()\n",
    "shops_cleaned = shops_cleaned.drop([0, 1, 11]).reset_index()"
   ]
  },
  {
   "cell_type": "code",
   "execution_count": 121,
   "id": "155f2d36",
   "metadata": {},
   "outputs": [
    {
     "data": {
      "text/plain": [
       "Москва              13\n",
       "РостовНаДону         3\n",
       "Воронеж              3\n",
       "Тюмень               3\n",
       "Новосибирск          2\n",
       "Казань               2\n",
       "Н.Новгород           2\n",
       "Якутск               2\n",
       "Уфа                  2\n",
       "СПб                  2\n",
       "Самара               2\n",
       "Красноярск           2\n",
       "Выездная             1\n",
       "Ярославль            1\n",
       "Мытищи               1\n",
       "СергиевПосад         1\n",
       "Интернет-магазин     1\n",
       "Омск                 1\n",
       "Сургут               1\n",
       "Цифровой             1\n",
       "Волжский             1\n",
       "Жуковский            1\n",
       "Балашиха             1\n",
       "Коломна              1\n",
       "Адыгея               1\n",
       "Химки                1\n",
       "Курск                1\n",
       "Вологда              1\n",
       "Калуга               1\n",
       "Чехов                1\n",
       "Томск                1\n",
       "Name: city, dtype: int64"
      ]
     },
     "execution_count": 121,
     "metadata": {},
     "output_type": "execute_result"
    }
   ],
   "source": [
    "shops_cleaned.city.value_counts()\n",
    "#shops_cleaned.city_id.plot(kind='hist', y='city', x=shops_cleaned.city, figsize=(10,5))\n",
    "#plt.xticks(label=shops_cleaned.city)\n",
    "\n",
    "#fig, ax = plt.subplots(figsize=(10,5))\n",
    "#ax.hist(shops_cleaned.city, bins=40)\n",
    "#ax.set_xticks(bins)\n",
    "#ax.set_xticklabels(dir='vertical')"
   ]
  },
  {
   "cell_type": "code",
   "execution_count": 122,
   "id": "41195594",
   "metadata": {},
   "outputs": [
    {
     "name": "stdout",
     "output_type": "stream",
     "text": [
      "(57, 5)\n"
     ]
    },
    {
     "data": {
      "text/plain": [
       "31"
      ]
     },
     "execution_count": 122,
     "metadata": {},
     "output_type": "execute_result"
    }
   ],
   "source": [
    "print(shops_cleaned.shape)\n",
    "shops_cleaned.city.nunique()"
   ]
  },
  {
   "cell_type": "markdown",
   "id": "922fed0e",
   "metadata": {},
   "source": [
    "There are 57 unique shops and 31 unique cities. The most of the shops (13/57) are in Москва. "
   ]
  },
  {
   "cell_type": "markdown",
   "id": "28ac9773-c52b-43e2-8279-42faf05df69d",
   "metadata": {},
   "source": [
    "### Sample Submission"
   ]
  },
  {
   "cell_type": "markdown",
   "id": "f9adc267-940f-49e4-9f13-714ba2a9ef90",
   "metadata": {},
   "source": [
    "A sample submission file in the correct format. Like a hint?"
   ]
  },
  {
   "cell_type": "code",
   "execution_count": 123,
   "id": "bd9fc9c0-c735-49b1-a016-2c952ea48827",
   "metadata": {},
   "outputs": [
    {
     "data": {
      "text/html": [
       "<div>\n",
       "<style scoped>\n",
       "    .dataframe tbody tr th:only-of-type {\n",
       "        vertical-align: middle;\n",
       "    }\n",
       "\n",
       "    .dataframe tbody tr th {\n",
       "        vertical-align: top;\n",
       "    }\n",
       "\n",
       "    .dataframe thead th {\n",
       "        text-align: right;\n",
       "    }\n",
       "</style>\n",
       "<table border=\"1\" class=\"dataframe\">\n",
       "  <thead>\n",
       "    <tr style=\"text-align: right;\">\n",
       "      <th></th>\n",
       "      <th>ID</th>\n",
       "      <th>item_cnt_month</th>\n",
       "    </tr>\n",
       "  </thead>\n",
       "  <tbody>\n",
       "    <tr>\n",
       "      <th>0</th>\n",
       "      <td>0</td>\n",
       "      <td>0.5</td>\n",
       "    </tr>\n",
       "    <tr>\n",
       "      <th>1</th>\n",
       "      <td>1</td>\n",
       "      <td>0.5</td>\n",
       "    </tr>\n",
       "  </tbody>\n",
       "</table>\n",
       "</div>"
      ],
      "text/plain": [
       "   ID  item_cnt_month\n",
       "0   0             0.5\n",
       "1   1             0.5"
      ]
     },
     "execution_count": 123,
     "metadata": {},
     "output_type": "execute_result"
    }
   ],
   "source": [
    "sample_sub = pd.read_csv('Data/sample_submission.csv')\n",
    "sample_sub.head(2)"
   ]
  },
  {
   "cell_type": "markdown",
   "id": "f731197c-0452-4897-8214-d903a0ee37af",
   "metadata": {},
   "source": [
    "### Training Set"
   ]
  },
  {
   "cell_type": "markdown",
   "id": "fd973231-3bb9-45d5-a8c4-bfd9ac4754b9",
   "metadata": {},
   "source": [
    "The training set. Daily historical data from January 2013 to October 2015."
   ]
  },
  {
   "cell_type": "code",
   "execution_count": 124,
   "id": "3a851182-8242-48b8-9d54-a5cf430b1a9e",
   "metadata": {},
   "outputs": [
    {
     "data": {
      "text/html": [
       "<div>\n",
       "<style scoped>\n",
       "    .dataframe tbody tr th:only-of-type {\n",
       "        vertical-align: middle;\n",
       "    }\n",
       "\n",
       "    .dataframe tbody tr th {\n",
       "        vertical-align: top;\n",
       "    }\n",
       "\n",
       "    .dataframe thead th {\n",
       "        text-align: right;\n",
       "    }\n",
       "</style>\n",
       "<table border=\"1\" class=\"dataframe\">\n",
       "  <thead>\n",
       "    <tr style=\"text-align: right;\">\n",
       "      <th></th>\n",
       "      <th>date</th>\n",
       "      <th>date_block_num</th>\n",
       "      <th>shop_id</th>\n",
       "      <th>item_id</th>\n",
       "      <th>item_price</th>\n",
       "      <th>item_cnt_day</th>\n",
       "    </tr>\n",
       "  </thead>\n",
       "  <tbody>\n",
       "    <tr>\n",
       "      <th>0</th>\n",
       "      <td>02.01.2013</td>\n",
       "      <td>0</td>\n",
       "      <td>59</td>\n",
       "      <td>22154</td>\n",
       "      <td>999.0</td>\n",
       "      <td>1.0</td>\n",
       "    </tr>\n",
       "    <tr>\n",
       "      <th>1</th>\n",
       "      <td>03.01.2013</td>\n",
       "      <td>0</td>\n",
       "      <td>25</td>\n",
       "      <td>2552</td>\n",
       "      <td>899.0</td>\n",
       "      <td>1.0</td>\n",
       "    </tr>\n",
       "    <tr>\n",
       "      <th>2</th>\n",
       "      <td>05.01.2013</td>\n",
       "      <td>0</td>\n",
       "      <td>25</td>\n",
       "      <td>2552</td>\n",
       "      <td>899.0</td>\n",
       "      <td>-1.0</td>\n",
       "    </tr>\n",
       "  </tbody>\n",
       "</table>\n",
       "</div>"
      ],
      "text/plain": [
       "         date  date_block_num  shop_id  item_id  item_price  item_cnt_day\n",
       "0  02.01.2013               0       59    22154       999.0           1.0\n",
       "1  03.01.2013               0       25     2552       899.0           1.0\n",
       "2  05.01.2013               0       25     2552       899.0          -1.0"
      ]
     },
     "execution_count": 124,
     "metadata": {},
     "output_type": "execute_result"
    }
   ],
   "source": [
    "sales_train = pd.read_csv('Data/sales_train.csv')\n",
    "sales_train.head(3)\n",
    "#sales_train[sales_train['shop_id']==0]"
   ]
  },
  {
   "cell_type": "code",
   "execution_count": 125,
   "id": "8c82c345-d3de-44ca-8944-ae8924682e89",
   "metadata": {},
   "outputs": [
    {
     "data": {
      "text/plain": [
       "date               object\n",
       "date_block_num      int64\n",
       "shop_id             int64\n",
       "item_id             int64\n",
       "item_price        float64\n",
       "item_cnt_day      float64\n",
       "dtype: object"
      ]
     },
     "execution_count": 125,
     "metadata": {},
     "output_type": "execute_result"
    }
   ],
   "source": [
    "sales_train.dtypes"
   ]
  },
  {
   "cell_type": "markdown",
   "id": "cf9c2368-03a1-48c2-aa91-e68b949a7e82",
   "metadata": {},
   "source": [
    "We should convert the types from object to date_time."
   ]
  },
  {
   "cell_type": "code",
   "execution_count": 126,
   "id": "7968a6f8",
   "metadata": {},
   "outputs": [
    {
     "data": {
      "image/png": "[encoded data removed]",
      "text/plain": [
       "<Figure size 648x288 with 2 Axes>"
      ]
     },
     "metadata": {
      "needs_background": "light"
     },
     "output_type": "display_data"
    }
   ],
   "source": [
    "\n",
    "flierprops = dict(marker='o', markerfacecolor='blue', markersize=5, markeredgecolor='black')\n",
    "\n",
    "fig, axes = plt.subplots(nrows=2, ncols=1, figsize=[9, 4])\n",
    "sales_train.plot.box(ax=axes[0], x='item_id', y='item_cnt_day', flierprops=flierprops, vert=False)\n",
    "sales_train.plot.box(ax=axes[1], x='item_id', y='item_price', flierprops=flierprops, vert=False)\n",
    "\n",
    "ax = plt.gca()\n",
    "#axes[0].set_xlabel('days')\n",
    "#axes[1].set_xlabel('price')\n",
    "axes[0].grid(axis='both', color='gray', alpha=.2)\n",
    "axes[1].grid(axis='both', color='gray', alpha=.2)\n",
    "plt.show()\n"
   ]
  },
  {
   "cell_type": "markdown",
   "id": "467ded31",
   "metadata": {},
   "source": [
    "* There are negative price and days in addition to outliers. We should remove them."
   ]
  },
  {
   "cell_type": "code",
   "execution_count": 127,
   "id": "c563dbf8-681d-445a-8d0a-ade4e4175339",
   "metadata": {},
   "outputs": [
    {
     "data": {
      "text/plain": [
       "7356"
      ]
     },
     "execution_count": 127,
     "metadata": {},
     "output_type": "execute_result"
    }
   ],
   "source": [
    "len(sales_train[sales_train['item_cnt_day']<0])"
   ]
  },
  {
   "cell_type": "markdown",
   "id": "f1c3265c-0ad9-42d7-ab44-93fe9b4f51e4",
   "metadata": {},
   "source": [
    "* There are 7356 negative item_cnt_day (# of product counts cannot be negative. However, could -1 mean product return? )"
   ]
  },
  {
   "cell_type": "markdown",
   "id": "91a3894e-2516-486b-8149-2f922c933199",
   "metadata": {},
   "source": [
    "* What is the currency? Do these number make sense? Which products cost the mosts?"
   ]
  },
  {
   "cell_type": "code",
   "execution_count": 128,
   "id": "9b461681-5ce5-480d-9411-f6ac9be121f2",
   "metadata": {},
   "outputs": [],
   "source": [
    "#sales_train_sorted_on_price = sales_train.sort_values('item_price', ascending=False)"
   ]
  },
  {
   "cell_type": "code",
   "execution_count": 129,
   "id": "97ee5585-fe3f-42eb-ae04-e4354d3302aa",
   "metadata": {},
   "outputs": [
    {
     "data": {
      "text/plain": [
       "date              13.12.2013\n",
       "date_block_num            11\n",
       "shop_id                   12\n",
       "item_id                 6066\n",
       "item_price          307980.0\n",
       "item_cnt_day             1.0\n",
       "Name: 1163158, dtype: object"
      ]
     },
     "execution_count": 129,
     "metadata": {},
     "output_type": "execute_result"
    }
   ],
   "source": [
    "sales_train.loc[sales_train.item_price.idxmax()]"
   ]
  },
  {
   "cell_type": "code",
   "execution_count": 130,
   "id": "c73c1b9b",
   "metadata": {},
   "outputs": [
    {
     "name": "stdout",
     "output_type": "stream",
     "text": [
      "                 item_name  item_id  item_category_id\n",
      "6066  Radmin 3  - 522 лиц.     6066                75\n",
      "              shop_name  shop_id              city  city_id\n",
      "12  Интернет-магазин ЧС       12  Интернет-магазин        8\n"
     ]
    }
   ],
   "source": [
    "print(item_list[item_list['item_id']==6066])\n",
    "print(shops[shops['shop_id']==12])"
   ]
  },
  {
   "cell_type": "markdown",
   "id": "da462931-251b-413e-9646-437f043c97b5",
   "metadata": {},
   "source": [
    "I googled it and saw that Radmin 3  - 522 лиц is a remote control software.20 dollars  \n",
    "Only one shop sells this product. \n",
    "307980 russian ruble is 4381.04 USD in October 2021. Thus, the price listed for this product may be unreal. Considering that we do not have any other sample for this product, we may thinking about removing this item from the list. However, I will keep for now."
   ]
  },
  {
   "cell_type": "code",
   "execution_count": 131,
   "id": "c5a73e92-ed4c-4cf9-9c89-de61fcf3a63c",
   "metadata": {},
   "outputs": [
    {
     "data": {
      "text/plain": [
       "21807"
      ]
     },
     "execution_count": 131,
     "metadata": {},
     "output_type": "execute_result"
    }
   ],
   "source": [
    "sales_train['item_id'].nunique()"
   ]
  },
  {
   "cell_type": "markdown",
   "id": "c0b1978e-bb90-4969-a49d-aa03049f4cd2",
   "metadata": {},
   "source": [
    "There were 22k item types sold. However, there are 21k of them in the training set."
   ]
  },
  {
   "cell_type": "markdown",
   "id": "a8fc0158-fe23-4ca5-b539-e3d756a04c27",
   "metadata": {},
   "source": [
    "### Testing Set"
   ]
  },
  {
   "cell_type": "markdown",
   "id": "fded757d-aa05-4643-a736-edb93e66b0fe",
   "metadata": {},
   "source": [
    "The test set. You need to forecast the sales for these shops and products for November 2015."
   ]
  },
  {
   "cell_type": "code",
   "execution_count": 132,
   "id": "31930bc7-f014-437e-a112-369453229385",
   "metadata": {},
   "outputs": [
    {
     "name": "stdout",
     "output_type": "stream",
     "text": [
      "(214200, 3)\n"
     ]
    },
    {
     "data": {
      "text/html": [
       "<div>\n",
       "<style scoped>\n",
       "    .dataframe tbody tr th:only-of-type {\n",
       "        vertical-align: middle;\n",
       "    }\n",
       "\n",
       "    .dataframe tbody tr th {\n",
       "        vertical-align: top;\n",
       "    }\n",
       "\n",
       "    .dataframe thead th {\n",
       "        text-align: right;\n",
       "    }\n",
       "</style>\n",
       "<table border=\"1\" class=\"dataframe\">\n",
       "  <thead>\n",
       "    <tr style=\"text-align: right;\">\n",
       "      <th></th>\n",
       "      <th>ID</th>\n",
       "      <th>shop_id</th>\n",
       "      <th>item_id</th>\n",
       "    </tr>\n",
       "  </thead>\n",
       "  <tbody>\n",
       "    <tr>\n",
       "      <th>0</th>\n",
       "      <td>0</td>\n",
       "      <td>5</td>\n",
       "      <td>5037</td>\n",
       "    </tr>\n",
       "    <tr>\n",
       "      <th>1</th>\n",
       "      <td>1</td>\n",
       "      <td>5</td>\n",
       "      <td>5320</td>\n",
       "    </tr>\n",
       "  </tbody>\n",
       "</table>\n",
       "</div>"
      ],
      "text/plain": [
       "   ID  shop_id  item_id\n",
       "0   0        5     5037\n",
       "1   1        5     5320"
      ]
     },
     "execution_count": 132,
     "metadata": {},
     "output_type": "execute_result"
    }
   ],
   "source": [
    "sales_test = pd.read_csv('Data/test.csv')\n",
    "print(sales_test.shape)\n",
    "sales_test.head(2)"
   ]
  },
  {
   "cell_type": "code",
   "execution_count": 133,
   "id": "c4000289-8a8c-4b53-96eb-d1c070e4318e",
   "metadata": {},
   "outputs": [
    {
     "data": {
      "text/plain": [
       "ID         0\n",
       "shop_id    0\n",
       "item_id    0\n",
       "dtype: int64"
      ]
     },
     "execution_count": 133,
     "metadata": {},
     "output_type": "execute_result"
    }
   ],
   "source": [
    "sales_test.isna().sum()\n",
    "#sales_train.isna().sum()"
   ]
  },
  {
   "cell_type": "code",
   "execution_count": 134,
   "id": "78adb281-0f59-48ce-bcf8-f80bcaea7e3d",
   "metadata": {},
   "outputs": [
    {
     "data": {
      "text/plain": [
       "ID         int64\n",
       "shop_id    int64\n",
       "item_id    int64\n",
       "dtype: object"
      ]
     },
     "execution_count": 134,
     "metadata": {},
     "output_type": "execute_result"
    }
   ],
   "source": [
    "sales_test.dtypes"
   ]
  },
  {
   "cell_type": "code",
   "execution_count": 135,
   "id": "c41be017-d06f-4fe0-8a69-26611a1c9170",
   "metadata": {},
   "outputs": [],
   "source": [
    "#sales_test['shop_id'].nunique()"
   ]
  },
  {
   "cell_type": "code",
   "execution_count": 136,
   "id": "d6e39ccf-44ec-484f-8c71-7eddd27a4f3b",
   "metadata": {},
   "outputs": [
    {
     "data": {
      "text/plain": [
       "2049     42\n",
       "6743     42\n",
       "13266    42\n",
       "21342    42\n",
       "17244    42\n",
       "         ..\n",
       "7338     42\n",
       "1193     42\n",
       "3240     42\n",
       "13359    42\n",
       "2047     42\n",
       "Name: item_id, Length: 5100, dtype: int64"
      ]
     },
     "execution_count": 136,
     "metadata": {},
     "output_type": "execute_result"
    }
   ],
   "source": [
    "sales_test['item_id'].value_counts()"
   ]
  },
  {
   "cell_type": "markdown",
   "id": "0ac712ba-4b48-465d-b299-a815457ee296",
   "metadata": {},
   "source": [
    "Each item type appears 42 times in the test_data. 5100/22170 item types are represented in the test set."
   ]
  },
  {
   "cell_type": "markdown",
   "id": "d2c493b5-01cb-4fe0-a268-fe59a5f8aa5e",
   "metadata": {},
   "source": [
    "# 3. Data Cleaning <a id='data_cleaning'></a>\n",
    "[Back to top](#table_of_contents)"
   ]
  },
  {
   "cell_type": "markdown",
   "id": "7eb8ebb8",
   "metadata": {},
   "source": [
    "1. Removing duplicates\n",
    "2. Negative item_cnt_day  \n",
    "3. Negative item prices  \n",
    "4. Outlier prices and cnt_days"
   ]
  },
  {
   "cell_type": "code",
   "execution_count": 137,
   "id": "e2d28ee8",
   "metadata": {},
   "outputs": [],
   "source": [
    "sales_train.loc[sales_train.shop_id==0, 'shop_id'] = 57\n",
    "sales_train.loc[sales_train.shop_id==1, 'shop_id'] = 58\n",
    "sales_train.loc[sales_train.shop_id==10, 'shop_id'] = 11\n",
    "\n",
    "sales_test.loc[sales_test.shop_id==0, 'shop_id'] = 57\n",
    "sales_test.loc[sales_test.shop_id==1, 'shop_id'] = 58\n",
    "sales_test.loc[sales_test.shop_id==10, 'shop_id'] = 11"
   ]
  },
  {
   "cell_type": "code",
   "execution_count": 138,
   "id": "04d910b5",
   "metadata": {},
   "outputs": [
    {
     "data": {
      "text/plain": [
       "7356"
      ]
     },
     "execution_count": 138,
     "metadata": {},
     "output_type": "execute_result"
    }
   ],
   "source": [
    "sales_train_cleaned = sales_train.copy()\n",
    "len(sales_train_cleaned[(sales_train_cleaned['item_cnt_day']<0)])"
   ]
  },
  {
   "cell_type": "markdown",
   "id": "f225dcdf",
   "metadata": {},
   "source": [
    "7356 is not a significant amount of data points to remove given the size of the whole dataset. Thus, I prefer removing them."
   ]
  },
  {
   "cell_type": "code",
   "execution_count": 139,
   "id": "77ca4652",
   "metadata": {},
   "outputs": [
    {
     "name": "stdout",
     "output_type": "stream",
     "text": [
      "(2935849, 6)\n",
      "(2928493, 6)\n"
     ]
    }
   ],
   "source": [
    "print(sales_train_cleaned.shape)\n",
    "sales_train_cleaned = sales_train_cleaned[(sales_train_cleaned['item_cnt_day']>0)]\n",
    "print(sales_train_cleaned.shape)"
   ]
  },
  {
   "cell_type": "code",
   "execution_count": 140,
   "id": "328984c1",
   "metadata": {},
   "outputs": [
    {
     "name": "stdout",
     "output_type": "stream",
     "text": [
      "(2928491, 6)\n"
     ]
    }
   ],
   "source": [
    "sales_train_cleaned = sales_train_cleaned[(sales_train_cleaned['item_price']>0) & (sales_train_cleaned['item_price']<100000)]\n",
    "print(sales_train_cleaned.shape)"
   ]
  },
  {
   "cell_type": "code",
   "execution_count": 141,
   "id": "319461f2",
   "metadata": {},
   "outputs": [
    {
     "data": {
      "text/html": [
       "<div>\n",
       "<style scoped>\n",
       "    .dataframe tbody tr th:only-of-type {\n",
       "        vertical-align: middle;\n",
       "    }\n",
       "\n",
       "    .dataframe tbody tr th {\n",
       "        vertical-align: top;\n",
       "    }\n",
       "\n",
       "    .dataframe thead th {\n",
       "        text-align: right;\n",
       "    }\n",
       "</style>\n",
       "<table border=\"1\" class=\"dataframe\">\n",
       "  <thead>\n",
       "    <tr style=\"text-align: right;\">\n",
       "      <th></th>\n",
       "      <th>date</th>\n",
       "      <th>date_block_num</th>\n",
       "      <th>shop_id</th>\n",
       "      <th>item_id</th>\n",
       "      <th>item_price</th>\n",
       "      <th>item_cnt_day</th>\n",
       "    </tr>\n",
       "  </thead>\n",
       "  <tbody>\n",
       "    <tr>\n",
       "      <th>885138</th>\n",
       "      <td>17.09.2013</td>\n",
       "      <td>8</td>\n",
       "      <td>12</td>\n",
       "      <td>11365</td>\n",
       "      <td>59200.0</td>\n",
       "      <td>1.0</td>\n",
       "    </tr>\n",
       "    <tr>\n",
       "      <th>1488135</th>\n",
       "      <td>20.03.2014</td>\n",
       "      <td>14</td>\n",
       "      <td>25</td>\n",
       "      <td>13199</td>\n",
       "      <td>50999.0</td>\n",
       "      <td>1.0</td>\n",
       "    </tr>\n",
       "    <tr>\n",
       "      <th>2327159</th>\n",
       "      <td>29.01.2015</td>\n",
       "      <td>24</td>\n",
       "      <td>12</td>\n",
       "      <td>7241</td>\n",
       "      <td>49782.0</td>\n",
       "      <td>1.0</td>\n",
       "    </tr>\n",
       "    <tr>\n",
       "      <th>2910156</th>\n",
       "      <td>29.10.2015</td>\n",
       "      <td>33</td>\n",
       "      <td>12</td>\n",
       "      <td>13403</td>\n",
       "      <td>42990.0</td>\n",
       "      <td>1.0</td>\n",
       "    </tr>\n",
       "    <tr>\n",
       "      <th>2931380</th>\n",
       "      <td>20.10.2015</td>\n",
       "      <td>33</td>\n",
       "      <td>22</td>\n",
       "      <td>13403</td>\n",
       "      <td>42990.0</td>\n",
       "      <td>1.0</td>\n",
       "    </tr>\n",
       "    <tr>\n",
       "      <th>2917760</th>\n",
       "      <td>20.10.2015</td>\n",
       "      <td>33</td>\n",
       "      <td>3</td>\n",
       "      <td>13403</td>\n",
       "      <td>42990.0</td>\n",
       "      <td>1.0</td>\n",
       "    </tr>\n",
       "    <tr>\n",
       "      <th>2885692</th>\n",
       "      <td>23.10.2015</td>\n",
       "      <td>33</td>\n",
       "      <td>42</td>\n",
       "      <td>13403</td>\n",
       "      <td>42990.0</td>\n",
       "      <td>1.0</td>\n",
       "    </tr>\n",
       "  </tbody>\n",
       "</table>\n",
       "</div>"
      ],
      "text/plain": [
       "               date  date_block_num  shop_id  item_id  item_price  \\\n",
       "885138   17.09.2013               8       12    11365     59200.0   \n",
       "1488135  20.03.2014              14       25    13199     50999.0   \n",
       "2327159  29.01.2015              24       12     7241     49782.0   \n",
       "2910156  29.10.2015              33       12    13403     42990.0   \n",
       "2931380  20.10.2015              33       22    13403     42990.0   \n",
       "2917760  20.10.2015              33        3    13403     42990.0   \n",
       "2885692  23.10.2015              33       42    13403     42990.0   \n",
       "\n",
       "         item_cnt_day  \n",
       "885138            1.0  \n",
       "1488135           1.0  \n",
       "2327159           1.0  \n",
       "2910156           1.0  \n",
       "2931380           1.0  \n",
       "2917760           1.0  \n",
       "2885692           1.0  "
      ]
     },
     "execution_count": 141,
     "metadata": {},
     "output_type": "execute_result"
    }
   ],
   "source": [
    "sales_train_cleaned.sort_values('item_price', ascending=False).head(7)"
   ]
  },
  {
   "cell_type": "code",
   "execution_count": 142,
   "id": "979ef5db",
   "metadata": {},
   "outputs": [
    {
     "data": {
      "text/html": [
       "<div>\n",
       "<style scoped>\n",
       "    .dataframe tbody tr th:only-of-type {\n",
       "        vertical-align: middle;\n",
       "    }\n",
       "\n",
       "    .dataframe tbody tr th {\n",
       "        vertical-align: top;\n",
       "    }\n",
       "\n",
       "    .dataframe thead th {\n",
       "        text-align: right;\n",
       "    }\n",
       "</style>\n",
       "<table border=\"1\" class=\"dataframe\">\n",
       "  <thead>\n",
       "    <tr style=\"text-align: right;\">\n",
       "      <th></th>\n",
       "      <th>item_name</th>\n",
       "      <th>item_id</th>\n",
       "      <th>item_category_id</th>\n",
       "    </tr>\n",
       "  </thead>\n",
       "  <tbody>\n",
       "    <tr>\n",
       "      <th>13199</th>\n",
       "      <td>Коллекционные шахматы (Властелин Колец)</td>\n",
       "      <td>13199</td>\n",
       "      <td>69</td>\n",
       "    </tr>\n",
       "  </tbody>\n",
       "</table>\n",
       "</div>"
      ],
      "text/plain": [
       "                                     item_name  item_id  item_category_id\n",
       "13199  Коллекционные шахматы (Властелин Колец)    13199                69"
      ]
     },
     "execution_count": 142,
     "metadata": {},
     "output_type": "execute_result"
    }
   ],
   "source": [
    "item_list[item_list['item_id']==13199] #made up a number"
   ]
  },
  {
   "cell_type": "markdown",
   "id": "01f02285",
   "metadata": {},
   "source": [
    "This is a Lord of the Rings Chess Set. In 2021, it costs 731 USD which makes this datapoint a meaningful one."
   ]
  },
  {
   "cell_type": "markdown",
   "id": "1fc47616",
   "metadata": {},
   "source": [
    "# 4. Data Preparation<a id='data_preparation'></a>\n",
    "[Back to top](#table_of_contents)"
   ]
  },
  {
   "cell_type": "code",
   "execution_count": 143,
   "id": "cf2a6eb3-f498-4190-95d3-31ae5e406e9a",
   "metadata": {},
   "outputs": [],
   "source": [
    "sales_train_prepared = sales_train_cleaned.copy()"
   ]
  },
  {
   "cell_type": "code",
   "execution_count": 144,
   "id": "03d4bdc8",
   "metadata": {},
   "outputs": [
    {
     "data": {
      "text/plain": [
       "date               object\n",
       "date_block_num      int64\n",
       "shop_id             int64\n",
       "item_id             int64\n",
       "item_price        float64\n",
       "item_cnt_day      float64\n",
       "dtype: object"
      ]
     },
     "execution_count": 144,
     "metadata": {},
     "output_type": "execute_result"
    }
   ],
   "source": [
    "sales_train_prepared.dtypes"
   ]
  },
  {
   "cell_type": "markdown",
   "id": "f7a7dd8c",
   "metadata": {},
   "source": [
    "Let's convert the date into datetime."
   ]
  },
  {
   "cell_type": "code",
   "execution_count": 145,
   "id": "758a3453-e72a-41ff-ae6a-3df9d950117a",
   "metadata": {},
   "outputs": [
    {
     "data": {
      "text/html": [
       "<div>\n",
       "<style scoped>\n",
       "    .dataframe tbody tr th:only-of-type {\n",
       "        vertical-align: middle;\n",
       "    }\n",
       "\n",
       "    .dataframe tbody tr th {\n",
       "        vertical-align: top;\n",
       "    }\n",
       "\n",
       "    .dataframe thead th {\n",
       "        text-align: right;\n",
       "    }\n",
       "</style>\n",
       "<table border=\"1\" class=\"dataframe\">\n",
       "  <thead>\n",
       "    <tr style=\"text-align: right;\">\n",
       "      <th></th>\n",
       "      <th>date</th>\n",
       "      <th>date_block_num</th>\n",
       "      <th>shop_id</th>\n",
       "      <th>item_id</th>\n",
       "      <th>item_price</th>\n",
       "      <th>item_cnt_day</th>\n",
       "      <th>salesYear</th>\n",
       "      <th>salesMonth</th>\n",
       "      <th>salesDay</th>\n",
       "    </tr>\n",
       "  </thead>\n",
       "  <tbody>\n",
       "    <tr>\n",
       "      <th>0</th>\n",
       "      <td>2013-01-02</td>\n",
       "      <td>0</td>\n",
       "      <td>59</td>\n",
       "      <td>22154</td>\n",
       "      <td>999.00</td>\n",
       "      <td>1.0</td>\n",
       "      <td>2013</td>\n",
       "      <td>1</td>\n",
       "      <td>2</td>\n",
       "    </tr>\n",
       "    <tr>\n",
       "      <th>1</th>\n",
       "      <td>2013-01-03</td>\n",
       "      <td>0</td>\n",
       "      <td>25</td>\n",
       "      <td>2552</td>\n",
       "      <td>899.00</td>\n",
       "      <td>1.0</td>\n",
       "      <td>2013</td>\n",
       "      <td>1</td>\n",
       "      <td>3</td>\n",
       "    </tr>\n",
       "    <tr>\n",
       "      <th>3</th>\n",
       "      <td>2013-01-06</td>\n",
       "      <td>0</td>\n",
       "      <td>25</td>\n",
       "      <td>2554</td>\n",
       "      <td>1709.05</td>\n",
       "      <td>1.0</td>\n",
       "      <td>2013</td>\n",
       "      <td>1</td>\n",
       "      <td>6</td>\n",
       "    </tr>\n",
       "    <tr>\n",
       "      <th>4</th>\n",
       "      <td>2013-01-15</td>\n",
       "      <td>0</td>\n",
       "      <td>25</td>\n",
       "      <td>2555</td>\n",
       "      <td>1099.00</td>\n",
       "      <td>1.0</td>\n",
       "      <td>2013</td>\n",
       "      <td>1</td>\n",
       "      <td>15</td>\n",
       "    </tr>\n",
       "    <tr>\n",
       "      <th>5</th>\n",
       "      <td>2013-01-10</td>\n",
       "      <td>0</td>\n",
       "      <td>25</td>\n",
       "      <td>2564</td>\n",
       "      <td>349.00</td>\n",
       "      <td>1.0</td>\n",
       "      <td>2013</td>\n",
       "      <td>1</td>\n",
       "      <td>10</td>\n",
       "    </tr>\n",
       "  </tbody>\n",
       "</table>\n",
       "</div>"
      ],
      "text/plain": [
       "        date  date_block_num  shop_id  item_id  item_price  item_cnt_day  \\\n",
       "0 2013-01-02               0       59    22154      999.00           1.0   \n",
       "1 2013-01-03               0       25     2552      899.00           1.0   \n",
       "3 2013-01-06               0       25     2554     1709.05           1.0   \n",
       "4 2013-01-15               0       25     2555     1099.00           1.0   \n",
       "5 2013-01-10               0       25     2564      349.00           1.0   \n",
       "\n",
       "   salesYear  salesMonth  salesDay  \n",
       "0       2013           1         2  \n",
       "1       2013           1         3  \n",
       "3       2013           1         6  \n",
       "4       2013           1        15  \n",
       "5       2013           1        10  "
      ]
     },
     "execution_count": 145,
     "metadata": {},
     "output_type": "execute_result"
    }
   ],
   "source": [
    "sales_train_prepared['date'] = pd.to_datetime(sales_train_prepared['date'], dayfirst=True)\n",
    "\n",
    "sales_train_prepared['salesYear'] = sales_train_prepared['date'].dt.year\n",
    "sales_train_prepared['salesMonth'] = sales_train_prepared['date'].dt.month\n",
    "sales_train_prepared['salesDay'] = sales_train_prepared['date'].dt.day\n",
    "sales_train_prepared.head()"
   ]
  },
  {
   "cell_type": "code",
   "execution_count": 146,
   "id": "b1da8363-dfc1-427a-b106-ec7a3d43a16b",
   "metadata": {},
   "outputs": [
    {
     "data": {
      "text/html": [
       "<div>\n",
       "<style scoped>\n",
       "    .dataframe tbody tr th:only-of-type {\n",
       "        vertical-align: middle;\n",
       "    }\n",
       "\n",
       "    .dataframe tbody tr th {\n",
       "        vertical-align: top;\n",
       "    }\n",
       "\n",
       "    .dataframe thead th {\n",
       "        text-align: right;\n",
       "    }\n",
       "</style>\n",
       "<table border=\"1\" class=\"dataframe\">\n",
       "  <thead>\n",
       "    <tr style=\"text-align: right;\">\n",
       "      <th></th>\n",
       "      <th>date</th>\n",
       "      <th>date_block_num</th>\n",
       "      <th>shop_id</th>\n",
       "      <th>item_id</th>\n",
       "      <th>item_price</th>\n",
       "      <th>item_cnt_day</th>\n",
       "      <th>salesYear</th>\n",
       "      <th>salesMonth</th>\n",
       "      <th>salesDay</th>\n",
       "      <th>item_category_id</th>\n",
       "      <th>city</th>\n",
       "      <th>city_id</th>\n",
       "    </tr>\n",
       "  </thead>\n",
       "  <tbody>\n",
       "    <tr>\n",
       "      <th>0</th>\n",
       "      <td>2013-01-02</td>\n",
       "      <td>0</td>\n",
       "      <td>59</td>\n",
       "      <td>22154</td>\n",
       "      <td>999.0</td>\n",
       "      <td>1.0</td>\n",
       "      <td>2013</td>\n",
       "      <td>1</td>\n",
       "      <td>2</td>\n",
       "      <td>37</td>\n",
       "      <td>Ярославль</td>\n",
       "      <td>30</td>\n",
       "    </tr>\n",
       "    <tr>\n",
       "      <th>1</th>\n",
       "      <td>2013-01-03</td>\n",
       "      <td>0</td>\n",
       "      <td>25</td>\n",
       "      <td>2552</td>\n",
       "      <td>899.0</td>\n",
       "      <td>1.0</td>\n",
       "      <td>2013</td>\n",
       "      <td>1</td>\n",
       "      <td>3</td>\n",
       "      <td>58</td>\n",
       "      <td>Москва</td>\n",
       "      <td>14</td>\n",
       "    </tr>\n",
       "  </tbody>\n",
       "</table>\n",
       "</div>"
      ],
      "text/plain": [
       "        date  date_block_num  shop_id  item_id  item_price  item_cnt_day  \\\n",
       "0 2013-01-02               0       59    22154       999.0           1.0   \n",
       "1 2013-01-03               0       25     2552       899.0           1.0   \n",
       "\n",
       "   salesYear  salesMonth  salesDay  item_category_id       city  city_id  \n",
       "0       2013           1         2                37  Ярославль       30  \n",
       "1       2013           1         3                58     Москва       14  "
      ]
     },
     "execution_count": 146,
     "metadata": {},
     "output_type": "execute_result"
    }
   ],
   "source": [
    "#item_id_list = item_list[['item_id', 'item_category_id']]\n",
    "sales_train_prepared = sales_train_prepared.merge(item_id_list, left_on='item_id', right_on='item_id', how='left')\n",
    "sales_train_prepared = sales_train_prepared.merge(shops_info[['shop_id', 'city', 'city_id']], left_on='shop_id', right_on='shop_id', how='left')\n",
    "\n",
    "sales_train_prepared.head(2)"
   ]
  },
  {
   "cell_type": "markdown",
   "id": "c0e80ac0",
   "metadata": {},
   "source": [
    "item_id, shop_id, city_id_ item_category_id, date_block_num are not numerical values since item_id 5 is not bigger than item_id 3 or so on. I will convert them into strings."
   ]
  },
  {
   "cell_type": "code",
   "execution_count": 147,
   "id": "f559b916",
   "metadata": {},
   "outputs": [],
   "source": [
    "#sales_train_prepared.loc[:, 'item_id'] = sales_train_prepared['item_id'].astype(str)\n",
    "#sales_train_prepared.loc[:, 'item_category_id'] = sales_train_prepared['item_category_id'].astype(str)\n",
    "#sales_train_prepared.loc[:, 'date_block_num'] = sales_train_prepared['date_block_num'].astype(str)\n",
    "#sales_train_prepared.loc[:, 'shop_id'] = sales_train_prepared['shop_id'].astype(str)"
   ]
  },
  {
   "cell_type": "code",
   "execution_count": 148,
   "id": "5cdf9e5b",
   "metadata": {},
   "outputs": [
    {
     "data": {
      "text/html": [
       "<div>\n",
       "<style scoped>\n",
       "    .dataframe tbody tr th:only-of-type {\n",
       "        vertical-align: middle;\n",
       "    }\n",
       "\n",
       "    .dataframe tbody tr th {\n",
       "        vertical-align: top;\n",
       "    }\n",
       "\n",
       "    .dataframe thead th {\n",
       "        text-align: right;\n",
       "    }\n",
       "</style>\n",
       "<table border=\"1\" class=\"dataframe\">\n",
       "  <thead>\n",
       "    <tr style=\"text-align: right;\">\n",
       "      <th></th>\n",
       "      <th>salesYear</th>\n",
       "      <th>total_cnt_year</th>\n",
       "    </tr>\n",
       "  </thead>\n",
       "  <tbody>\n",
       "    <tr>\n",
       "      <th>0</th>\n",
       "      <td>2013</td>\n",
       "      <td>1565895.0</td>\n",
       "    </tr>\n",
       "    <tr>\n",
       "      <th>1</th>\n",
       "      <td>2014</td>\n",
       "      <td>1323594.0</td>\n",
       "    </tr>\n",
       "  </tbody>\n",
       "</table>\n",
       "</div>"
      ],
      "text/plain": [
       "   salesYear  total_cnt_year\n",
       "0       2013       1565895.0\n",
       "1       2014       1323594.0"
      ]
     },
     "execution_count": 148,
     "metadata": {},
     "output_type": "execute_result"
    }
   ],
   "source": [
    "sales_train_grouped_by_year = sales_train_prepared.groupby(['salesYear']).agg({'item_cnt_day':'sum'}).rename(columns={'item_cnt_day':'total_cnt_year'}, inplace=False).reset_index()\n",
    "sales_train_grouped_by_year.head(2)"
   ]
  },
  {
   "cell_type": "code",
   "execution_count": 149,
   "id": "77555fe2",
   "metadata": {},
   "outputs": [
    {
     "data": {
      "text/html": [
       "<div>\n",
       "<style scoped>\n",
       "    .dataframe tbody tr th:only-of-type {\n",
       "        vertical-align: middle;\n",
       "    }\n",
       "\n",
       "    .dataframe tbody tr th {\n",
       "        vertical-align: top;\n",
       "    }\n",
       "\n",
       "    .dataframe thead th {\n",
       "        text-align: right;\n",
       "    }\n",
       "</style>\n",
       "<table border=\"1\" class=\"dataframe\">\n",
       "  <thead>\n",
       "    <tr style=\"text-align: right;\">\n",
       "      <th></th>\n",
       "      <th>salesYear</th>\n",
       "      <th>salesMonth</th>\n",
       "      <th>total_cnt_month</th>\n",
       "    </tr>\n",
       "  </thead>\n",
       "  <tbody>\n",
       "    <tr>\n",
       "      <th>0</th>\n",
       "      <td>2013</td>\n",
       "      <td>1</td>\n",
       "      <td>131850.0</td>\n",
       "    </tr>\n",
       "    <tr>\n",
       "      <th>1</th>\n",
       "      <td>2013</td>\n",
       "      <td>2</td>\n",
       "      <td>128382.0</td>\n",
       "    </tr>\n",
       "  </tbody>\n",
       "</table>\n",
       "</div>"
      ],
      "text/plain": [
       "   salesYear  salesMonth  total_cnt_month\n",
       "0       2013           1         131850.0\n",
       "1       2013           2         128382.0"
      ]
     },
     "execution_count": 149,
     "metadata": {},
     "output_type": "execute_result"
    }
   ],
   "source": [
    "sales_train_grouped_by_month = sales_train_prepared.groupby(['salesYear', 'salesMonth']).agg({'item_cnt_day':'sum'}).rename(columns={'item_cnt_day':'total_cnt_month'}, inplace=False).reset_index()\n",
    "sales_train_grouped_by_month.head(2)"
   ]
  },
  {
   "cell_type": "code",
   "execution_count": 150,
   "id": "c204b559",
   "metadata": {},
   "outputs": [
    {
     "data": {
      "image/png": "[encoded data removed]",
      "text/plain": [
       "<Figure size 1080x360 with 1 Axes>"
      ]
     },
     "metadata": {
      "needs_background": "light"
     },
     "output_type": "display_data"
    }
   ],
   "source": [
    "plt.figure(figsize=(15,5))\n",
    "# Plot the sales of the year 2013\n",
    "plt.plot(sales_train_grouped_by_month[sales_train_grouped_by_month['salesYear']==2013]['salesMonth'], sales_train_grouped_by_month[sales_train_grouped_by_month['salesYear']==2013]['total_cnt_month'], '-o', color='steelblue', linewidth=1, label='2013')\n",
    "plt.plot(sales_train_grouped_by_month[sales_train_grouped_by_month['salesYear']==2014]['salesMonth'], sales_train_grouped_by_month[sales_train_grouped_by_month['salesYear']==2014]['total_cnt_month'], '-o', color='purple', linewidth=1, label='2014')\n",
    "plt.plot(sales_train_grouped_by_month[sales_train_grouped_by_month['salesYear']==2015]['salesMonth'], sales_train_grouped_by_month[sales_train_grouped_by_month['salesYear']==2015]['total_cnt_month'], '-o', color='orange', linewidth=1, label='2015')\n",
    "plt.legend(fontsize=14)\n",
    "plt.xticks(fontsize=13)\n",
    "plt.yticks(fontsize=13)\n",
    "plt.xlabel('Months', fontsize=14)\n",
    "plt.ylabel('Total Sale', fontsize=14)\n",
    "\n",
    "ax = plt.gca()\n",
    "ax.grid(axis='both', color='gray', alpha=.2)\n",
    "#ax.xaxis.set_minor_locator(plt.MultipleLocator(1))\n",
    "ax.xaxis.set_ticks(np.arange(1, 13, 1))\n",
    "plt.show()"
   ]
  },
  {
   "cell_type": "code",
   "execution_count": 153,
   "id": "6a198d7c",
   "metadata": {},
   "outputs": [
    {
     "data": {
      "text/plain": [
       "date                datetime64[ns]\n",
       "date_block_num               int64\n",
       "shop_id                      int64\n",
       "item_id                      int64\n",
       "item_price                 float64\n",
       "item_cnt_day                 int64\n",
       "salesYear                    int64\n",
       "salesMonth                   int64\n",
       "salesDay                     int64\n",
       "item_category_id             int64\n",
       "city                        object\n",
       "city_id                      int64\n",
       "dtype: object"
      ]
     },
     "execution_count": 153,
     "metadata": {},
     "output_type": "execute_result"
    }
   ],
   "source": [
    "sales_train_prepared.loc[:,'item_cnt_day'] = sales_train_prepared['item_cnt_day'].astype(int)\n",
    "sales_train_prepared.dtypes"
   ]
  },
  {
   "cell_type": "code",
   "execution_count": 154,
   "id": "1502927b",
   "metadata": {},
   "outputs": [
    {
     "name": "stdout",
     "output_type": "stream",
     "text": [
      "(40317, 3)\n"
     ]
    },
    {
     "data": {
      "text/html": [
       "<div>\n",
       "<style scoped>\n",
       "    .dataframe tbody tr th:only-of-type {\n",
       "        vertical-align: middle;\n",
       "    }\n",
       "\n",
       "    .dataframe tbody tr th {\n",
       "        vertical-align: top;\n",
       "    }\n",
       "\n",
       "    .dataframe thead th {\n",
       "        text-align: right;\n",
       "    }\n",
       "</style>\n",
       "<table border=\"1\" class=\"dataframe\">\n",
       "  <thead>\n",
       "    <tr style=\"text-align: right;\">\n",
       "      <th></th>\n",
       "      <th>salesYear</th>\n",
       "      <th>item_id</th>\n",
       "      <th>total_cnt_year</th>\n",
       "    </tr>\n",
       "  </thead>\n",
       "  <tbody>\n",
       "    <tr>\n",
       "      <th>0</th>\n",
       "      <td>2013</td>\n",
       "      <td>12</td>\n",
       "      <td>1</td>\n",
       "    </tr>\n",
       "    <tr>\n",
       "      <th>1</th>\n",
       "      <td>2013</td>\n",
       "      <td>19</td>\n",
       "      <td>1</td>\n",
       "    </tr>\n",
       "  </tbody>\n",
       "</table>\n",
       "</div>"
      ],
      "text/plain": [
       "   salesYear  item_id  total_cnt_year\n",
       "0       2013       12               1\n",
       "1       2013       19               1"
      ]
     },
     "execution_count": 154,
     "metadata": {},
     "output_type": "execute_result"
    }
   ],
   "source": [
    "sales_train_grouped_by_item = sales_train_prepared.groupby(['salesYear', 'item_id']).agg({'item_cnt_day':'sum'}).reset_index().rename(columns={'item_cnt_day':'total_cnt_year'})\n",
    "print(sales_train_grouped_by_item.shape)\n",
    "#sales_train_grouped_by_item.loc[:,'item_id'] = sales_train_grouped_by_item['item_id'].astype(str)\n",
    "sales_items_2013 = sales_train_grouped_by_item[sales_train_grouped_by_item['salesYear']==2013].sort_values('total_cnt_year', ascending=False).reset_index()\n",
    "sales_items_2014 = sales_train_grouped_by_item[sales_train_grouped_by_item['salesYear']==2014].sort_values('total_cnt_year', ascending=False).reset_index()\n",
    "sales_items_2015 = sales_train_grouped_by_item[sales_train_grouped_by_item['salesYear']==2015].sort_values('total_cnt_year', ascending=False).reset_index()\n",
    "\n",
    "sales_train_grouped_by_item.head(2)"
   ]
  },
  {
   "cell_type": "code",
   "execution_count": 155,
   "id": "1b6606c4",
   "metadata": {},
   "outputs": [
    {
     "data": {
      "image/png": "[encoded data removed]",
      "text/plain": [
       "<Figure size 1512x360 with 3 Axes>"
      ]
     },
     "metadata": {
      "needs_background": "light"
     },
     "output_type": "display_data"
    }
   ],
   "source": [
    "plt.rcParams.update({'font.size': 13}) # must set in top\n",
    "\n",
    "fig, axes = plt.subplots(nrows=1, ncols=3, figsize=[21, 5])\n",
    "\n",
    "sales_items_2013[0:15].plot(ax=axes[0], x='item_id', y='total_cnt_year', kind='barh', title='2013', label = 'total sales')\n",
    "sales_items_2014[0:15].plot(ax=axes[1], x='item_id', y='total_cnt_year', kind='barh', title='2014', label = 'total sales')\n",
    "sales_items_2015[0:15].plot(ax=axes[2], x='item_id', y='total_cnt_year', kind='barh', title='2015', label = 'total sales')\n",
    "\n",
    "for i in (0,1,2):\n",
    "    axes[i].set_ylabel('item ID')\n",
    "    axes[i].set_xlabel('item price')"
   ]
  },
  {
   "cell_type": "markdown",
   "id": "1be89233",
   "metadata": {},
   "source": [
    "<b> Plotting # of product sold per category during Jan 2013-Oct 2015: item_category_id vs item_cnt_day </b>"
   ]
  },
  {
   "cell_type": "code",
   "execution_count": 156,
   "id": "5239d6e3",
   "metadata": {},
   "outputs": [
    {
     "data": {
      "image/png": "[encoded data removed]",
      "text/plain": [
       "<Figure size 1080x288 with 1 Axes>"
      ]
     },
     "metadata": {
      "needs_background": "light"
     },
     "output_type": "display_data"
    }
   ],
   "source": [
    "#sales_train_grouped_by_category.loc[:, 'item_category_id']=sales_train_grouped_by_category['item_category_id'].astype(int)\n",
    "plt.rcParams.update({'font.size': 14}) # must set in top\n",
    "\n",
    "sales_train_grouped_by_category = sales_train_prepared.groupby(['item_category_id', 'salesYear']).agg({'item_cnt_day': 'sum'}).reset_index().rename(columns={'item_cnt_day':'total_cnt'})\n",
    "sales_train_grouped_by_category = sales_train_grouped_by_category.sort_values('item_category_id')\n",
    "#sales_train_grouped_by_category.reset_index().plot(y='total_cnt', x='item_category_id', kind='line', figsize=(20,5), xlabel='category ID', ylabel='total sales', fontsize=14)\n",
    "\n",
    "fig, ax = plt.subplots(figsize=(15,4))\n",
    "plt.plot(sales_train_grouped_by_category[sales_train_grouped_by_category['salesYear']==2013]['item_category_id'], sales_train_grouped_by_category[sales_train_grouped_by_category['salesYear']==2013]['total_cnt'], color='steelblue', linewidth=2, label='2013')\n",
    "plt.plot(sales_train_grouped_by_category[sales_train_grouped_by_category['salesYear']==2014]['item_category_id'], sales_train_grouped_by_category[sales_train_grouped_by_category['salesYear']==2014]['total_cnt'], color='purple', linewidth=2, label='2014')\n",
    "plt.plot(sales_train_grouped_by_category[sales_train_grouped_by_category['salesYear']==2015]['item_category_id'], sales_train_grouped_by_category[sales_train_grouped_by_category['salesYear']==2015]['total_cnt'], color='orange', linewidth=2, label='2015')\n",
    "\n",
    "ax = plt.gca()\n",
    "ax.set_xlabel('Item Category ID')\n",
    "ax.set_ylabel('Total Sale')\n",
    "ax.legend()\n",
    "ax.grid(axis='both', color='gray', alpha=.2)\n",
    "ax.xaxis.set_ticks(np.arange(0, 90, 5))\n",
    "\n",
    "plt.show()\n"
   ]
  },
  {
   "cell_type": "markdown",
   "id": "f729211e-edf0-435c-b542-95a21ff5620f",
   "metadata": {},
   "source": [
    "<b> Plotting # of products sold over the months and the years: date_block_num vs item_cnt_day </b>"
   ]
  },
  {
   "cell_type": "code",
   "execution_count": 157,
   "id": "4416c9a7-6c36-4e81-b8ac-4a031e5bf36c",
   "metadata": {},
   "outputs": [
    {
     "data": {
      "text/plain": [
       "<AxesSubplot:xlabel='date_block_num'>"
      ]
     },
     "execution_count": 157,
     "metadata": {},
     "output_type": "execute_result"
    },
    {
     "data": {
      "image/png": "[encoded data removed]",
      "text/plain": [
       "<Figure size 864x288 with 1 Axes>"
      ]
     },
     "metadata": {
      "needs_background": "light"
     },
     "output_type": "display_data"
    }
   ],
   "source": [
    "sales_train_grouped_by_block = sales_train_prepared.groupby(['date_block_num']).agg({'item_cnt_day': 'sum'}).reset_index().rename(columns={'item_cnt_day':'total_cnt_month'})\n",
    "sales_train_grouped_by_block.columns\n",
    "sales_train_grouped_by_block.plot(y='total_cnt_month', x='date_block_num', figsize=(12,4))"
   ]
  },
  {
   "cell_type": "code",
   "execution_count": 158,
   "id": "ee74e3c6",
   "metadata": {},
   "outputs": [],
   "source": [
    "#check\n",
    "#a= sales_train_prepared[sales_train_prepared['date_block_num']==0]['item_cnt_day'].sum()\n",
    "#print(a)\n",
    "#b= sales_train_prepared[sales_train_prepared['date_block_num']==1]['item_cnt_day'].sum()\n",
    "#print(b)\n",
    "#sales_train_grouped_by_block.head(2)"
   ]
  },
  {
   "cell_type": "markdown",
   "id": "3d4c55d1-3de9-4def-8b9c-9ac16d54ebc1",
   "metadata": {},
   "source": [
    "The general trend is a decrease in the sales over time even though there are sharp increases and decreases."
   ]
  },
  {
   "cell_type": "code",
   "execution_count": 159,
   "id": "8dbbe371",
   "metadata": {},
   "outputs": [
    {
     "data": {
      "text/html": [
       "<div>\n",
       "<style scoped>\n",
       "    .dataframe tbody tr th:only-of-type {\n",
       "        vertical-align: middle;\n",
       "    }\n",
       "\n",
       "    .dataframe tbody tr th {\n",
       "        vertical-align: top;\n",
       "    }\n",
       "\n",
       "    .dataframe thead th {\n",
       "        text-align: right;\n",
       "    }\n",
       "</style>\n",
       "<table border=\"1\" class=\"dataframe\">\n",
       "  <thead>\n",
       "    <tr style=\"text-align: right;\">\n",
       "      <th></th>\n",
       "      <th>ID</th>\n",
       "      <th>shop_id</th>\n",
       "      <th>item_id</th>\n",
       "      <th>item_category_id</th>\n",
       "      <th>city</th>\n",
       "      <th>city_id</th>\n",
       "    </tr>\n",
       "  </thead>\n",
       "  <tbody>\n",
       "    <tr>\n",
       "      <th>0</th>\n",
       "      <td>0</td>\n",
       "      <td>5</td>\n",
       "      <td>5037</td>\n",
       "      <td>19</td>\n",
       "      <td>Вологда</td>\n",
       "      <td>4</td>\n",
       "    </tr>\n",
       "    <tr>\n",
       "      <th>1</th>\n",
       "      <td>1</td>\n",
       "      <td>5</td>\n",
       "      <td>5320</td>\n",
       "      <td>55</td>\n",
       "      <td>Вологда</td>\n",
       "      <td>4</td>\n",
       "    </tr>\n",
       "  </tbody>\n",
       "</table>\n",
       "</div>"
      ],
      "text/plain": [
       "   ID  shop_id  item_id  item_category_id     city  city_id\n",
       "0   0        5     5037                19  Вологда        4\n",
       "1   1        5     5320                55  Вологда        4"
      ]
     },
     "execution_count": 159,
     "metadata": {},
     "output_type": "execute_result"
    }
   ],
   "source": [
    "sales_test_prepared = sales_test.merge(item_id_list, left_on='item_id', right_on='item_id', how='left')\n",
    "sales_test_prepared = sales_test_prepared.merge(shops_info[['shop_id', 'city', 'city_id']], left_on='shop_id', right_on='shop_id', how='left')\n",
    "\n",
    "sales_test_prepared.head(2) "
   ]
  },
  {
   "cell_type": "code",
   "execution_count": 160,
   "id": "73d780b4",
   "metadata": {},
   "outputs": [
    {
     "data": {
      "text/html": [
       "<div>\n",
       "<style scoped>\n",
       "    .dataframe tbody tr th:only-of-type {\n",
       "        vertical-align: middle;\n",
       "    }\n",
       "\n",
       "    .dataframe tbody tr th {\n",
       "        vertical-align: top;\n",
       "    }\n",
       "\n",
       "    .dataframe thead th {\n",
       "        text-align: right;\n",
       "    }\n",
       "</style>\n",
       "<table border=\"1\" class=\"dataframe\">\n",
       "  <thead>\n",
       "    <tr style=\"text-align: right;\">\n",
       "      <th></th>\n",
       "      <th>shop_id</th>\n",
       "      <th>item_id</th>\n",
       "      <th>item_category_id</th>\n",
       "      <th>city</th>\n",
       "      <th>city_id</th>\n",
       "    </tr>\n",
       "  </thead>\n",
       "  <tbody>\n",
       "    <tr>\n",
       "      <th>0</th>\n",
       "      <td>5</td>\n",
       "      <td>5037</td>\n",
       "      <td>19</td>\n",
       "      <td>Вологда</td>\n",
       "      <td>4</td>\n",
       "    </tr>\n",
       "  </tbody>\n",
       "</table>\n",
       "</div>"
      ],
      "text/plain": [
       "   shop_id  item_id  item_category_id     city  city_id\n",
       "0        5     5037                19  Вологда        4"
      ]
     },
     "execution_count": 160,
     "metadata": {},
     "output_type": "execute_result"
    }
   ],
   "source": [
    "sales_test_prepared = sales_test_prepared.drop('ID', axis=1)\n",
    "sales_test_prepared.head(1)"
   ]
  },
  {
   "cell_type": "markdown",
   "id": "eb6c3a26",
   "metadata": {},
   "source": [
    "The aim is to predict the sales for the items and shops given in test set for November 2015. Thus, we should add a column named 'date_block_num' to test set and set all the values in this column to 34."
   ]
  },
  {
   "cell_type": "code",
   "execution_count": 161,
   "id": "1393b905",
   "metadata": {},
   "outputs": [
    {
     "name": "stdout",
     "output_type": "stream",
     "text": [
      "(2928491, 12)\n"
     ]
    },
    {
     "data": {
      "text/html": [
       "<div>\n",
       "<style scoped>\n",
       "    .dataframe tbody tr th:only-of-type {\n",
       "        vertical-align: middle;\n",
       "    }\n",
       "\n",
       "    .dataframe tbody tr th {\n",
       "        vertical-align: top;\n",
       "    }\n",
       "\n",
       "    .dataframe thead th {\n",
       "        text-align: right;\n",
       "    }\n",
       "</style>\n",
       "<table border=\"1\" class=\"dataframe\">\n",
       "  <thead>\n",
       "    <tr style=\"text-align: right;\">\n",
       "      <th></th>\n",
       "      <th>shop_id</th>\n",
       "      <th>item_id</th>\n",
       "      <th>item_category_id</th>\n",
       "      <th>city</th>\n",
       "      <th>city_id</th>\n",
       "      <th>date_block_num</th>\n",
       "      <th>salesYear</th>\n",
       "      <th>salesMonth</th>\n",
       "    </tr>\n",
       "  </thead>\n",
       "  <tbody>\n",
       "    <tr>\n",
       "      <th>0</th>\n",
       "      <td>5</td>\n",
       "      <td>5037</td>\n",
       "      <td>19</td>\n",
       "      <td>Вологда</td>\n",
       "      <td>4</td>\n",
       "      <td>34</td>\n",
       "      <td>2015</td>\n",
       "      <td>11</td>\n",
       "    </tr>\n",
       "    <tr>\n",
       "      <th>1</th>\n",
       "      <td>5</td>\n",
       "      <td>5320</td>\n",
       "      <td>55</td>\n",
       "      <td>Вологда</td>\n",
       "      <td>4</td>\n",
       "      <td>34</td>\n",
       "      <td>2015</td>\n",
       "      <td>11</td>\n",
       "    </tr>\n",
       "  </tbody>\n",
       "</table>\n",
       "</div>"
      ],
      "text/plain": [
       "   shop_id  item_id  item_category_id     city  city_id  date_block_num  \\\n",
       "0        5     5037                19  Вологда        4              34   \n",
       "1        5     5320                55  Вологда        4              34   \n",
       "\n",
       "   salesYear  salesMonth  \n",
       "0       2015          11  \n",
       "1       2015          11  "
      ]
     },
     "execution_count": 161,
     "metadata": {},
     "output_type": "execute_result"
    }
   ],
   "source": [
    "sales_test_prepared['date_block_num'] = 34\n",
    "sales_test_prepared['salesYear'] = 2015\n",
    "sales_test_prepared['salesMonth'] = 11\n",
    "print(sales_train_prepared.shape)\n",
    "sales_test_prepared.head(2)"
   ]
  },
  {
   "cell_type": "code",
   "execution_count": 162,
   "id": "534615eb",
   "metadata": {},
   "outputs": [],
   "source": [
    "#sales_test_prepared.loc[:,'shop_id'] = sales_test_prepared['shop_id'].astype(str)\n",
    "#sales_test_prepared.loc[:,'item_id'] = sales_test_prepared['item_id'].astype(str)\n",
    "#sales_test_prepared.loc[:,'city_id'] = sales_test_prepared['city_id'].astype(str)\n",
    "#sales_test_prepared.loc[:,'item_category_id'] = sales_test_prepared['item_category_id'].astype(str)\n",
    "#sales_test_prepared.loc[:,'date_block_num'] = sales_test_prepared['date_block_num'].astype(str)"
   ]
  },
  {
   "cell_type": "code",
   "execution_count": 163,
   "id": "d6be86d7",
   "metadata": {},
   "outputs": [
    {
     "data": {
      "text/html": [
       "<div>\n",
       "<style scoped>\n",
       "    .dataframe tbody tr th:only-of-type {\n",
       "        vertical-align: middle;\n",
       "    }\n",
       "\n",
       "    .dataframe tbody tr th {\n",
       "        vertical-align: top;\n",
       "    }\n",
       "\n",
       "    .dataframe thead th {\n",
       "        text-align: right;\n",
       "    }\n",
       "</style>\n",
       "<table border=\"1\" class=\"dataframe\">\n",
       "  <thead>\n",
       "    <tr style=\"text-align: right;\">\n",
       "      <th></th>\n",
       "      <th>item_id</th>\n",
       "      <th>shop_id</th>\n",
       "      <th>date_block_num</th>\n",
       "      <th>total_cnt_month</th>\n",
       "    </tr>\n",
       "  </thead>\n",
       "  <tbody>\n",
       "    <tr>\n",
       "      <th>0</th>\n",
       "      <td>0</td>\n",
       "      <td>54</td>\n",
       "      <td>20</td>\n",
       "      <td>1</td>\n",
       "    </tr>\n",
       "    <tr>\n",
       "      <th>1</th>\n",
       "      <td>1</td>\n",
       "      <td>55</td>\n",
       "      <td>15</td>\n",
       "      <td>2</td>\n",
       "    </tr>\n",
       "  </tbody>\n",
       "</table>\n",
       "</div>"
      ],
      "text/plain": [
       "   item_id  shop_id  date_block_num  total_cnt_month\n",
       "0        0       54              20                1\n",
       "1        1       55              15                2"
      ]
     },
     "execution_count": 163,
     "metadata": {},
     "output_type": "execute_result"
    }
   ],
   "source": [
    "#print(sales_train_prepared.shape)\n",
    "\n",
    "sales_train_block_summed = sales_train_prepared.groupby(['item_id', 'shop_id', 'date_block_num']).agg({'item_cnt_day':'sum'}).reset_index().rename(columns={'item_cnt_day':'total_cnt_month'})\n",
    "sales_train_grouped_by_item[sales_train_grouped_by_item['item_id']==16787]\n",
    "\n",
    "sales_train_block_summed.head(2)"
   ]
  },
  {
   "cell_type": "code",
   "execution_count": 164,
   "id": "cd8734dd",
   "metadata": {},
   "outputs": [],
   "source": [
    "sales_train_block_summed.loc[:,'total_cnt_month'] = sales_train_block_summed['total_cnt_month'].astype(int)"
   ]
  },
  {
   "cell_type": "code",
   "execution_count": 165,
   "id": "d6156cb5",
   "metadata": {},
   "outputs": [
    {
     "data": {
      "text/plain": [
       "item_id            int64\n",
       "shop_id            int64\n",
       "date_block_num     int64\n",
       "total_cnt_month    int64\n",
       "dtype: object"
      ]
     },
     "execution_count": 165,
     "metadata": {},
     "output_type": "execute_result"
    }
   ],
   "source": [
    "sales_train_block_summed.dtypes"
   ]
  },
  {
   "cell_type": "code",
   "execution_count": 166,
   "id": "43a31d73",
   "metadata": {},
   "outputs": [
    {
     "data": {
      "text/plain": [
       "(1608225, 4)"
      ]
     },
     "execution_count": 166,
     "metadata": {},
     "output_type": "execute_result"
    }
   ],
   "source": [
    "sales_train_block_summed.shape"
   ]
  },
  {
   "cell_type": "code",
   "execution_count": 167,
   "id": "06b62a0a",
   "metadata": {},
   "outputs": [
    {
     "data": {
      "text/plain": [
       "Index(['item_id', 'shop_id', 'date_block_num', 'total_cnt_month'], dtype='object')"
      ]
     },
     "execution_count": 167,
     "metadata": {},
     "output_type": "execute_result"
    }
   ],
   "source": [
    "sales_train_block_summed.columns"
   ]
  },
  {
   "cell_type": "code",
   "execution_count": 168,
   "id": "55de78d1",
   "metadata": {},
   "outputs": [
    {
     "name": "stdout",
     "output_type": "stream",
     "text": [
      "42 out of 57 shops are in test data set and 57 out of 57 are represented in the training\n",
      "5100 out of 22170 items are in test data set and 21803 out of 22170 are represented in the training\n"
     ]
    }
   ],
   "source": [
    "shop_train = sales_train_block_summed['shop_id'].nunique()\n",
    "shop_test = sales_test_prepared['shop_id'].nunique()\n",
    "item_train = sales_train_block_summed['item_id'].nunique()\n",
    "item_test = sales_test_prepared['item_id'].nunique()\n",
    "all_shop = shops_cleaned['shop_id'].nunique()\n",
    "all_item = item_list['item_id'].nunique()\n",
    "\n",
    "print(\"%d out of %d shops are in test data set and %d out of %d are represented in the training\" \n",
    "      %(shop_test, all_shop, shop_train, all_shop))\n",
    "\n",
    "print(\"%d out of %d items are in test data set and %d out of %d are represented in the training\" \n",
    "      %(item_test, all_item, item_train, all_item))"
   ]
  },
  {
   "cell_type": "markdown",
   "id": "d6412a6d",
   "metadata": {},
   "source": [
    "It means that sales data for 22170-21803=367 items cannot be predicted.\n",
    "Also we can think about including only the items that are asked to be predicted in."
   ]
  },
  {
   "cell_type": "code",
   "execution_count": 169,
   "id": "3b84e527",
   "metadata": {},
   "outputs": [
    {
     "data": {
      "text/plain": [
       "5100"
      ]
     },
     "execution_count": 169,
     "metadata": {},
     "output_type": "execute_result"
    }
   ],
   "source": [
    "test_items = pd.DataFrame(sales_test_prepared['item_id'].unique(), columns={'item_id'})\n",
    "test_items.loc[:,'item_id']=test_items['item_id'].astype(str)\n",
    "train_items = sales_train_block_summed['item_id'].unique()\n",
    "test_items.isin(train_items.tolist()).head(5)\n",
    "#print(train_items)\n",
    "test_items['isin_training_set'] = test_items['item_id'].apply(lambda x: True if x in train_items.tolist() else False)\n",
    "len(test_items)\n",
    "\n",
    "missing_items = []\n",
    "test_items['item_id'].apply(lambda x: missing_items.append(x) if not x in train_items.tolist() else True)\n",
    "len(missing_items)"
   ]
  },
  {
   "cell_type": "markdown",
   "id": "171a3bad",
   "metadata": {},
   "source": [
    "There are 363 item_ids which are present in test set but not in training set. For these items we cannot expect our model to make good predictions because we dont have any data related to these items to train a model. For now, i will keep them and continue with the benchmark modelling. According to evaluation of the first model, I will decide to remove/keep them.\n",
    "\n"
   ]
  },
  {
   "cell_type": "markdown",
   "id": "aa60ff3e",
   "metadata": {},
   "source": [
    "# 5. Feature Engineering<a id='feature_engineering_'></a>\n",
    "[Back to top](#table_of_contents)"
   ]
  },
  {
   "cell_type": "code",
   "execution_count": 171,
   "id": "56f08021",
   "metadata": {},
   "outputs": [
    {
     "data": {
      "text/plain": [
       "item_id            int64\n",
       "shop_id            int64\n",
       "date_block_num     int64\n",
       "total_cnt_month    int64\n",
       "dtype: object"
      ]
     },
     "execution_count": 171,
     "metadata": {},
     "output_type": "execute_result"
    }
   ],
   "source": [
    "sales_train_block_summed.dtypes"
   ]
  },
  {
   "cell_type": "code",
   "execution_count": 172,
   "id": "afc4b2b9",
   "metadata": {},
   "outputs": [],
   "source": [
    "def lag_feature(df, lags, col):\n",
    "    print(col)\n",
    "    for i in lags:\n",
    "        shifted = df[['date_block_num', 'shop_id', 'item_id', col]].copy()\n",
    "        shifted.columns = ['date_block_num', 'shop_id', 'item_id', col+\"_lag_\"+str(i)]\n",
    "        shifted.date_block_num += i\n",
    "        df = df.merge(shifted, on=['date_block_num','shop_id','item_id'], how='left').fillna(0)\n",
    "    return df"
   ]
  },
  {
   "cell_type": "markdown",
   "id": "b5876f4a",
   "metadata": {},
   "source": [
    "The part below assumes that whenever there is not any total_cnt_month available for any shop_id-item_id-date_block_num triplet, the sale is zero. According to the this assumption:\n",
    "\n",
    "\n",
    "There were available stocks, however, the items were not sold. All items were always in the market since before doing fillna('0'), the beginning date of the sale info were not checked.\n",
    "\n",
    "However, in real life, these items might not be in the market since the beginning or even if they were there might be a stock-related problem and these items cannot be sold again. Putting zero for such a case may cause a mistaken prediction for the future sales as the stocks could be renewed in the future."
   ]
  },
  {
   "cell_type": "code",
   "execution_count": 174,
   "id": "8899e62c",
   "metadata": {},
   "outputs": [
    {
     "name": "stdout",
     "output_type": "stream",
     "text": [
      "Size of the feature matrix must be  10884508 .\n"
     ]
    }
   ],
   "source": [
    "from itertools import product\n",
    "\n",
    "product_matrix = []\n",
    "total_len = 0\n",
    "# Try creating a matrix of product(sales['date_block_num'].unique(), sales.shop_id.unique(), sales.item_id.unique()) which are about 45m lines\n",
    "for num in sales_train_block_summed['date_block_num'].unique():\n",
    "    tmp = sales_train_block_summed[sales_train_block_summed.date_block_num==num] #\n",
    "    product_matrix.append(np.array(list(product([num], tmp.shop_id.unique(), tmp.item_id.unique()))))\n",
    "    #print(product([num], tmp.shop_id.unique(), tmp.item_id.unique()))\n",
    "    total_len = total_len + (len(tmp.shop_id.unique())*len(tmp.item_id.unique()))\n",
    "    #matrix.append(np.array(list(product([num], shops.shop_id, items.item_id)), dtype='int16'))\n",
    "    \n",
    "print(\"Size of the feature matrix must be \", total_len, '.')\n",
    "\n",
    "# Turn the grid into a dataframe\n",
    "product_matrix = pd.DataFrame(np.vstack(product_matrix), columns=['date_block_num', 'shop_id', 'item_id'])\n",
    "#print(product_matrix.shape)\n",
    "product_matrix.dtypes\n",
    "\n",
    "# Adding total_cnt_month from the sales data to the product matrix:\n",
    "product_matrix = product_matrix.merge(sales_train_block_summed, how='left', on=['date_block_num', 'shop_id', 'item_id']).fillna(0)\n",
    "\n",
    "# Adding the features of shops, items and item_categories:\n",
    "product_matrix = product_matrix.merge(shops_cleaned[['shop_id', 'city_id']], how='left', on='shop_id')\n",
    "product_matrix = product_matrix.merge(item_id_list[['item_id','item_category_id']], how='left', on='item_id')\n",
    "#product_matrix.loc[:,'city_id'] = product_matrix['city_id'].astype(int)\n",
    "product_matrix.head(2)\n",
    "\n",
    "# Add month\n",
    "product_matrix['month'] = product_matrix.date_block_num%12+1 #i added + 1 because block_num startes from 0 (e.g. Jan 2013 = 0)\n",
    "product_matrix.dtypes\n",
    "\n",
    "\n",
    "# If fillna.('NA')instead of fillna('0')\n",
    "#product_matrix_c = product_matrix.copy()\n",
    "#print(product_matrix_c.shape)\n",
    "#def remove_nan_rows(df, col):\n",
    "#    df = df[df[col]!='NA']\n",
    "#    return df\n",
    "\n",
    "#cols = list(product_matrix_c.columns)\n",
    "#for c in cols:\n",
    "#    print(c)\n",
    "#    product_matrix_c = remove_nan_rows(product_matrix_c, str(c))\n",
    "#\n",
    "#product_matrix_c.shape\n",
    "\n",
    "# Clip counts\n",
    "product_matrix.loc[:,'total_cnt_month'] = product_matrix['total_cnt_month'].astype(int)\n",
    "product_matrix['total_cnt_month'] = product_matrix['total_cnt_month'].clip(0, 20)"
   ]
  },
  {
   "cell_type": "code",
   "execution_count": 175,
   "id": "209bb589",
   "metadata": {},
   "outputs": [
    {
     "name": "stdout",
     "output_type": "stream",
     "text": [
      "total_cnt_month\n"
     ]
    },
    {
     "data": {
      "text/plain": [
       "date_block_num              int64\n",
       "shop_id                     int64\n",
       "item_id                     int64\n",
       "total_cnt_month             int64\n",
       "city_id                   float64\n",
       "item_category_id            int64\n",
       "month                       int64\n",
       "total_cnt_month_lag_1     float64\n",
       "total_cnt_month_lag_3     float64\n",
       "total_cnt_month_lag_5     float64\n",
       "total_cnt_month_lag_11    float64\n",
       "dtype: object"
      ]
     },
     "execution_count": 175,
     "metadata": {},
     "output_type": "execute_result"
    }
   ],
   "source": [
    "product_matrix = product_matrix[product_matrix['date_block_num']>=12]\n",
    "product_matrix.reset_index(drop=True, inplace=True)\n",
    "\n",
    "#lag frames\n",
    "myframe = product_matrix.copy() #didnt use product_matrix here\n",
    "\n",
    "#myframe.loc[:,'date_block_num'] = myframe['date_block_num'].astype(int)\n",
    "lags = [1, 3, 5, 11]\n",
    "\n",
    "myframe = lag_feature(myframe, lags, 'total_cnt_month')\n",
    "myframe.dtypes"
   ]
  },
  {
   "cell_type": "code",
   "execution_count": 176,
   "id": "bd649b6c",
   "metadata": {},
   "outputs": [
    {
     "name": "stdout",
     "output_type": "stream",
     "text": [
      "total_cnt_month_item\n",
      "total_cnt_month_shop\n"
     ]
    },
    {
     "data": {
      "text/plain": [
       "date_block_num                   int64\n",
       "shop_id                          int64\n",
       "item_id                          int64\n",
       "total_cnt_month                  int64\n",
       "city_id                        float64\n",
       "item_category_id                 int64\n",
       "month                            int64\n",
       "total_cnt_month_lag_1          float64\n",
       "total_cnt_month_lag_3          float64\n",
       "total_cnt_month_lag_5          float64\n",
       "total_cnt_month_lag_11         float64\n",
       "total_cnt_month_item_lag_1     float64\n",
       "total_cnt_month_item_lag_3     float64\n",
       "total_cnt_month_item_lag_5     float64\n",
       "total_cnt_month_item_lag_11    float64\n",
       "total_cnt_month_shop_lag_1     float64\n",
       "total_cnt_month_shop_lag_3     float64\n",
       "total_cnt_month_shop_lag_5     float64\n",
       "total_cnt_month_shop_lag_11    float64\n",
       "dtype: object"
      ]
     },
     "execution_count": 176,
     "metadata": {},
     "output_type": "execute_result"
    }
   ],
   "source": [
    "grouped_myframe = myframe.groupby(['item_id', 'date_block_num']).agg({'total_cnt_month':'sum'}).reset_index().rename(columns={'total_cnt_month':'total_cnt_month_item'})\n",
    "myframe = myframe.merge(grouped_myframe, on=['item_id', 'date_block_num'], how='left').fillna(0)\n",
    "\n",
    "myframe =lag_feature(myframe, lags, 'total_cnt_month_item')\n",
    "myframe = myframe.drop('total_cnt_month_item', axis=1)\n",
    "\n",
    "grouped_myframe = myframe.groupby(['shop_id', 'date_block_num']).agg({'total_cnt_month':'sum'}).reset_index().rename(columns={'total_cnt_month':'total_cnt_month_shop'})\n",
    "myframe = myframe.merge(grouped_myframe, on=['shop_id', 'date_block_num'], how='left').fillna(0)\n",
    "\n",
    "myframe =lag_feature(myframe, lags, 'total_cnt_month_shop')\n",
    "myframe = myframe.drop('total_cnt_month_shop', axis=1)\n",
    "\n",
    "myframe.dtypes"
   ]
  },
  {
   "cell_type": "code",
   "execution_count": null,
   "id": "3260dede",
   "metadata": {},
   "outputs": [],
   "source": [
    "no_nan_frame = myframe.copy()\n",
    "print(no_nan_frame.shape)\n",
    "def remove_nan_rows(df, col):\n",
    "    df = df[df[col]!='NaN']\n",
    "    return df\n",
    "\n",
    "cols = list(no_nan_frame.columns)\n",
    "for c in cols:\n",
    "    print(c)\n",
    "    no_nan_frame = remove_nan_rows(no_nan_frame, str(c))\n",
    "    \n",
    "#print(no_nan_frame.shape)"
   ]
  },
  {
   "cell_type": "code",
   "execution_count": null,
   "id": "363a9bd5",
   "metadata": {},
   "outputs": [],
   "source": [
    "#myframe[(myframe['date_block_num']==30) & (myframe['shop_id']=='42') & (myframe['item_id']=='22154')]"
   ]
  },
  {
   "cell_type": "code",
   "execution_count": null,
   "id": "464df6cf",
   "metadata": {},
   "outputs": [],
   "source": [
    "#myframe[(myframe['date_block_num']==29) & (myframe['shop_id']=='42') & (myframe['item_id']=='22154')]"
   ]
  },
  {
   "cell_type": "markdown",
   "id": "11c2bbda",
   "metadata": {},
   "source": [
    "# 6. Benchmark Modelling <a id='benchmark_modelling'></a>\n",
    "[Back to top](#table_of_contents)"
   ]
  },
  {
   "cell_type": "code",
   "execution_count": null,
   "id": "42d6b4c5",
   "metadata": {},
   "outputs": [],
   "source": [
    "#target_feature_bm = ['total_cnt_month']\n",
    "#categorical_features_bm = ['item_id', 'item_category_id', 'shop_id', 'city_id', 'month']\n",
    "#input_features_bm = categorical_features_bm"
   ]
  },
  {
   "cell_type": "code",
   "execution_count": 177,
   "id": "ab5e1211",
   "metadata": {},
   "outputs": [],
   "source": [
    "dataframe_bm = myframe.copy()\n",
    "\n",
    "dataframe_bm.loc[:,'shop_id'] = dataframe_bm['shop_id'].astype(str)\n",
    "dataframe_bm.loc[:,'item_id'] = dataframe_bm['item_id'].astype(str)\n",
    "dataframe_bm.loc[:,'city_id'] = dataframe_bm['city_id'].astype(str)\n",
    "dataframe_bm.loc[:,'item_category_id'] = dataframe_bm['item_category_id'].astype(str)\n",
    "dataframe_bm.loc[:,'month'] = dataframe_bm ['month'].astype(str)\n",
    "\n",
    "\n",
    "x_train_bm = dataframe_bm[dataframe_bm['date_block_num']<33].drop('total_cnt_month', axis=1)\n",
    "y_train_bm = dataframe_bm[dataframe_bm['date_block_num']<33]['total_cnt_month']\n",
    "\n",
    "x_val_bm = dataframe_bm[dataframe_bm['date_block_num']==33].drop('total_cnt_month', axis=1)\n",
    "y_val_bm = dataframe_bm[dataframe_bm['date_block_num']==33]['total_cnt_month']\n",
    "\n",
    "x_test_bm = dataframe_bm[dataframe_bm['date_block_num']==34].drop('total_cnt_month', axis=1)\n",
    "y_test_bm = dataframe_bm[dataframe_bm['date_block_num']==34]['total_cnt_month']\n",
    "\n",
    "x_train_bm = x_train_bm.drop('date_block_num', axis=1)\n",
    "x_val_bm = x_val_bm.drop('date_block_num', axis=1)\n",
    "x_test_bm = x_test_bm.drop('date_block_num', axis=1)"
   ]
  },
  {
   "cell_type": "markdown",
   "id": "62238ba2",
   "metadata": {},
   "source": [
    "## Decision Tree"
   ]
  },
  {
   "cell_type": "code",
   "execution_count": 178,
   "id": "cba33d72",
   "metadata": {},
   "outputs": [],
   "source": [
    "from sklearn.model_selection import train_test_split\n",
    "from sklearn.tree import DecisionTreeRegressor"
   ]
  },
  {
   "cell_type": "code",
   "execution_count": 180,
   "id": "c4df04b5",
   "metadata": {},
   "outputs": [
    {
     "data": {
      "text/plain": [
       "dtype('int64')"
      ]
     },
     "execution_count": 180,
     "metadata": {},
     "output_type": "execute_result"
    }
   ],
   "source": [
    "y_train_bm.dtypes\n",
    "#X_train_bm, X_test_bm, Y_train_bm, Y_test_bm = train_test_split(x_train_bm, y_train_bm, test_size = 0.33, random_state = 42)"
   ]
  },
  {
   "cell_type": "code",
   "execution_count": 98,
   "id": "c15fefc4",
   "metadata": {},
   "outputs": [
    {
     "data": {
      "text/html": [
       "<div>\n",
       "<style scoped>\n",
       "    .dataframe tbody tr th:only-of-type {\n",
       "        vertical-align: middle;\n",
       "    }\n",
       "\n",
       "    .dataframe tbody tr th {\n",
       "        vertical-align: top;\n",
       "    }\n",
       "\n",
       "    .dataframe thead th {\n",
       "        text-align: right;\n",
       "    }\n",
       "</style>\n",
       "<table border=\"1\" class=\"dataframe\">\n",
       "  <thead>\n",
       "    <tr style=\"text-align: right;\">\n",
       "      <th></th>\n",
       "      <th>shop_id</th>\n",
       "      <th>item_id</th>\n",
       "      <th>city_id</th>\n",
       "      <th>item_category_id</th>\n",
       "      <th>month</th>\n",
       "      <th>total_cnt_month_lag_1</th>\n",
       "      <th>total_cnt_month_lag_3</th>\n",
       "      <th>total_cnt_month_lag_5</th>\n",
       "      <th>total_cnt_month_lag_11</th>\n",
       "      <th>total_cnt_month_item_lag_1</th>\n",
       "      <th>total_cnt_month_item_lag_3</th>\n",
       "      <th>total_cnt_month_item_lag_5</th>\n",
       "      <th>total_cnt_month_item_lag_11</th>\n",
       "      <th>total_cnt_month_shop_lag_1</th>\n",
       "      <th>total_cnt_month_shop_lag_3</th>\n",
       "      <th>total_cnt_month_shop_lag_5</th>\n",
       "      <th>total_cnt_month_shop_lag_11</th>\n",
       "    </tr>\n",
       "  </thead>\n",
       "  <tbody>\n",
       "    <tr>\n",
       "      <th>0</th>\n",
       "      <td>54</td>\n",
       "      <td>0</td>\n",
       "      <td>27.0</td>\n",
       "      <td>40</td>\n",
       "      <td>9</td>\n",
       "      <td>0.0</td>\n",
       "      <td>0.0</td>\n",
       "      <td>0.0</td>\n",
       "      <td>0.0</td>\n",
       "      <td>0.0</td>\n",
       "      <td>0.0</td>\n",
       "      <td>0.0</td>\n",
       "      <td>0.0</td>\n",
       "      <td>0.0</td>\n",
       "      <td>0.0</td>\n",
       "      <td>0.0</td>\n",
       "      <td>0.0</td>\n",
       "    </tr>\n",
       "    <tr>\n",
       "      <th>1</th>\n",
       "      <td>54</td>\n",
       "      <td>1</td>\n",
       "      <td>27.0</td>\n",
       "      <td>76</td>\n",
       "      <td>9</td>\n",
       "      <td>0.0</td>\n",
       "      <td>0.0</td>\n",
       "      <td>0.0</td>\n",
       "      <td>0.0</td>\n",
       "      <td>1.0</td>\n",
       "      <td>0.0</td>\n",
       "      <td>2.0</td>\n",
       "      <td>0.0</td>\n",
       "      <td>5448.0</td>\n",
       "      <td>0.0</td>\n",
       "      <td>4630.0</td>\n",
       "      <td>0.0</td>\n",
       "    </tr>\n",
       "    <tr>\n",
       "      <th>2</th>\n",
       "      <td>54</td>\n",
       "      <td>4</td>\n",
       "      <td>27.0</td>\n",
       "      <td>40</td>\n",
       "      <td>9</td>\n",
       "      <td>0.0</td>\n",
       "      <td>0.0</td>\n",
       "      <td>0.0</td>\n",
       "      <td>0.0</td>\n",
       "      <td>0.0</td>\n",
       "      <td>0.0</td>\n",
       "      <td>0.0</td>\n",
       "      <td>0.0</td>\n",
       "      <td>0.0</td>\n",
       "      <td>0.0</td>\n",
       "      <td>0.0</td>\n",
       "      <td>0.0</td>\n",
       "    </tr>\n",
       "    <tr>\n",
       "      <th>3</th>\n",
       "      <td>54</td>\n",
       "      <td>8</td>\n",
       "      <td>27.0</td>\n",
       "      <td>40</td>\n",
       "      <td>9</td>\n",
       "      <td>1.0</td>\n",
       "      <td>0.0</td>\n",
       "      <td>0.0</td>\n",
       "      <td>0.0</td>\n",
       "      <td>1.0</td>\n",
       "      <td>0.0</td>\n",
       "      <td>0.0</td>\n",
       "      <td>0.0</td>\n",
       "      <td>5448.0</td>\n",
       "      <td>0.0</td>\n",
       "      <td>0.0</td>\n",
       "      <td>0.0</td>\n",
       "    </tr>\n",
       "    <tr>\n",
       "      <th>4</th>\n",
       "      <td>54</td>\n",
       "      <td>13</td>\n",
       "      <td>27.0</td>\n",
       "      <td>40</td>\n",
       "      <td>9</td>\n",
       "      <td>0.0</td>\n",
       "      <td>0.0</td>\n",
       "      <td>0.0</td>\n",
       "      <td>0.0</td>\n",
       "      <td>0.0</td>\n",
       "      <td>0.0</td>\n",
       "      <td>0.0</td>\n",
       "      <td>0.0</td>\n",
       "      <td>0.0</td>\n",
       "      <td>0.0</td>\n",
       "      <td>0.0</td>\n",
       "      <td>0.0</td>\n",
       "    </tr>\n",
       "    <tr>\n",
       "      <th>5</th>\n",
       "      <td>54</td>\n",
       "      <td>16</td>\n",
       "      <td>27.0</td>\n",
       "      <td>40</td>\n",
       "      <td>9</td>\n",
       "      <td>0.0</td>\n",
       "      <td>0.0</td>\n",
       "      <td>0.0</td>\n",
       "      <td>0.0</td>\n",
       "      <td>0.0</td>\n",
       "      <td>0.0</td>\n",
       "      <td>0.0</td>\n",
       "      <td>0.0</td>\n",
       "      <td>0.0</td>\n",
       "      <td>0.0</td>\n",
       "      <td>0.0</td>\n",
       "      <td>0.0</td>\n",
       "    </tr>\n",
       "    <tr>\n",
       "      <th>6</th>\n",
       "      <td>54</td>\n",
       "      <td>17</td>\n",
       "      <td>27.0</td>\n",
       "      <td>40</td>\n",
       "      <td>9</td>\n",
       "      <td>0.0</td>\n",
       "      <td>0.0</td>\n",
       "      <td>0.0</td>\n",
       "      <td>0.0</td>\n",
       "      <td>0.0</td>\n",
       "      <td>0.0</td>\n",
       "      <td>0.0</td>\n",
       "      <td>0.0</td>\n",
       "      <td>0.0</td>\n",
       "      <td>0.0</td>\n",
       "      <td>0.0</td>\n",
       "      <td>0.0</td>\n",
       "    </tr>\n",
       "    <tr>\n",
       "      <th>7</th>\n",
       "      <td>54</td>\n",
       "      <td>21</td>\n",
       "      <td>27.0</td>\n",
       "      <td>40</td>\n",
       "      <td>9</td>\n",
       "      <td>0.0</td>\n",
       "      <td>0.0</td>\n",
       "      <td>0.0</td>\n",
       "      <td>0.0</td>\n",
       "      <td>0.0</td>\n",
       "      <td>0.0</td>\n",
       "      <td>0.0</td>\n",
       "      <td>0.0</td>\n",
       "      <td>0.0</td>\n",
       "      <td>0.0</td>\n",
       "      <td>0.0</td>\n",
       "      <td>0.0</td>\n",
       "    </tr>\n",
       "    <tr>\n",
       "      <th>8</th>\n",
       "      <td>54</td>\n",
       "      <td>30</td>\n",
       "      <td>27.0</td>\n",
       "      <td>40</td>\n",
       "      <td>9</td>\n",
       "      <td>2.0</td>\n",
       "      <td>0.0</td>\n",
       "      <td>1.0</td>\n",
       "      <td>0.0</td>\n",
       "      <td>12.0</td>\n",
       "      <td>13.0</td>\n",
       "      <td>21.0</td>\n",
       "      <td>0.0</td>\n",
       "      <td>5448.0</td>\n",
       "      <td>5427.0</td>\n",
       "      <td>4630.0</td>\n",
       "      <td>0.0</td>\n",
       "    </tr>\n",
       "    <tr>\n",
       "      <th>9</th>\n",
       "      <td>54</td>\n",
       "      <td>31</td>\n",
       "      <td>27.0</td>\n",
       "      <td>37</td>\n",
       "      <td>9</td>\n",
       "      <td>1.0</td>\n",
       "      <td>1.0</td>\n",
       "      <td>1.0</td>\n",
       "      <td>0.0</td>\n",
       "      <td>13.0</td>\n",
       "      <td>13.0</td>\n",
       "      <td>21.0</td>\n",
       "      <td>0.0</td>\n",
       "      <td>5448.0</td>\n",
       "      <td>5427.0</td>\n",
       "      <td>4630.0</td>\n",
       "      <td>0.0</td>\n",
       "    </tr>\n",
       "    <tr>\n",
       "      <th>10</th>\n",
       "      <td>54</td>\n",
       "      <td>32</td>\n",
       "      <td>27.0</td>\n",
       "      <td>40</td>\n",
       "      <td>9</td>\n",
       "      <td>4.0</td>\n",
       "      <td>3.0</td>\n",
       "      <td>0.0</td>\n",
       "      <td>0.0</td>\n",
       "      <td>34.0</td>\n",
       "      <td>26.0</td>\n",
       "      <td>30.0</td>\n",
       "      <td>0.0</td>\n",
       "      <td>5448.0</td>\n",
       "      <td>5427.0</td>\n",
       "      <td>4630.0</td>\n",
       "      <td>0.0</td>\n",
       "    </tr>\n",
       "    <tr>\n",
       "      <th>11</th>\n",
       "      <td>54</td>\n",
       "      <td>33</td>\n",
       "      <td>27.0</td>\n",
       "      <td>37</td>\n",
       "      <td>9</td>\n",
       "      <td>2.0</td>\n",
       "      <td>2.0</td>\n",
       "      <td>0.0</td>\n",
       "      <td>0.0</td>\n",
       "      <td>17.0</td>\n",
       "      <td>22.0</td>\n",
       "      <td>18.0</td>\n",
       "      <td>0.0</td>\n",
       "      <td>5448.0</td>\n",
       "      <td>5427.0</td>\n",
       "      <td>4630.0</td>\n",
       "      <td>0.0</td>\n",
       "    </tr>\n",
       "    <tr>\n",
       "      <th>12</th>\n",
       "      <td>54</td>\n",
       "      <td>35</td>\n",
       "      <td>27.0</td>\n",
       "      <td>40</td>\n",
       "      <td>9</td>\n",
       "      <td>0.0</td>\n",
       "      <td>0.0</td>\n",
       "      <td>0.0</td>\n",
       "      <td>0.0</td>\n",
       "      <td>0.0</td>\n",
       "      <td>0.0</td>\n",
       "      <td>0.0</td>\n",
       "      <td>0.0</td>\n",
       "      <td>0.0</td>\n",
       "      <td>0.0</td>\n",
       "      <td>0.0</td>\n",
       "      <td>0.0</td>\n",
       "    </tr>\n",
       "    <tr>\n",
       "      <th>13</th>\n",
       "      <td>54</td>\n",
       "      <td>36</td>\n",
       "      <td>27.0</td>\n",
       "      <td>37</td>\n",
       "      <td>9</td>\n",
       "      <td>0.0</td>\n",
       "      <td>0.0</td>\n",
       "      <td>0.0</td>\n",
       "      <td>0.0</td>\n",
       "      <td>2.0</td>\n",
       "      <td>0.0</td>\n",
       "      <td>3.0</td>\n",
       "      <td>0.0</td>\n",
       "      <td>5448.0</td>\n",
       "      <td>0.0</td>\n",
       "      <td>4630.0</td>\n",
       "      <td>0.0</td>\n",
       "    </tr>\n",
       "    <tr>\n",
       "      <th>14</th>\n",
       "      <td>54</td>\n",
       "      <td>37</td>\n",
       "      <td>27.0</td>\n",
       "      <td>40</td>\n",
       "      <td>9</td>\n",
       "      <td>0.0</td>\n",
       "      <td>3.0</td>\n",
       "      <td>0.0</td>\n",
       "      <td>0.0</td>\n",
       "      <td>4.0</td>\n",
       "      <td>5.0</td>\n",
       "      <td>2.0</td>\n",
       "      <td>0.0</td>\n",
       "      <td>5448.0</td>\n",
       "      <td>5427.0</td>\n",
       "      <td>4630.0</td>\n",
       "      <td>0.0</td>\n",
       "    </tr>\n",
       "    <tr>\n",
       "      <th>15</th>\n",
       "      <td>54</td>\n",
       "      <td>38</td>\n",
       "      <td>27.0</td>\n",
       "      <td>41</td>\n",
       "      <td>9</td>\n",
       "      <td>0.0</td>\n",
       "      <td>0.0</td>\n",
       "      <td>0.0</td>\n",
       "      <td>0.0</td>\n",
       "      <td>1.0</td>\n",
       "      <td>0.0</td>\n",
       "      <td>0.0</td>\n",
       "      <td>0.0</td>\n",
       "      <td>5448.0</td>\n",
       "      <td>0.0</td>\n",
       "      <td>0.0</td>\n",
       "      <td>0.0</td>\n",
       "    </tr>\n",
       "    <tr>\n",
       "      <th>16</th>\n",
       "      <td>54</td>\n",
       "      <td>40</td>\n",
       "      <td>27.0</td>\n",
       "      <td>57</td>\n",
       "      <td>9</td>\n",
       "      <td>0.0</td>\n",
       "      <td>1.0</td>\n",
       "      <td>0.0</td>\n",
       "      <td>0.0</td>\n",
       "      <td>1.0</td>\n",
       "      <td>3.0</td>\n",
       "      <td>1.0</td>\n",
       "      <td>0.0</td>\n",
       "      <td>5448.0</td>\n",
       "      <td>5427.0</td>\n",
       "      <td>4630.0</td>\n",
       "      <td>0.0</td>\n",
       "    </tr>\n",
       "    <tr>\n",
       "      <th>17</th>\n",
       "      <td>54</td>\n",
       "      <td>42</td>\n",
       "      <td>27.0</td>\n",
       "      <td>57</td>\n",
       "      <td>9</td>\n",
       "      <td>1.0</td>\n",
       "      <td>0.0</td>\n",
       "      <td>0.0</td>\n",
       "      <td>0.0</td>\n",
       "      <td>3.0</td>\n",
       "      <td>5.0</td>\n",
       "      <td>2.0</td>\n",
       "      <td>0.0</td>\n",
       "      <td>5448.0</td>\n",
       "      <td>5427.0</td>\n",
       "      <td>4630.0</td>\n",
       "      <td>0.0</td>\n",
       "    </tr>\n",
       "    <tr>\n",
       "      <th>18</th>\n",
       "      <td>54</td>\n",
       "      <td>44</td>\n",
       "      <td>27.0</td>\n",
       "      <td>57</td>\n",
       "      <td>9</td>\n",
       "      <td>2.0</td>\n",
       "      <td>0.0</td>\n",
       "      <td>1.0</td>\n",
       "      <td>0.0</td>\n",
       "      <td>3.0</td>\n",
       "      <td>4.0</td>\n",
       "      <td>3.0</td>\n",
       "      <td>0.0</td>\n",
       "      <td>5448.0</td>\n",
       "      <td>5427.0</td>\n",
       "      <td>4630.0</td>\n",
       "      <td>0.0</td>\n",
       "    </tr>\n",
       "    <tr>\n",
       "      <th>19</th>\n",
       "      <td>54</td>\n",
       "      <td>45</td>\n",
       "      <td>27.0</td>\n",
       "      <td>57</td>\n",
       "      <td>9</td>\n",
       "      <td>2.0</td>\n",
       "      <td>2.0</td>\n",
       "      <td>1.0</td>\n",
       "      <td>0.0</td>\n",
       "      <td>6.0</td>\n",
       "      <td>8.0</td>\n",
       "      <td>5.0</td>\n",
       "      <td>0.0</td>\n",
       "      <td>5448.0</td>\n",
       "      <td>5427.0</td>\n",
       "      <td>4630.0</td>\n",
       "      <td>0.0</td>\n",
       "    </tr>\n",
       "  </tbody>\n",
       "</table>\n",
       "</div>"
      ],
      "text/plain": [
       "   shop_id item_id city_id item_category_id month  total_cnt_month_lag_1  \\\n",
       "0       54       0    27.0               40     9                    0.0   \n",
       "1       54       1    27.0               76     9                    0.0   \n",
       "2       54       4    27.0               40     9                    0.0   \n",
       "3       54       8    27.0               40     9                    1.0   \n",
       "4       54      13    27.0               40     9                    0.0   \n",
       "5       54      16    27.0               40     9                    0.0   \n",
       "6       54      17    27.0               40     9                    0.0   \n",
       "7       54      21    27.0               40     9                    0.0   \n",
       "8       54      30    27.0               40     9                    2.0   \n",
       "9       54      31    27.0               37     9                    1.0   \n",
       "10      54      32    27.0               40     9                    4.0   \n",
       "11      54      33    27.0               37     9                    2.0   \n",
       "12      54      35    27.0               40     9                    0.0   \n",
       "13      54      36    27.0               37     9                    0.0   \n",
       "14      54      37    27.0               40     9                    0.0   \n",
       "15      54      38    27.0               41     9                    0.0   \n",
       "16      54      40    27.0               57     9                    0.0   \n",
       "17      54      42    27.0               57     9                    1.0   \n",
       "18      54      44    27.0               57     9                    2.0   \n",
       "19      54      45    27.0               57     9                    2.0   \n",
       "\n",
       "    total_cnt_month_lag_3  total_cnt_month_lag_5  total_cnt_month_lag_11  \\\n",
       "0                     0.0                    0.0                     0.0   \n",
       "1                     0.0                    0.0                     0.0   \n",
       "2                     0.0                    0.0                     0.0   \n",
       "3                     0.0                    0.0                     0.0   \n",
       "4                     0.0                    0.0                     0.0   \n",
       "5                     0.0                    0.0                     0.0   \n",
       "6                     0.0                    0.0                     0.0   \n",
       "7                     0.0                    0.0                     0.0   \n",
       "8                     0.0                    1.0                     0.0   \n",
       "9                     1.0                    1.0                     0.0   \n",
       "10                    3.0                    0.0                     0.0   \n",
       "11                    2.0                    0.0                     0.0   \n",
       "12                    0.0                    0.0                     0.0   \n",
       "13                    0.0                    0.0                     0.0   \n",
       "14                    3.0                    0.0                     0.0   \n",
       "15                    0.0                    0.0                     0.0   \n",
       "16                    1.0                    0.0                     0.0   \n",
       "17                    0.0                    0.0                     0.0   \n",
       "18                    0.0                    1.0                     0.0   \n",
       "19                    2.0                    1.0                     0.0   \n",
       "\n",
       "    total_cnt_month_item_lag_1  total_cnt_month_item_lag_3  \\\n",
       "0                          0.0                         0.0   \n",
       "1                          1.0                         0.0   \n",
       "2                          0.0                         0.0   \n",
       "3                          1.0                         0.0   \n",
       "4                          0.0                         0.0   \n",
       "5                          0.0                         0.0   \n",
       "6                          0.0                         0.0   \n",
       "7                          0.0                         0.0   \n",
       "8                         12.0                        13.0   \n",
       "9                         13.0                        13.0   \n",
       "10                        34.0                        26.0   \n",
       "11                        17.0                        22.0   \n",
       "12                         0.0                         0.0   \n",
       "13                         2.0                         0.0   \n",
       "14                         4.0                         5.0   \n",
       "15                         1.0                         0.0   \n",
       "16                         1.0                         3.0   \n",
       "17                         3.0                         5.0   \n",
       "18                         3.0                         4.0   \n",
       "19                         6.0                         8.0   \n",
       "\n",
       "    total_cnt_month_item_lag_5  total_cnt_month_item_lag_11  \\\n",
       "0                          0.0                          0.0   \n",
       "1                          2.0                          0.0   \n",
       "2                          0.0                          0.0   \n",
       "3                          0.0                          0.0   \n",
       "4                          0.0                          0.0   \n",
       "5                          0.0                          0.0   \n",
       "6                          0.0                          0.0   \n",
       "7                          0.0                          0.0   \n",
       "8                         21.0                          0.0   \n",
       "9                         21.0                          0.0   \n",
       "10                        30.0                          0.0   \n",
       "11                        18.0                          0.0   \n",
       "12                         0.0                          0.0   \n",
       "13                         3.0                          0.0   \n",
       "14                         2.0                          0.0   \n",
       "15                         0.0                          0.0   \n",
       "16                         1.0                          0.0   \n",
       "17                         2.0                          0.0   \n",
       "18                         3.0                          0.0   \n",
       "19                         5.0                          0.0   \n",
       "\n",
       "    total_cnt_month_shop_lag_1  total_cnt_month_shop_lag_3  \\\n",
       "0                          0.0                         0.0   \n",
       "1                       5448.0                         0.0   \n",
       "2                          0.0                         0.0   \n",
       "3                       5448.0                         0.0   \n",
       "4                          0.0                         0.0   \n",
       "5                          0.0                         0.0   \n",
       "6                          0.0                         0.0   \n",
       "7                          0.0                         0.0   \n",
       "8                       5448.0                      5427.0   \n",
       "9                       5448.0                      5427.0   \n",
       "10                      5448.0                      5427.0   \n",
       "11                      5448.0                      5427.0   \n",
       "12                         0.0                         0.0   \n",
       "13                      5448.0                         0.0   \n",
       "14                      5448.0                      5427.0   \n",
       "15                      5448.0                         0.0   \n",
       "16                      5448.0                      5427.0   \n",
       "17                      5448.0                      5427.0   \n",
       "18                      5448.0                      5427.0   \n",
       "19                      5448.0                      5427.0   \n",
       "\n",
       "    total_cnt_month_shop_lag_5  total_cnt_month_shop_lag_11  \n",
       "0                          0.0                          0.0  \n",
       "1                       4630.0                          0.0  \n",
       "2                          0.0                          0.0  \n",
       "3                          0.0                          0.0  \n",
       "4                          0.0                          0.0  \n",
       "5                          0.0                          0.0  \n",
       "6                          0.0                          0.0  \n",
       "7                          0.0                          0.0  \n",
       "8                       4630.0                          0.0  \n",
       "9                       4630.0                          0.0  \n",
       "10                      4630.0                          0.0  \n",
       "11                      4630.0                          0.0  \n",
       "12                         0.0                          0.0  \n",
       "13                      4630.0                          0.0  \n",
       "14                      4630.0                          0.0  \n",
       "15                         0.0                          0.0  \n",
       "16                      4630.0                          0.0  \n",
       "17                      4630.0                          0.0  \n",
       "18                      4630.0                          0.0  \n",
       "19                      4630.0                          0.0  "
      ]
     },
     "execution_count": 98,
     "metadata": {},
     "output_type": "execute_result"
    }
   ],
   "source": [
    "x_train_bm.head(20)"
   ]
  },
  {
   "cell_type": "code",
   "execution_count": 181,
   "id": "55af75e8",
   "metadata": {},
   "outputs": [],
   "source": [
    "tree = DecisionTreeRegressor(max_depth = 8) #tuning hyperparameters and finding the optimal values will be done later.\n",
    "tree.fit(x_train_bm, y_train_bm)\n",
    "\n",
    "recent_model = tree\n",
    "y_pred_bm = recent_model.predict(x_val_bm)"
   ]
  },
  {
   "cell_type": "code",
   "execution_count": 183,
   "id": "701e89e1",
   "metadata": {},
   "outputs": [
    {
     "name": "stdout",
     "output_type": "stream",
     "text": [
      "mean_absolute_error =  0.34989714300332087\n",
      "mean_squared_error =  0.9686526361405678\n",
      "root_mean_squared_error =  0.9842015221185993\n",
      "r2 =  0.25099393942411186\n"
     ]
    },
    {
     "data": {
      "text/plain": [
       "<AxesSubplot:>"
      ]
     },
     "execution_count": 183,
     "metadata": {},
     "output_type": "execute_result"
    },
    {
     "data": {
      "image/png": "[encoded data removed]",
      "text/plain": [
       "<Figure size 432x288 with 1 Axes>"
      ]
     },
     "metadata": {
      "needs_background": "light"
     },
     "output_type": "display_data"
    }
   ],
   "source": [
    "# evaluation metrics          \n",
    "from sklearn.metrics import mean_absolute_error\n",
    "from sklearn.metrics import mean_squared_error\n",
    "from sklearn.metrics import r2_score\n",
    "from math import sqrt\n",
    "\n",
    "print('mean_absolute_error = ',  mean_absolute_error(y_val_bm, y_pred_bm ) )\n",
    "print('mean_squared_error = ', mean_squared_error(y_val_bm, y_pred_bm))\n",
    "print('root_mean_squared_error = ', sqrt(mean_squared_error(y_val_bm, y_pred_bm)))\n",
    "print('r2 = ', r2_score(y_val_bm, y_pred_bm))\n",
    "\n",
    "(pd.Series(tree.feature_importances_, index=x_train_bm.columns)\n",
    "   .nlargest(15)\n",
    "   .plot(kind='barh'))"
   ]
  },
  {
   "cell_type": "markdown",
   "id": "f23d18ed",
   "metadata": {},
   "source": [
    "## Random Forest"
   ]
  },
  {
   "cell_type": "code",
   "execution_count": null,
   "id": "8b0f0d76",
   "metadata": {},
   "outputs": [],
   "source": [
    "from sklearn.ensemble import RandomForestRegressor \n",
    "\n",
    "random_forest_model = RandomForestRegressor(n_estimators= 400,\n",
    " min_samples_split= 20,\n",
    " min_samples_leaf= 4,\n",
    " max_features= 'auto',\n",
    " max_depth= 10,\n",
    " n_jobs = -1,                                              \n",
    " bootstrap= True)\n",
    "random_forest_model.fit(x_train_bm, y_train_bm)\n",
    "\n",
    "recent_model = random_forest_model\n",
    "y_pred_rf = recent_model.predict(x_val_bm)"
   ]
  },
  {
   "cell_type": "code",
   "execution_count": null,
   "id": "6958237e",
   "metadata": {},
   "outputs": [],
   "source": [
    "# evaluation metrics          \n",
    "from sklearn.metrics import mean_absolute_error\n",
    "from sklearn.metrics import mean_squared_error\n",
    "from sklearn.metrics import r2_score\n",
    "from math import sqrt\n",
    "\n",
    "print('mean_absolute_error = ',  mean_absolute_error(y_val_bm, y_pred_bm ) )\n",
    "print('mean_squared_error = ', mean_squared_error(y_val_bm, y_pred_bm))\n",
    "print('root_mean_squared_error = ', sqrt(mean_squared_error(y_val_bm, y_pred_bm)))\n",
    "print('r2 = ', r2_score(y_val_bm, y_pred_bm))\n",
    "\n",
    "(pd.Series(tree.feature_importances_, index=x_train_bm.columns)\n",
    "   .nlargest(15)\n",
    "   .plot(kind='barh'))"
   ]
  },
  {
   "cell_type": "markdown",
   "id": "7b6005c9",
   "metadata": {},
   "source": [
    "## Gradient Boosting"
   ]
  },
  {
   "cell_type": "code",
   "execution_count": null,
   "id": "92dce516",
   "metadata": {},
   "outputs": [],
   "source": [
    "# evaluation metrics          \n",
    "from sklearn.metrics import mean_absolute_error\n",
    "from sklearn.metrics import mean_squared_error\n",
    "from sklearn.metrics import r2_score\n",
    "from math import sqrt\n",
    "\n",
    "print('mean_absolute_error = ',  mean_absolute_error(y_val_bm, y_pred_rf ) )\n",
    "print('mean_squared_error = ', mean_squared_error(y_val_bm, y_pred_rf))\n",
    "print('root_mean_squared_error = ', sqrt(mean_squared_error(y_val_bm, y_pred_rf)))\n",
    "print('r2 = ', r2_score(y_val_bm, y_pred_rf))\n",
    "\n",
    "(pd.Series(random_forest_model.feature_importances_, index=x_train_bm.columns)\n",
    "   .nlargest(15)\n",
    "   .plot(kind='barh'))"
   ]
  },
  {
   "cell_type": "code",
   "execution_count": null,
   "id": "d44fba6e",
   "metadata": {},
   "outputs": [],
   "source": [
    "from sklearn.model_selection import RandomizedSearchCV\n",
    "from xgboost import XGBRegressor\n",
    "\n",
    "#hyper_params = {'max_depth': [3, 4, 5, 6, 7, 8, 9], \n",
    "#                'gamma': [0, 0.5, 1, 1.5, 2, 5], \n",
    "#                'subsample': [0.6, 0.7, 0.8, 0.9, 1], \n",
    "#                'colsample_bytree': [0.5, 0.6, 0.7, 0.8, 0.9, 1], \n",
    "#                'learning_rate': [0.01, 0.1, 0.2, 0.3],\n",
    "#                'max_bin' : [256, 512, 1024]\n",
    "#               }\n",
    "\n",
    "#xgbr = XGBRegressor(seed = 13, tree_method = \"hist\") #gpu_hist\n",
    "\n",
    "#clf = RandomizedSearchCV(estimator = xgbr, \n",
    "#                   param_distributions = hyper_params,\n",
    "#                   n_iter = 2, #500\n",
    "#                   scoring = 'neg_root_mean_squared_error',\n",
    "#                   cv = splits,\n",
    "#                   verbose=3)\n",
    "\n",
    "#clf.fit(X_train, y_train)\n",
    "\n",
    "#print(\"Best parameters:\", clf.best_params_)\n",
    "#print(\"Lowest RMSE: \", -clf.best_score_)"
   ]
  },
  {
   "cell_type": "code",
   "execution_count": null,
   "id": "ddc43043",
   "metadata": {},
   "outputs": [],
   "source": []
  },
  {
   "cell_type": "code",
   "execution_count": null,
   "id": "b8f95318",
   "metadata": {},
   "outputs": [],
   "source": [
    "from sklearn.ensemble import GradientBoostingRegressor\n",
    "\n",
    "gradientBoost_model = GradientBoostingRegressor() \n",
    "gradientBoost_model.fit(x_train_bm, y_train_bm)\n",
    "\n",
    "recent_model = gradientBoost_model\n",
    "y_pred_gb = recent_model.predict(x_test_bm)"
   ]
  },
  {
   "cell_type": "code",
   "execution_count": null,
   "id": "f04d8a4d",
   "metadata": {},
   "outputs": [],
   "source": [
    "print('mean_absolute_error = ',  mean_absolute_error(y_test_bm, y_pred_gb ) )\n",
    "print('mean_squared_error = ', mean_squared_error(y_test_bm, y_pred_gb))\n",
    "print('root_mean_squared_error = ', sqrt(mean_squared_error(y_test_bm, y_pred_gb)))\n",
    "print('r2 = ', r2_score(y_test_bm, y_pred_gb))\n",
    "\n",
    "(pd.Series(gradientBoost_model.feature_importances_, index=x_train_bm.columns)\n",
    "   .nlargest(15)\n",
    "   .plot(kind='barh'))"
   ]
  },
  {
   "cell_type": "code",
   "execution_count": null,
   "id": "bf923a54",
   "metadata": {},
   "outputs": [],
   "source": [
    "# Maximum numbr of levels in tree\n",
    "max_depth = [10, 20, 50, 70, 100, 200, 300, 500]\n",
    "max_depth.append(None)\n",
    "\n",
    "#The minimum number of samples required to be at a leaf node\n",
    "min_samples_leaf = [1, 2, 4, 8, 10, 20, 30]\n",
    "\n",
    "#Minimum number of samples required to split a node\n",
    "min_samples_split = [2, 5, 10, 20, 30, 40]\n",
    "\n",
    "#The number of features to consider when looking for the best split\n",
    "max_features = ['auto', 'sqrt']\n",
    "\n",
    "#If False, the whole dataset is used to build each tree.\n",
    "bootstrap = [True, False]\n",
    "\n",
    "#Number of trees in random forest\n",
    "n_estimators = [int(x) for x in np.linspace(start=200, stop=2000, num=10)]"
   ]
  },
  {
   "cell_type": "code",
   "execution_count": null,
   "id": "b6ceadfa",
   "metadata": {},
   "outputs": [],
   "source": [
    "\n",
    "import pprint as pp\n",
    "\n",
    "# Create the random grid\n",
    "random_grid = {'n_estimators': n_estimators,\n",
    "               'max_features': max_features,\n",
    "               'max_depth': max_depth,\n",
    "               'min_samples_split': min_samples_split,\n",
    "               'min_samples_leaf': min_samples_leaf,\n",
    "               'bootstrap': bootstrap}\n",
    "pp.pprint(random_grid)"
   ]
  },
  {
   "cell_type": "code",
   "execution_count": null,
   "id": "fde8d2de",
   "metadata": {},
   "outputs": [],
   "source": [
    "from sklearn.model_selection import RandomizedSearchCV\n",
    "\n",
    "#uses random_grid to search for the best hyper-parameters\n",
    "\n",
    "rf = RandomForestRegressor()\n",
    "\n",
    "rf_random = RandomizedSearchCV(estimator=rf, param_distributions=random_grid, n_iter=5, cv=3, \n",
    "                              verbose=2, random_state=42, n_jobs=4)\n",
    "\n",
    "\n",
    "# Fit the random search model\n",
    "rf_random.fit(x_train_bm, y_train_bm)\n",
    "#performances = pd.DataFrame.from_dict(rf_random.cv_results_).to_csv(\"comparison_performances.csv\")\n",
    "#performances.head()"
   ]
  },
  {
   "cell_type": "code",
   "execution_count": null,
   "id": "ef975cfa",
   "metadata": {},
   "outputs": [],
   "source": [
    "performances = pd.DataFrame.from_dict(rf_random.cv_results_).to_csv(\"comparison_performances.csv\")\n",
    "#performances.head()"
   ]
  },
  {
   "cell_type": "code",
   "execution_count": null,
   "id": "9537bccc",
   "metadata": {},
   "outputs": [],
   "source": [
    "#a = (sales_test_prepared['item_id']=='5320').index[(sales_test_prepared['item_id']=='5320')==True]\n",
    "#print(a)\n",
    "\n",
    "#b = []\n",
    "#say = 0\n",
    "#for x in missing_items:\n",
    "#    say = say+1\n",
    "#    a = (sales_test_prepared['item_id']==str(x)).index[(sales_test_prepared['item_id']==str(x))==True]\n",
    "#    for i in list(a):\n",
    "#        b.append(i)\n",
    "#len(b)\n",
    "\n",
    "#test_set_prepared_no_missing_items = sales_test_prepared.copy()\n",
    "#for missing_item_index in b:  \n",
    "#    test_set_prepared_no_missing_items = test_set_prepared_no_missing_items.drop(missing_item_index, axis=0)\n",
    "\n",
    "214200-15246"
   ]
  },
  {
   "cell_type": "code",
   "execution_count": null,
   "id": "2a160082",
   "metadata": {},
   "outputs": [],
   "source": [
    "pd.DataFrame.from_dict(rf_random.cv_results_)"
   ]
  }
 ],
 "metadata": {
  "kernelspec": {
   "display_name": "Python 3",
   "language": "python",
   "name": "python3"
  },
  "language_info": {
   "codemirror_mode": {
    "name": "ipython",
    "version": 3
   },
   "file_extension": ".py",
   "mimetype": "text/x-python",
   "name": "python",
   "nbconvert_exporter": "python",
   "pygments_lexer": "ipython3",
   "version": "3.8.8"
  }
 },
 "nbformat": 4,
 "nbformat_minor": 5
}
