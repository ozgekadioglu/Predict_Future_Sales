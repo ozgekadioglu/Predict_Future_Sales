{
 "cells": [
  {
   "cell_type": "markdown",
   "id": "de3ef891-5043-481e-8313-dfdc2abfe08f",
   "metadata": {},
   "source": [
    "<b> Predict Sales  \n",
    "    Data Description: </b>\n",
    "You are provided with daily historical sales data. The task is to forecast the total amount of products sold in every shop for the test set. Note that the list of shops and products slightly changes every month. Creating a robust model that can handle such situations is part of the challenge. Then:\n",
    "\n",
    "1. for the list of shops and products I should then create a data frame that can be extended with the new lists.\n",
    "2. target feature —> total amount of a given product sold in a given shop per month\n",
    "3. item_cnt_day (# of product sold in a given day)\n",
    "Then I should create a column item_cnt_month\n",
    "\n",
    "<b> Features: </b>  \n",
    "ID - an Id that represents a (Shop, Item) tuple within the test set\n",
    "* shop_id - unique identifier of a shop\n",
    "* item_id - unique identifier of a product\n",
    "* item_category_id - unique identifier of item category\n",
    "* item_cnt_day - number of products sold. You are predicting a monthly amount of this measure\n",
    "* item_price - current price of an item\n",
    "* date - date in format dd/mm/yyyy\n",
    "* date_block_num - a consecutive month number, used for convenience. January 2013 is 0, February 2013 is 1,…, October 2015 is 33\n",
    "* item_name - name of item\n",
    "* shop_name - name of shop\n",
    "* item_category_name - name of item category  "
   ]
  },
  {
   "cell_type": "markdown",
   "id": "8c2133d3",
   "metadata": {},
   "source": [
    "<a id='table_of_contents'></a>\n",
    "\n",
    "0. [Import Packages](#imports_packages)  \n",
    "1. [Import Data](#imports_data)\n",
    "2. [Data Exploration](#data_exploration)\n",
    "3. [Data Cleaning](#data_cleaning)\n",
    "4. [Data Preparation](#data_preparation)\n",
    "5. [Feature Engineering](#feature_engineering)\n",
    "6. [Benchmark Modelling](#benchmark_modelling)\n",
    "7. [Evaluation of the Model](#evaluating_model)\n"
   ]
  },
  {
   "cell_type": "markdown",
   "id": "23682c2b",
   "metadata": {},
   "source": [
    "# 0. Import Packages <a id='imports_packages'></a>\n",
    "[Back to top](#table_of_contents)"
   ]
  },
  {
   "cell_type": "code",
   "execution_count": 1,
   "id": "48f48dad-42bc-45ad-9b28-31c7660504a4",
   "metadata": {},
   "outputs": [],
   "source": [
    "import pandas as pd\n",
    "import numpy as np\n",
    "import matplotlib.pyplot as plt\n",
    "%matplotlib inline"
   ]
  },
  {
   "cell_type": "markdown",
   "id": "a1ee3506",
   "metadata": {},
   "source": [
    "# 1. Import Data <a id='imports_data'></a>\n",
    "[Back to top](#table_of_contents)"
   ]
  },
  {
   "cell_type": "markdown",
   "id": "70c771f4-4038-4687-afe3-7f42d0b57248",
   "metadata": {},
   "source": [
    "#### Item Categories"
   ]
  },
  {
   "cell_type": "code",
   "execution_count": 2,
   "id": "04d585ed",
   "metadata": {},
   "outputs": [],
   "source": [
    "item_categories = pd.read_csv('Data/item_categories.csv')"
   ]
  },
  {
   "cell_type": "code",
   "execution_count": 3,
   "id": "39b62c4c",
   "metadata": {},
   "outputs": [
    {
     "data": {
      "text/html": [
       "<div>\n",
       "<style scoped>\n",
       "    .dataframe tbody tr th:only-of-type {\n",
       "        vertical-align: middle;\n",
       "    }\n",
       "\n",
       "    .dataframe tbody tr th {\n",
       "        vertical-align: top;\n",
       "    }\n",
       "\n",
       "    .dataframe thead th {\n",
       "        text-align: right;\n",
       "    }\n",
       "</style>\n",
       "<table border=\"1\" class=\"dataframe\">\n",
       "  <thead>\n",
       "    <tr style=\"text-align: right;\">\n",
       "      <th></th>\n",
       "      <th>item_category_name</th>\n",
       "      <th>item_category_id</th>\n",
       "    </tr>\n",
       "  </thead>\n",
       "  <tbody>\n",
       "    <tr>\n",
       "      <th>0</th>\n",
       "      <td>PC - Гарнитуры/Наушники</td>\n",
       "      <td>0</td>\n",
       "    </tr>\n",
       "    <tr>\n",
       "      <th>1</th>\n",
       "      <td>Аксессуары - PS2</td>\n",
       "      <td>1</td>\n",
       "    </tr>\n",
       "    <tr>\n",
       "      <th>2</th>\n",
       "      <td>Аксессуары - PS3</td>\n",
       "      <td>2</td>\n",
       "    </tr>\n",
       "  </tbody>\n",
       "</table>\n",
       "</div>"
      ],
      "text/plain": [
       "        item_category_name  item_category_id\n",
       "0  PC - Гарнитуры/Наушники                 0\n",
       "1         Аксессуары - PS2                 1\n",
       "2         Аксессуары - PS3                 2"
      ]
     },
     "execution_count": 3,
     "metadata": {},
     "output_type": "execute_result"
    }
   ],
   "source": [
    "item_categories.head(3)"
   ]
  },
  {
   "cell_type": "markdown",
   "id": "3294ef9d-7ee7-47a3-885b-ef444cc42e20",
   "metadata": {},
   "source": [
    "#### Item List "
   ]
  },
  {
   "cell_type": "code",
   "execution_count": 4,
   "id": "6fa3877f-8fce-41d4-bbf3-857c3d614178",
   "metadata": {},
   "outputs": [
    {
     "data": {
      "text/html": [
       "<div>\n",
       "<style scoped>\n",
       "    .dataframe tbody tr th:only-of-type {\n",
       "        vertical-align: middle;\n",
       "    }\n",
       "\n",
       "    .dataframe tbody tr th {\n",
       "        vertical-align: top;\n",
       "    }\n",
       "\n",
       "    .dataframe thead th {\n",
       "        text-align: right;\n",
       "    }\n",
       "</style>\n",
       "<table border=\"1\" class=\"dataframe\">\n",
       "  <thead>\n",
       "    <tr style=\"text-align: right;\">\n",
       "      <th></th>\n",
       "      <th>item_name</th>\n",
       "      <th>item_id</th>\n",
       "      <th>item_category_id</th>\n",
       "    </tr>\n",
       "  </thead>\n",
       "  <tbody>\n",
       "    <tr>\n",
       "      <th>0</th>\n",
       "      <td>! ВО ВЛАСТИ НАВАЖДЕНИЯ (ПЛАСТ.)         D</td>\n",
       "      <td>0</td>\n",
       "      <td>40</td>\n",
       "    </tr>\n",
       "    <tr>\n",
       "      <th>1</th>\n",
       "      <td>!ABBYY FineReader 12 Professional Edition Full...</td>\n",
       "      <td>1</td>\n",
       "      <td>76</td>\n",
       "    </tr>\n",
       "    <tr>\n",
       "      <th>2</th>\n",
       "      <td>***В ЛУЧАХ СЛАВЫ   (UNV)                    D</td>\n",
       "      <td>2</td>\n",
       "      <td>40</td>\n",
       "    </tr>\n",
       "  </tbody>\n",
       "</table>\n",
       "</div>"
      ],
      "text/plain": [
       "                                           item_name  item_id  \\\n",
       "0          ! ВО ВЛАСТИ НАВАЖДЕНИЯ (ПЛАСТ.)         D        0   \n",
       "1  !ABBYY FineReader 12 Professional Edition Full...        1   \n",
       "2      ***В ЛУЧАХ СЛАВЫ   (UNV)                    D        2   \n",
       "\n",
       "   item_category_id  \n",
       "0                40  \n",
       "1                76  \n",
       "2                40  "
      ]
     },
     "execution_count": 4,
     "metadata": {},
     "output_type": "execute_result"
    }
   ],
   "source": [
    "item_list = pd.read_csv('Data/items.csv')\n",
    "item_list.head(3)"
   ]
  },
  {
   "cell_type": "code",
   "execution_count": 5,
   "id": "5661ab4c",
   "metadata": {},
   "outputs": [
    {
     "data": {
      "text/plain": [
       "<AxesSubplot:>"
      ]
     },
     "execution_count": 5,
     "metadata": {},
     "output_type": "execute_result"
    },
    {
     "data": {
      "image/png": "[encoded data removed]",
      "text/plain": [
       "<Figure size 1440x360 with 1 Axes>"
      ]
     },
     "metadata": {
      "needs_background": "light"
     },
     "output_type": "display_data"
    }
   ],
   "source": [
    "item_list['item_category_id'].hist(figsize=(20,5), bins=60)"
   ]
  },
  {
   "cell_type": "code",
   "execution_count": 6,
   "id": "91fdd163",
   "metadata": {},
   "outputs": [
    {
     "name": "stdout",
     "output_type": "stream",
     "text": [
      "22170 unique items\n"
     ]
    }
   ],
   "source": [
    "print(item_list['item_id'].nunique(), 'unique items')"
   ]
  },
  {
   "cell_type": "code",
   "execution_count": 7,
   "id": "306a677c",
   "metadata": {},
   "outputs": [
    {
     "name": "stdout",
     "output_type": "stream",
     "text": [
      "40    Кино - DVD\n",
      "Name: item_category_name, dtype: object\n",
      "55    Музыка - CD локального производства\n",
      "Name: item_category_name, dtype: object\n",
      "37    Кино - Blu-Ray\n",
      "Name: item_category_name, dtype: object\n",
      "31    Игры PC - Цифра\n",
      "Name: item_category_name, dtype: object\n"
     ]
    }
   ],
   "source": [
    "for i in 40, 55, 37, 31:\n",
    "    print(item_categories[item_categories['item_category_id']==i].item_category_name)"
   ]
  },
  {
   "cell_type": "markdown",
   "id": "83678128-db71-44eb-99b7-826ff6324ba0",
   "metadata": {},
   "source": [
    "* There are 22170 different items in the store and the features of them --> item_id, item_category_id\n",
    "* Most of the items belong to item_category #40 which is \"Кино - DVD\""
   ]
  },
  {
   "cell_type": "code",
   "execution_count": 8,
   "id": "c5f0c211",
   "metadata": {},
   "outputs": [],
   "source": [
    "item_id_list = item_list[['item_id', 'item_category_id']]"
   ]
  },
  {
   "cell_type": "markdown",
   "id": "d4baedf2-a1af-4f21-8b0f-6dfb6aa4f759",
   "metadata": {},
   "source": [
    "#### Shops"
   ]
  },
  {
   "cell_type": "code",
   "execution_count": 9,
   "id": "bb39e43d-c66e-4539-b6b5-bc4f98429eb2",
   "metadata": {},
   "outputs": [
    {
     "data": {
      "text/html": [
       "<div>\n",
       "<style scoped>\n",
       "    .dataframe tbody tr th:only-of-type {\n",
       "        vertical-align: middle;\n",
       "    }\n",
       "\n",
       "    .dataframe tbody tr th {\n",
       "        vertical-align: top;\n",
       "    }\n",
       "\n",
       "    .dataframe thead th {\n",
       "        text-align: right;\n",
       "    }\n",
       "</style>\n",
       "<table border=\"1\" class=\"dataframe\">\n",
       "  <thead>\n",
       "    <tr style=\"text-align: right;\">\n",
       "      <th></th>\n",
       "      <th>shop_name</th>\n",
       "      <th>shop_id</th>\n",
       "    </tr>\n",
       "  </thead>\n",
       "  <tbody>\n",
       "    <tr>\n",
       "      <th>0</th>\n",
       "      <td>!Якутск Орджоникидзе, 56 фран</td>\n",
       "      <td>0</td>\n",
       "    </tr>\n",
       "    <tr>\n",
       "      <th>1</th>\n",
       "      <td>!Якутск ТЦ \"Центральный\" фран</td>\n",
       "      <td>1</td>\n",
       "    </tr>\n",
       "    <tr>\n",
       "      <th>2</th>\n",
       "      <td>Адыгея ТЦ \"Мега\"</td>\n",
       "      <td>2</td>\n",
       "    </tr>\n",
       "  </tbody>\n",
       "</table>\n",
       "</div>"
      ],
      "text/plain": [
       "                       shop_name  shop_id\n",
       "0  !Якутск Орджоникидзе, 56 фран        0\n",
       "1  !Якутск ТЦ \"Центральный\" фран        1\n",
       "2               Адыгея ТЦ \"Мега\"        2"
      ]
     },
     "execution_count": 9,
     "metadata": {},
     "output_type": "execute_result"
    }
   ],
   "source": [
    "shops = pd.read_csv('Data/shops.csv')\n",
    "shops.head(3)"
   ]
  },
  {
   "cell_type": "code",
   "execution_count": 10,
   "id": "e43a3345",
   "metadata": {},
   "outputs": [],
   "source": [
    "shops.loc[shops['shop_name'] == 'Сергиев Посад ТЦ \"7Я\"', 'shop_name'] = 'СергиевПосад ТЦ \"7Я\"'"
   ]
  },
  {
   "cell_type": "markdown",
   "id": "86be85fd",
   "metadata": {},
   "source": [
    "There are duplicates which are:"
   ]
  },
  {
   "cell_type": "code",
   "execution_count": 11,
   "id": "25ba2c9c",
   "metadata": {},
   "outputs": [
    {
     "name": "stdout",
     "output_type": "stream",
     "text": [
      "Якутск Орджоникидзе, 56 !Якутск Орджоникидзе, 56 фран\n",
      "Якутск ТЦ \"Центральный\" !Якутск ТЦ \"Центральный\" фран\n",
      "Жуковский ул. Чкалова 39м? Жуковский ул. Чкалова 39м²\n"
     ]
    }
   ],
   "source": [
    "print(shops['shop_name'][57], shops['shop_name'][0])\n",
    "print(shops['shop_name'][58], shops['shop_name'][1])\n",
    "print(shops['shop_name'][10], shops['shop_name'][11])"
   ]
  },
  {
   "cell_type": "markdown",
   "id": "b096a15f",
   "metadata": {},
   "source": [
    "#### These should be removed."
   ]
  },
  {
   "cell_type": "markdown",
   "id": "28ac9773-c52b-43e2-8279-42faf05df69d",
   "metadata": {},
   "source": [
    "#### Sample Submission"
   ]
  },
  {
   "cell_type": "markdown",
   "id": "f9adc267-940f-49e4-9f13-714ba2a9ef90",
   "metadata": {},
   "source": [
    "A sample submission file in the correct format. Like a hint?"
   ]
  },
  {
   "cell_type": "code",
   "execution_count": 12,
   "id": "bd9fc9c0-c735-49b1-a016-2c952ea48827",
   "metadata": {},
   "outputs": [
    {
     "data": {
      "text/html": [
       "<div>\n",
       "<style scoped>\n",
       "    .dataframe tbody tr th:only-of-type {\n",
       "        vertical-align: middle;\n",
       "    }\n",
       "\n",
       "    .dataframe tbody tr th {\n",
       "        vertical-align: top;\n",
       "    }\n",
       "\n",
       "    .dataframe thead th {\n",
       "        text-align: right;\n",
       "    }\n",
       "</style>\n",
       "<table border=\"1\" class=\"dataframe\">\n",
       "  <thead>\n",
       "    <tr style=\"text-align: right;\">\n",
       "      <th></th>\n",
       "      <th>ID</th>\n",
       "      <th>item_cnt_month</th>\n",
       "    </tr>\n",
       "  </thead>\n",
       "  <tbody>\n",
       "    <tr>\n",
       "      <th>0</th>\n",
       "      <td>0</td>\n",
       "      <td>0.5</td>\n",
       "    </tr>\n",
       "    <tr>\n",
       "      <th>1</th>\n",
       "      <td>1</td>\n",
       "      <td>0.5</td>\n",
       "    </tr>\n",
       "  </tbody>\n",
       "</table>\n",
       "</div>"
      ],
      "text/plain": [
       "   ID  item_cnt_month\n",
       "0   0             0.5\n",
       "1   1             0.5"
      ]
     },
     "execution_count": 12,
     "metadata": {},
     "output_type": "execute_result"
    }
   ],
   "source": [
    "sample_sub = pd.read_csv('Data/sample_submission.csv')\n",
    "sample_sub.head(2)"
   ]
  },
  {
   "cell_type": "markdown",
   "id": "f731197c-0452-4897-8214-d903a0ee37af",
   "metadata": {},
   "source": [
    "#### Training Set"
   ]
  },
  {
   "cell_type": "markdown",
   "id": "fd973231-3bb9-45d5-a8c4-bfd9ac4754b9",
   "metadata": {},
   "source": [
    "The training set. Daily historical data from January 2013 to October 2015."
   ]
  },
  {
   "cell_type": "code",
   "execution_count": 13,
   "id": "3a851182-8242-48b8-9d54-a5cf430b1a9e",
   "metadata": {},
   "outputs": [
    {
     "data": {
      "text/html": [
       "<div>\n",
       "<style scoped>\n",
       "    .dataframe tbody tr th:only-of-type {\n",
       "        vertical-align: middle;\n",
       "    }\n",
       "\n",
       "    .dataframe tbody tr th {\n",
       "        vertical-align: top;\n",
       "    }\n",
       "\n",
       "    .dataframe thead th {\n",
       "        text-align: right;\n",
       "    }\n",
       "</style>\n",
       "<table border=\"1\" class=\"dataframe\">\n",
       "  <thead>\n",
       "    <tr style=\"text-align: right;\">\n",
       "      <th></th>\n",
       "      <th>date</th>\n",
       "      <th>date_block_num</th>\n",
       "      <th>shop_id</th>\n",
       "      <th>item_id</th>\n",
       "      <th>item_price</th>\n",
       "      <th>item_cnt_day</th>\n",
       "    </tr>\n",
       "  </thead>\n",
       "  <tbody>\n",
       "    <tr>\n",
       "      <th>0</th>\n",
       "      <td>02.01.2013</td>\n",
       "      <td>0</td>\n",
       "      <td>59</td>\n",
       "      <td>22154</td>\n",
       "      <td>999.0</td>\n",
       "      <td>1.0</td>\n",
       "    </tr>\n",
       "    <tr>\n",
       "      <th>1</th>\n",
       "      <td>03.01.2013</td>\n",
       "      <td>0</td>\n",
       "      <td>25</td>\n",
       "      <td>2552</td>\n",
       "      <td>899.0</td>\n",
       "      <td>1.0</td>\n",
       "    </tr>\n",
       "    <tr>\n",
       "      <th>2</th>\n",
       "      <td>05.01.2013</td>\n",
       "      <td>0</td>\n",
       "      <td>25</td>\n",
       "      <td>2552</td>\n",
       "      <td>899.0</td>\n",
       "      <td>-1.0</td>\n",
       "    </tr>\n",
       "  </tbody>\n",
       "</table>\n",
       "</div>"
      ],
      "text/plain": [
       "         date  date_block_num  shop_id  item_id  item_price  item_cnt_day\n",
       "0  02.01.2013               0       59    22154       999.0           1.0\n",
       "1  03.01.2013               0       25     2552       899.0           1.0\n",
       "2  05.01.2013               0       25     2552       899.0          -1.0"
      ]
     },
     "execution_count": 13,
     "metadata": {},
     "output_type": "execute_result"
    }
   ],
   "source": [
    "sales_train = pd.read_csv('Data/sales_train.csv')\n",
    "sales_train.head(3)\n",
    "#sales_train[sales_train['shop_id']==0]"
   ]
  },
  {
   "cell_type": "markdown",
   "id": "24e35150",
   "metadata": {},
   "source": [
    "#### Testing Set"
   ]
  },
  {
   "cell_type": "markdown",
   "id": "a52bfa90",
   "metadata": {},
   "source": [
    "The test set. You need to forecast the sales for these shops and products for November 2015."
   ]
  },
  {
   "cell_type": "code",
   "execution_count": 14,
   "id": "21c21dd4",
   "metadata": {},
   "outputs": [
    {
     "name": "stdout",
     "output_type": "stream",
     "text": [
      "(214200, 3)\n"
     ]
    },
    {
     "data": {
      "text/html": [
       "<div>\n",
       "<style scoped>\n",
       "    .dataframe tbody tr th:only-of-type {\n",
       "        vertical-align: middle;\n",
       "    }\n",
       "\n",
       "    .dataframe tbody tr th {\n",
       "        vertical-align: top;\n",
       "    }\n",
       "\n",
       "    .dataframe thead th {\n",
       "        text-align: right;\n",
       "    }\n",
       "</style>\n",
       "<table border=\"1\" class=\"dataframe\">\n",
       "  <thead>\n",
       "    <tr style=\"text-align: right;\">\n",
       "      <th></th>\n",
       "      <th>ID</th>\n",
       "      <th>shop_id</th>\n",
       "      <th>item_id</th>\n",
       "    </tr>\n",
       "  </thead>\n",
       "  <tbody>\n",
       "    <tr>\n",
       "      <th>0</th>\n",
       "      <td>0</td>\n",
       "      <td>5</td>\n",
       "      <td>5037</td>\n",
       "    </tr>\n",
       "    <tr>\n",
       "      <th>1</th>\n",
       "      <td>1</td>\n",
       "      <td>5</td>\n",
       "      <td>5320</td>\n",
       "    </tr>\n",
       "  </tbody>\n",
       "</table>\n",
       "</div>"
      ],
      "text/plain": [
       "   ID  shop_id  item_id\n",
       "0   0        5     5037\n",
       "1   1        5     5320"
      ]
     },
     "execution_count": 14,
     "metadata": {},
     "output_type": "execute_result"
    }
   ],
   "source": [
    "sales_test = pd.read_csv('Data/test.csv')\n",
    "print(sales_test.shape)\n",
    "sales_test.head(2)"
   ]
  },
  {
   "cell_type": "code",
   "execution_count": 15,
   "id": "8b011aac",
   "metadata": {},
   "outputs": [
    {
     "data": {
      "text/plain": [
       "ID         0\n",
       "shop_id    0\n",
       "item_id    0\n",
       "dtype: int64"
      ]
     },
     "execution_count": 15,
     "metadata": {},
     "output_type": "execute_result"
    }
   ],
   "source": [
    "sales_test.isna().sum()\n",
    "#sales_train.isna().sum()"
   ]
  },
  {
   "cell_type": "code",
   "execution_count": 16,
   "id": "1207ddfe",
   "metadata": {},
   "outputs": [
    {
     "data": {
      "text/plain": [
       "ID         int64\n",
       "shop_id    int64\n",
       "item_id    int64\n",
       "dtype: object"
      ]
     },
     "execution_count": 16,
     "metadata": {},
     "output_type": "execute_result"
    }
   ],
   "source": [
    "sales_test.dtypes"
   ]
  },
  {
   "cell_type": "code",
   "execution_count": 17,
   "id": "8adb8e76",
   "metadata": {},
   "outputs": [
    {
     "data": {
      "text/plain": [
       "2049     42\n",
       "6743     42\n",
       "13266    42\n",
       "21342    42\n",
       "17244    42\n",
       "         ..\n",
       "7338     42\n",
       "1193     42\n",
       "3240     42\n",
       "13359    42\n",
       "2047     42\n",
       "Name: item_id, Length: 5100, dtype: int64"
      ]
     },
     "execution_count": 17,
     "metadata": {},
     "output_type": "execute_result"
    }
   ],
   "source": [
    "sales_test['item_id'].value_counts()"
   ]
  },
  {
   "cell_type": "markdown",
   "id": "108532f8",
   "metadata": {},
   "source": [
    "#### Each item type appears 42 times in the test_data. 5100/22170 item types are represented in the test set."
   ]
  },
  {
   "cell_type": "markdown",
   "id": "2f0ace73",
   "metadata": {},
   "source": [
    "# 2. Data Exploration <a id='data_exploration'></a>\n",
    "[Back to top](#table_of_contents)"
   ]
  },
  {
   "cell_type": "markdown",
   "id": "6f1df98a",
   "metadata": {},
   "source": [
    "#### Checking daily sold item numbers and item prices:"
   ]
  },
  {
   "cell_type": "code",
   "execution_count": 18,
   "id": "7968a6f8",
   "metadata": {},
   "outputs": [
    {
     "data": {
      "image/png": "[encoded data removed]",
      "text/plain": [
       "<Figure size 648x288 with 2 Axes>"
      ]
     },
     "metadata": {
      "needs_background": "light"
     },
     "output_type": "display_data"
    }
   ],
   "source": [
    "flierprops = dict(marker='o', markerfacecolor='blue', markersize=5, markeredgecolor='black')\n",
    "\n",
    "fig, axes = plt.subplots(nrows=2, ncols=1, figsize=[9, 4])\n",
    "sales_train.plot.box(ax=axes[0], x='item_id', y='item_cnt_day', flierprops=flierprops, vert=False)\n",
    "sales_train.plot.box(ax=axes[1], x='item_id', y='item_price', flierprops=flierprops, vert=False)\n",
    "\n",
    "ax = plt.gca()\n",
    "#axes[0].set_xlabel('days')\n",
    "#axes[1].set_xlabel('price')\n",
    "axes[0].grid(axis='both', color='gray', alpha=.2)\n",
    "axes[1].grid(axis='both', color='gray', alpha=.2)\n",
    "plt.show()\n"
   ]
  },
  {
   "cell_type": "markdown",
   "id": "467ded31",
   "metadata": {},
   "source": [
    "#### There are negative price and days in addition to outliers. We should remove them."
   ]
  },
  {
   "cell_type": "code",
   "execution_count": 19,
   "id": "c563dbf8-681d-445a-8d0a-ade4e4175339",
   "metadata": {},
   "outputs": [
    {
     "data": {
      "text/plain": [
       "7356"
      ]
     },
     "execution_count": 19,
     "metadata": {},
     "output_type": "execute_result"
    }
   ],
   "source": [
    "len(sales_train[sales_train['item_cnt_day']<0])"
   ]
  },
  {
   "cell_type": "markdown",
   "id": "f1c3265c-0ad9-42d7-ab44-93fe9b4f51e4",
   "metadata": {},
   "source": [
    "* There are 7356 negative item_cnt_day (# of product counts cannot be negative. However, could -1 mean product return? )"
   ]
  },
  {
   "cell_type": "markdown",
   "id": "91a3894e-2516-486b-8149-2f922c933199",
   "metadata": {},
   "source": [
    "* What is the currency? Do these number make sense? Which products cost the mosts?"
   ]
  },
  {
   "cell_type": "code",
   "execution_count": 20,
   "id": "9b461681-5ce5-480d-9411-f6ac9be121f2",
   "metadata": {},
   "outputs": [],
   "source": [
    "#sales_train_sorted_on_price = sales_train.sort_values('item_price', ascending=False)"
   ]
  },
  {
   "cell_type": "code",
   "execution_count": 21,
   "id": "97ee5585-fe3f-42eb-ae04-e4354d3302aa",
   "metadata": {},
   "outputs": [
    {
     "data": {
      "text/plain": [
       "date              13.12.2013\n",
       "date_block_num            11\n",
       "shop_id                   12\n",
       "item_id                 6066\n",
       "item_price          307980.0\n",
       "item_cnt_day             1.0\n",
       "Name: 1163158, dtype: object"
      ]
     },
     "execution_count": 21,
     "metadata": {},
     "output_type": "execute_result"
    }
   ],
   "source": [
    "sales_train.loc[sales_train.item_price.idxmax()]"
   ]
  },
  {
   "cell_type": "code",
   "execution_count": 22,
   "id": "c73c1b9b",
   "metadata": {},
   "outputs": [
    {
     "name": "stdout",
     "output_type": "stream",
     "text": [
      "                 item_name  item_id  item_category_id\n",
      "6066  Radmin 3  - 522 лиц.     6066                75\n",
      "              shop_name  shop_id\n",
      "12  Интернет-магазин ЧС       12\n"
     ]
    }
   ],
   "source": [
    "print(item_list[item_list['item_id']==6066])\n",
    "print(shops[shops['shop_id']==12])"
   ]
  },
  {
   "cell_type": "markdown",
   "id": "da462931-251b-413e-9646-437f043c97b5",
   "metadata": {},
   "source": [
    "I googled it and saw that Radmin 3  - 522 лиц is a remote control software.20 dollars  \n",
    "Only one shop sells this product. \n",
    "307980 russian ruble is 4381.04 USD in October 2021. Thus, the price listed for this product may be unreal. Considering that we do not have any other sample for this product, we may thinking about removing this item from the list. However, I will keep for now."
   ]
  },
  {
   "cell_type": "code",
   "execution_count": 23,
   "id": "c5a73e92-ed4c-4cf9-9c89-de61fcf3a63c",
   "metadata": {},
   "outputs": [
    {
     "data": {
      "text/plain": [
       "21807"
      ]
     },
     "execution_count": 23,
     "metadata": {},
     "output_type": "execute_result"
    }
   ],
   "source": [
    "sales_train['item_id'].nunique()"
   ]
  },
  {
   "cell_type": "markdown",
   "id": "c0b1978e-bb90-4969-a49d-aa03049f4cd2",
   "metadata": {},
   "source": [
    "#### There were 22k item types sold. However, there are 21k of them in the training set."
   ]
  },
  {
   "cell_type": "markdown",
   "id": "d2c493b5-01cb-4fe0-a268-fe59a5f8aa5e",
   "metadata": {},
   "source": [
    "# 3. Data Cleaning <a id='data_cleaning'></a>\n",
    "[Back to top](#table_of_contents)"
   ]
  },
  {
   "cell_type": "markdown",
   "id": "7eb8ebb8",
   "metadata": {},
   "source": [
    "1. Removing duplicates\n",
    "2. Negative item_cnt_day  \n",
    "3. Negative item prices  \n",
    "4. Outlier prices and cnt_days"
   ]
  },
  {
   "cell_type": "markdown",
   "id": "b227a039",
   "metadata": {},
   "source": [
    "#### Removing duplicated in shop.csv:"
   ]
  },
  {
   "cell_type": "code",
   "execution_count": 24,
   "id": "e5a25158",
   "metadata": {},
   "outputs": [
    {
     "name": "stdout",
     "output_type": "stream",
     "text": [
      "train\n",
      "(9857, 6)\n",
      "(5678, 6)\n",
      "(499, 6)\n",
      "(117428, 6)\n",
      "(71441, 6)\n",
      "(21397, 6)\n",
      "test\n",
      "(0, 3)\n",
      "(0, 3)\n",
      "(0, 3)\n",
      "(5100, 3)\n",
      "(5100, 3)\n",
      "(5100, 3)\n"
     ]
    }
   ],
   "source": [
    "print('train')\n",
    "\n",
    "print(sales_train[sales_train['shop_id']==0].shape)  # = 57\n",
    "print(sales_train[sales_train['shop_id']==1].shape)  # = 58\n",
    "print(sales_train[sales_train['shop_id']==11].shape) # = 10\n",
    "print(sales_train[sales_train['shop_id']==57].shape) # = 0\n",
    "print(sales_train[sales_train['shop_id']==58].shape) # = 1\n",
    "print(sales_train[sales_train['shop_id']==10].shape) # = 11\n",
    "\n",
    "print('test')\n",
    "\n",
    "print(sales_test[sales_test['shop_id']==0].shape)  # = 57\n",
    "print(sales_test[sales_test['shop_id']==1].shape)  # = 58\n",
    "print(sales_test[sales_test['shop_id']==11].shape) # = 10\n",
    "print(sales_test[sales_test['shop_id']==57].shape) # = 0\n",
    "print(sales_test[sales_test['shop_id']==58].shape) # = 1\n",
    "print(sales_test[sales_test['shop_id']==10].shape) # = 11\n"
   ]
  },
  {
   "cell_type": "markdown",
   "id": "f86abc87",
   "metadata": {},
   "source": [
    "0, 1, and 10 should be removed."
   ]
  },
  {
   "cell_type": "code",
   "execution_count": 25,
   "id": "280df2d9",
   "metadata": {},
   "outputs": [],
   "source": [
    "shops_cleaned = shops.copy()\n",
    "shops_cleaned = shops_cleaned.drop([0, 1, 10]).reset_index()"
   ]
  },
  {
   "cell_type": "markdown",
   "id": "ae74d5e7",
   "metadata": {},
   "source": [
    "Duplicate shop_id should also be adjusted in sales_train and sales_test data frames."
   ]
  },
  {
   "cell_type": "code",
   "execution_count": 26,
   "id": "e2d28ee8",
   "metadata": {},
   "outputs": [],
   "source": [
    "sales_train.loc[sales_train.shop_id==0, 'shop_id'] = 57\n",
    "sales_train.loc[sales_train.shop_id==1, 'shop_id'] = 58\n",
    "sales_train.loc[sales_train.shop_id==10, 'shop_id'] = 11\n",
    "\n",
    "sales_test.loc[sales_test.shop_id==0, 'shop_id'] = 57\n",
    "sales_test.loc[sales_test.shop_id==1, 'shop_id'] = 58\n",
    "sales_test.loc[sales_test.shop_id==10, 'shop_id'] = 11"
   ]
  },
  {
   "cell_type": "markdown",
   "id": "5c6a857c",
   "metadata": {},
   "source": [
    "#### Removing negative item_cnt_day:"
   ]
  },
  {
   "cell_type": "code",
   "execution_count": 27,
   "id": "04d910b5",
   "metadata": {},
   "outputs": [
    {
     "data": {
      "text/plain": [
       "7356"
      ]
     },
     "execution_count": 27,
     "metadata": {},
     "output_type": "execute_result"
    }
   ],
   "source": [
    "sales_train_cleaned = sales_train.copy()\n",
    "len(sales_train_cleaned[(sales_train_cleaned['item_cnt_day']<0)])"
   ]
  },
  {
   "cell_type": "markdown",
   "id": "f225dcdf",
   "metadata": {},
   "source": [
    "7356 is not a significant amount of data points to remove given the size of the whole dataset. Thus, I prefer removing them."
   ]
  },
  {
   "cell_type": "code",
   "execution_count": 28,
   "id": "77ca4652",
   "metadata": {},
   "outputs": [
    {
     "name": "stdout",
     "output_type": "stream",
     "text": [
      "(2935849, 6)\n",
      "(2928493, 6)\n"
     ]
    }
   ],
   "source": [
    "print(sales_train_cleaned.shape)\n",
    "sales_train_cleaned = sales_train_cleaned[(sales_train_cleaned['item_cnt_day']>0)]\n",
    "print(sales_train_cleaned.shape)"
   ]
  },
  {
   "cell_type": "markdown",
   "id": "cad877a0",
   "metadata": {},
   "source": [
    "#### Removing native and outlier item prices."
   ]
  },
  {
   "cell_type": "code",
   "execution_count": 29,
   "id": "328984c1",
   "metadata": {},
   "outputs": [
    {
     "name": "stdout",
     "output_type": "stream",
     "text": [
      "(2928491, 6)\n"
     ]
    }
   ],
   "source": [
    "sales_train_cleaned = sales_train_cleaned[(sales_train_cleaned['item_price']>0) & (sales_train_cleaned['item_price']<100000)]\n",
    "print(sales_train_cleaned.shape)"
   ]
  },
  {
   "cell_type": "code",
   "execution_count": 30,
   "id": "319461f2",
   "metadata": {},
   "outputs": [
    {
     "data": {
      "text/html": [
       "<div>\n",
       "<style scoped>\n",
       "    .dataframe tbody tr th:only-of-type {\n",
       "        vertical-align: middle;\n",
       "    }\n",
       "\n",
       "    .dataframe tbody tr th {\n",
       "        vertical-align: top;\n",
       "    }\n",
       "\n",
       "    .dataframe thead th {\n",
       "        text-align: right;\n",
       "    }\n",
       "</style>\n",
       "<table border=\"1\" class=\"dataframe\">\n",
       "  <thead>\n",
       "    <tr style=\"text-align: right;\">\n",
       "      <th></th>\n",
       "      <th>date</th>\n",
       "      <th>date_block_num</th>\n",
       "      <th>shop_id</th>\n",
       "      <th>item_id</th>\n",
       "      <th>item_price</th>\n",
       "      <th>item_cnt_day</th>\n",
       "    </tr>\n",
       "  </thead>\n",
       "  <tbody>\n",
       "    <tr>\n",
       "      <th>885138</th>\n",
       "      <td>17.09.2013</td>\n",
       "      <td>8</td>\n",
       "      <td>12</td>\n",
       "      <td>11365</td>\n",
       "      <td>59200.0</td>\n",
       "      <td>1.0</td>\n",
       "    </tr>\n",
       "    <tr>\n",
       "      <th>1488135</th>\n",
       "      <td>20.03.2014</td>\n",
       "      <td>14</td>\n",
       "      <td>25</td>\n",
       "      <td>13199</td>\n",
       "      <td>50999.0</td>\n",
       "      <td>1.0</td>\n",
       "    </tr>\n",
       "    <tr>\n",
       "      <th>2327159</th>\n",
       "      <td>29.01.2015</td>\n",
       "      <td>24</td>\n",
       "      <td>12</td>\n",
       "      <td>7241</td>\n",
       "      <td>49782.0</td>\n",
       "      <td>1.0</td>\n",
       "    </tr>\n",
       "    <tr>\n",
       "      <th>2910156</th>\n",
       "      <td>29.10.2015</td>\n",
       "      <td>33</td>\n",
       "      <td>12</td>\n",
       "      <td>13403</td>\n",
       "      <td>42990.0</td>\n",
       "      <td>1.0</td>\n",
       "    </tr>\n",
       "    <tr>\n",
       "      <th>2931380</th>\n",
       "      <td>20.10.2015</td>\n",
       "      <td>33</td>\n",
       "      <td>22</td>\n",
       "      <td>13403</td>\n",
       "      <td>42990.0</td>\n",
       "      <td>1.0</td>\n",
       "    </tr>\n",
       "    <tr>\n",
       "      <th>2917760</th>\n",
       "      <td>20.10.2015</td>\n",
       "      <td>33</td>\n",
       "      <td>3</td>\n",
       "      <td>13403</td>\n",
       "      <td>42990.0</td>\n",
       "      <td>1.0</td>\n",
       "    </tr>\n",
       "    <tr>\n",
       "      <th>2885692</th>\n",
       "      <td>23.10.2015</td>\n",
       "      <td>33</td>\n",
       "      <td>42</td>\n",
       "      <td>13403</td>\n",
       "      <td>42990.0</td>\n",
       "      <td>1.0</td>\n",
       "    </tr>\n",
       "  </tbody>\n",
       "</table>\n",
       "</div>"
      ],
      "text/plain": [
       "               date  date_block_num  shop_id  item_id  item_price  \\\n",
       "885138   17.09.2013               8       12    11365     59200.0   \n",
       "1488135  20.03.2014              14       25    13199     50999.0   \n",
       "2327159  29.01.2015              24       12     7241     49782.0   \n",
       "2910156  29.10.2015              33       12    13403     42990.0   \n",
       "2931380  20.10.2015              33       22    13403     42990.0   \n",
       "2917760  20.10.2015              33        3    13403     42990.0   \n",
       "2885692  23.10.2015              33       42    13403     42990.0   \n",
       "\n",
       "         item_cnt_day  \n",
       "885138            1.0  \n",
       "1488135           1.0  \n",
       "2327159           1.0  \n",
       "2910156           1.0  \n",
       "2931380           1.0  \n",
       "2917760           1.0  \n",
       "2885692           1.0  "
      ]
     },
     "execution_count": 30,
     "metadata": {},
     "output_type": "execute_result"
    }
   ],
   "source": [
    "sales_train_cleaned.sort_values('item_price', ascending=False).head(7)"
   ]
  },
  {
   "cell_type": "code",
   "execution_count": 31,
   "id": "979ef5db",
   "metadata": {},
   "outputs": [
    {
     "data": {
      "text/html": [
       "<div>\n",
       "<style scoped>\n",
       "    .dataframe tbody tr th:only-of-type {\n",
       "        vertical-align: middle;\n",
       "    }\n",
       "\n",
       "    .dataframe tbody tr th {\n",
       "        vertical-align: top;\n",
       "    }\n",
       "\n",
       "    .dataframe thead th {\n",
       "        text-align: right;\n",
       "    }\n",
       "</style>\n",
       "<table border=\"1\" class=\"dataframe\">\n",
       "  <thead>\n",
       "    <tr style=\"text-align: right;\">\n",
       "      <th></th>\n",
       "      <th>item_name</th>\n",
       "      <th>item_id</th>\n",
       "      <th>item_category_id</th>\n",
       "    </tr>\n",
       "  </thead>\n",
       "  <tbody>\n",
       "    <tr>\n",
       "      <th>13199</th>\n",
       "      <td>Коллекционные шахматы (Властелин Колец)</td>\n",
       "      <td>13199</td>\n",
       "      <td>69</td>\n",
       "    </tr>\n",
       "  </tbody>\n",
       "</table>\n",
       "</div>"
      ],
      "text/plain": [
       "                                     item_name  item_id  item_category_id\n",
       "13199  Коллекционные шахматы (Властелин Колец)    13199                69"
      ]
     },
     "execution_count": 31,
     "metadata": {},
     "output_type": "execute_result"
    }
   ],
   "source": [
    "item_list[item_list['item_id']==13199] #made up a number"
   ]
  },
  {
   "cell_type": "markdown",
   "id": "01f02285",
   "metadata": {},
   "source": [
    "This is a Lord of the Rings Chess Set. In 2021, it costs 731 USD which makes this datapoint a meaningful one."
   ]
  },
  {
   "cell_type": "markdown",
   "id": "1fc47616",
   "metadata": {},
   "source": [
    "# 4. Data Preparation<a id='data_preparation'></a>\n",
    "[Back to top](#table_of_contents)"
   ]
  },
  {
   "cell_type": "code",
   "execution_count": 118,
   "id": "cf2a6eb3-f498-4190-95d3-31ae5e406e9a",
   "metadata": {},
   "outputs": [],
   "source": [
    "sales_train_prepared = sales_train_cleaned.copy()"
   ]
  },
  {
   "cell_type": "code",
   "execution_count": 119,
   "id": "03d4bdc8",
   "metadata": {},
   "outputs": [
    {
     "data": {
      "text/plain": [
       "date               object\n",
       "date_block_num      int64\n",
       "shop_id             int64\n",
       "item_id             int64\n",
       "item_price        float64\n",
       "item_cnt_day      float64\n",
       "dtype: object"
      ]
     },
     "execution_count": 119,
     "metadata": {},
     "output_type": "execute_result"
    }
   ],
   "source": [
    "sales_train_prepared.dtypes"
   ]
  },
  {
   "cell_type": "markdown",
   "id": "f7a7dd8c",
   "metadata": {},
   "source": [
    "#### Let's convert the date into datetime."
   ]
  },
  {
   "cell_type": "code",
   "execution_count": 120,
   "id": "758a3453-e72a-41ff-ae6a-3df9d950117a",
   "metadata": {},
   "outputs": [
    {
     "data": {
      "text/html": [
       "<div>\n",
       "<style scoped>\n",
       "    .dataframe tbody tr th:only-of-type {\n",
       "        vertical-align: middle;\n",
       "    }\n",
       "\n",
       "    .dataframe tbody tr th {\n",
       "        vertical-align: top;\n",
       "    }\n",
       "\n",
       "    .dataframe thead th {\n",
       "        text-align: right;\n",
       "    }\n",
       "</style>\n",
       "<table border=\"1\" class=\"dataframe\">\n",
       "  <thead>\n",
       "    <tr style=\"text-align: right;\">\n",
       "      <th></th>\n",
       "      <th>date</th>\n",
       "      <th>date_block_num</th>\n",
       "      <th>shop_id</th>\n",
       "      <th>item_id</th>\n",
       "      <th>item_price</th>\n",
       "      <th>item_cnt_day</th>\n",
       "      <th>salesYear</th>\n",
       "      <th>salesMonth</th>\n",
       "      <th>salesDay</th>\n",
       "    </tr>\n",
       "  </thead>\n",
       "  <tbody>\n",
       "    <tr>\n",
       "      <th>0</th>\n",
       "      <td>2013-01-02</td>\n",
       "      <td>0</td>\n",
       "      <td>59</td>\n",
       "      <td>22154</td>\n",
       "      <td>999.00</td>\n",
       "      <td>1.0</td>\n",
       "      <td>2013</td>\n",
       "      <td>1</td>\n",
       "      <td>2</td>\n",
       "    </tr>\n",
       "    <tr>\n",
       "      <th>1</th>\n",
       "      <td>2013-01-03</td>\n",
       "      <td>0</td>\n",
       "      <td>25</td>\n",
       "      <td>2552</td>\n",
       "      <td>899.00</td>\n",
       "      <td>1.0</td>\n",
       "      <td>2013</td>\n",
       "      <td>1</td>\n",
       "      <td>3</td>\n",
       "    </tr>\n",
       "    <tr>\n",
       "      <th>3</th>\n",
       "      <td>2013-01-06</td>\n",
       "      <td>0</td>\n",
       "      <td>25</td>\n",
       "      <td>2554</td>\n",
       "      <td>1709.05</td>\n",
       "      <td>1.0</td>\n",
       "      <td>2013</td>\n",
       "      <td>1</td>\n",
       "      <td>6</td>\n",
       "    </tr>\n",
       "    <tr>\n",
       "      <th>4</th>\n",
       "      <td>2013-01-15</td>\n",
       "      <td>0</td>\n",
       "      <td>25</td>\n",
       "      <td>2555</td>\n",
       "      <td>1099.00</td>\n",
       "      <td>1.0</td>\n",
       "      <td>2013</td>\n",
       "      <td>1</td>\n",
       "      <td>15</td>\n",
       "    </tr>\n",
       "    <tr>\n",
       "      <th>5</th>\n",
       "      <td>2013-01-10</td>\n",
       "      <td>0</td>\n",
       "      <td>25</td>\n",
       "      <td>2564</td>\n",
       "      <td>349.00</td>\n",
       "      <td>1.0</td>\n",
       "      <td>2013</td>\n",
       "      <td>1</td>\n",
       "      <td>10</td>\n",
       "    </tr>\n",
       "  </tbody>\n",
       "</table>\n",
       "</div>"
      ],
      "text/plain": [
       "        date  date_block_num  shop_id  item_id  item_price  item_cnt_day  \\\n",
       "0 2013-01-02               0       59    22154      999.00           1.0   \n",
       "1 2013-01-03               0       25     2552      899.00           1.0   \n",
       "3 2013-01-06               0       25     2554     1709.05           1.0   \n",
       "4 2013-01-15               0       25     2555     1099.00           1.0   \n",
       "5 2013-01-10               0       25     2564      349.00           1.0   \n",
       "\n",
       "   salesYear  salesMonth  salesDay  \n",
       "0       2013           1         2  \n",
       "1       2013           1         3  \n",
       "3       2013           1         6  \n",
       "4       2013           1        15  \n",
       "5       2013           1        10  "
      ]
     },
     "execution_count": 120,
     "metadata": {},
     "output_type": "execute_result"
    }
   ],
   "source": [
    "sales_train_prepared['date'] = pd.to_datetime(sales_train_prepared['date'], dayfirst=True)\n",
    "sales_train_prepared['salesYear'] = sales_train_prepared['date'].dt.year\n",
    "sales_train_prepared['salesMonth'] = sales_train_prepared['date'].dt.month\n",
    "sales_train_prepared['salesDay'] = sales_train_prepared['date'].dt.day\n",
    "sales_train_prepared.head()"
   ]
  },
  {
   "cell_type": "code",
   "execution_count": 121,
   "id": "b1da8363-dfc1-427a-b106-ec7a3d43a16b",
   "metadata": {},
   "outputs": [
    {
     "data": {
      "text/html": [
       "<div>\n",
       "<style scoped>\n",
       "    .dataframe tbody tr th:only-of-type {\n",
       "        vertical-align: middle;\n",
       "    }\n",
       "\n",
       "    .dataframe tbody tr th {\n",
       "        vertical-align: top;\n",
       "    }\n",
       "\n",
       "    .dataframe thead th {\n",
       "        text-align: right;\n",
       "    }\n",
       "</style>\n",
       "<table border=\"1\" class=\"dataframe\">\n",
       "  <thead>\n",
       "    <tr style=\"text-align: right;\">\n",
       "      <th></th>\n",
       "      <th>date</th>\n",
       "      <th>date_block_num</th>\n",
       "      <th>shop_id</th>\n",
       "      <th>item_id</th>\n",
       "      <th>item_price</th>\n",
       "      <th>item_cnt_day</th>\n",
       "      <th>salesYear</th>\n",
       "      <th>salesMonth</th>\n",
       "      <th>salesDay</th>\n",
       "      <th>item_category_id</th>\n",
       "    </tr>\n",
       "  </thead>\n",
       "  <tbody>\n",
       "    <tr>\n",
       "      <th>0</th>\n",
       "      <td>2013-01-02</td>\n",
       "      <td>0</td>\n",
       "      <td>59</td>\n",
       "      <td>22154</td>\n",
       "      <td>999.0</td>\n",
       "      <td>1.0</td>\n",
       "      <td>2013</td>\n",
       "      <td>1</td>\n",
       "      <td>2</td>\n",
       "      <td>37</td>\n",
       "    </tr>\n",
       "    <tr>\n",
       "      <th>1</th>\n",
       "      <td>2013-01-03</td>\n",
       "      <td>0</td>\n",
       "      <td>25</td>\n",
       "      <td>2552</td>\n",
       "      <td>899.0</td>\n",
       "      <td>1.0</td>\n",
       "      <td>2013</td>\n",
       "      <td>1</td>\n",
       "      <td>3</td>\n",
       "      <td>58</td>\n",
       "    </tr>\n",
       "  </tbody>\n",
       "</table>\n",
       "</div>"
      ],
      "text/plain": [
       "        date  date_block_num  shop_id  item_id  item_price  item_cnt_day  \\\n",
       "0 2013-01-02               0       59    22154       999.0           1.0   \n",
       "1 2013-01-03               0       25     2552       899.0           1.0   \n",
       "\n",
       "   salesYear  salesMonth  salesDay  item_category_id  \n",
       "0       2013           1         2                37  \n",
       "1       2013           1         3                58  "
      ]
     },
     "execution_count": 121,
     "metadata": {},
     "output_type": "execute_result"
    }
   ],
   "source": [
    "#item_id_list = item_list[['item_id', 'item_category_id']]\n",
    "sales_train_prepared = sales_train_prepared.merge(item_id_list, left_on='item_id', right_on='item_id', how='left')\n",
    "sales_train_prepared.head(2)"
   ]
  },
  {
   "cell_type": "code",
   "execution_count": 122,
   "id": "5cdf9e5b",
   "metadata": {},
   "outputs": [
    {
     "data": {
      "text/html": [
       "<div>\n",
       "<style scoped>\n",
       "    .dataframe tbody tr th:only-of-type {\n",
       "        vertical-align: middle;\n",
       "    }\n",
       "\n",
       "    .dataframe tbody tr th {\n",
       "        vertical-align: top;\n",
       "    }\n",
       "\n",
       "    .dataframe thead th {\n",
       "        text-align: right;\n",
       "    }\n",
       "</style>\n",
       "<table border=\"1\" class=\"dataframe\">\n",
       "  <thead>\n",
       "    <tr style=\"text-align: right;\">\n",
       "      <th></th>\n",
       "      <th>salesYear</th>\n",
       "      <th>total_cnt_year</th>\n",
       "    </tr>\n",
       "  </thead>\n",
       "  <tbody>\n",
       "    <tr>\n",
       "      <th>0</th>\n",
       "      <td>2013</td>\n",
       "      <td>1565895.0</td>\n",
       "    </tr>\n",
       "    <tr>\n",
       "      <th>1</th>\n",
       "      <td>2014</td>\n",
       "      <td>1323594.0</td>\n",
       "    </tr>\n",
       "  </tbody>\n",
       "</table>\n",
       "</div>"
      ],
      "text/plain": [
       "   salesYear  total_cnt_year\n",
       "0       2013       1565895.0\n",
       "1       2014       1323594.0"
      ]
     },
     "execution_count": 122,
     "metadata": {},
     "output_type": "execute_result"
    }
   ],
   "source": [
    "sales_train_grouped_by_year = sales_train_prepared.groupby(['salesYear']).agg({'item_cnt_day':'sum'}).rename(columns={'item_cnt_day':'total_cnt_year'}, inplace=False).reset_index()\n",
    "sales_train_grouped_by_year.head(2)"
   ]
  },
  {
   "cell_type": "code",
   "execution_count": 123,
   "id": "77555fe2",
   "metadata": {},
   "outputs": [
    {
     "data": {
      "text/html": [
       "<div>\n",
       "<style scoped>\n",
       "    .dataframe tbody tr th:only-of-type {\n",
       "        vertical-align: middle;\n",
       "    }\n",
       "\n",
       "    .dataframe tbody tr th {\n",
       "        vertical-align: top;\n",
       "    }\n",
       "\n",
       "    .dataframe thead th {\n",
       "        text-align: right;\n",
       "    }\n",
       "</style>\n",
       "<table border=\"1\" class=\"dataframe\">\n",
       "  <thead>\n",
       "    <tr style=\"text-align: right;\">\n",
       "      <th></th>\n",
       "      <th>salesYear</th>\n",
       "      <th>salesMonth</th>\n",
       "      <th>total_cnt_month</th>\n",
       "    </tr>\n",
       "  </thead>\n",
       "  <tbody>\n",
       "    <tr>\n",
       "      <th>0</th>\n",
       "      <td>2013</td>\n",
       "      <td>1</td>\n",
       "      <td>131850.0</td>\n",
       "    </tr>\n",
       "    <tr>\n",
       "      <th>1</th>\n",
       "      <td>2013</td>\n",
       "      <td>2</td>\n",
       "      <td>128382.0</td>\n",
       "    </tr>\n",
       "  </tbody>\n",
       "</table>\n",
       "</div>"
      ],
      "text/plain": [
       "   salesYear  salesMonth  total_cnt_month\n",
       "0       2013           1         131850.0\n",
       "1       2013           2         128382.0"
      ]
     },
     "execution_count": 123,
     "metadata": {},
     "output_type": "execute_result"
    }
   ],
   "source": [
    "sales_train_grouped_by_month = sales_train_prepared.groupby(['salesYear', 'salesMonth']).agg({'item_cnt_day':'sum'}).rename(columns={'item_cnt_day':'total_cnt_month'}, inplace=False).reset_index()\n",
    "sales_train_grouped_by_month.head(2)"
   ]
  },
  {
   "cell_type": "markdown",
   "id": "270f6dac",
   "metadata": {},
   "source": [
    "### Plotting total sales per month for 2013, 2014, and 2015."
   ]
  },
  {
   "cell_type": "code",
   "execution_count": 124,
   "id": "c204b559",
   "metadata": {},
   "outputs": [
    {
     "data": {
      "image/png": "[encoded data removed]",
      "text/plain": [
       "<Figure size 1080x360 with 1 Axes>"
      ]
     },
     "metadata": {
      "needs_background": "light"
     },
     "output_type": "display_data"
    }
   ],
   "source": [
    "plt.figure(figsize=(15,5))\n",
    "# Plot the sales of the year 2013\n",
    "plt.plot(sales_train_grouped_by_month[sales_train_grouped_by_month['salesYear']==2013]['salesMonth'], sales_train_grouped_by_month[sales_train_grouped_by_month['salesYear']==2013]['total_cnt_month'], '-o', color='steelblue', linewidth=1, label='2013')\n",
    "plt.plot(sales_train_grouped_by_month[sales_train_grouped_by_month['salesYear']==2014]['salesMonth'], sales_train_grouped_by_month[sales_train_grouped_by_month['salesYear']==2014]['total_cnt_month'], '-o', color='purple', linewidth=1, label='2014')\n",
    "plt.plot(sales_train_grouped_by_month[sales_train_grouped_by_month['salesYear']==2015]['salesMonth'], sales_train_grouped_by_month[sales_train_grouped_by_month['salesYear']==2015]['total_cnt_month'], '-o', color='orange', linewidth=1, label='2015')\n",
    "plt.legend(fontsize=14)\n",
    "plt.xticks(fontsize=13)\n",
    "plt.yticks(fontsize=13)\n",
    "plt.xlabel('Months', fontsize=14)\n",
    "plt.ylabel('Total Sale', fontsize=14)\n",
    "\n",
    "ax = plt.gca()\n",
    "ax.grid(axis='both', color='gray', alpha=.2)\n",
    "#ax.xaxis.set_minor_locator(plt.MultipleLocator(1))\n",
    "ax.xaxis.set_ticks(np.arange(1, 13, 1))\n",
    "plt.show()"
   ]
  },
  {
   "cell_type": "code",
   "execution_count": 125,
   "id": "6a198d7c",
   "metadata": {},
   "outputs": [
    {
     "data": {
      "text/plain": [
       "date                datetime64[ns]\n",
       "date_block_num               int64\n",
       "shop_id                      int64\n",
       "item_id                      int64\n",
       "item_price                 float64\n",
       "item_cnt_day                 int64\n",
       "salesYear                    int64\n",
       "salesMonth                   int64\n",
       "salesDay                     int64\n",
       "item_category_id             int64\n",
       "dtype: object"
      ]
     },
     "execution_count": 125,
     "metadata": {},
     "output_type": "execute_result"
    }
   ],
   "source": [
    "sales_train_prepared.loc[:,'item_cnt_day'] = sales_train_prepared['item_cnt_day'].astype(int)\n",
    "sales_train_prepared.dtypes"
   ]
  },
  {
   "cell_type": "code",
   "execution_count": 126,
   "id": "1502927b",
   "metadata": {},
   "outputs": [
    {
     "name": "stdout",
     "output_type": "stream",
     "text": [
      "(40317, 3)\n"
     ]
    },
    {
     "data": {
      "text/html": [
       "<div>\n",
       "<style scoped>\n",
       "    .dataframe tbody tr th:only-of-type {\n",
       "        vertical-align: middle;\n",
       "    }\n",
       "\n",
       "    .dataframe tbody tr th {\n",
       "        vertical-align: top;\n",
       "    }\n",
       "\n",
       "    .dataframe thead th {\n",
       "        text-align: right;\n",
       "    }\n",
       "</style>\n",
       "<table border=\"1\" class=\"dataframe\">\n",
       "  <thead>\n",
       "    <tr style=\"text-align: right;\">\n",
       "      <th></th>\n",
       "      <th>salesYear</th>\n",
       "      <th>item_id</th>\n",
       "      <th>total_cnt_year</th>\n",
       "    </tr>\n",
       "  </thead>\n",
       "  <tbody>\n",
       "    <tr>\n",
       "      <th>0</th>\n",
       "      <td>2013</td>\n",
       "      <td>12</td>\n",
       "      <td>1</td>\n",
       "    </tr>\n",
       "    <tr>\n",
       "      <th>1</th>\n",
       "      <td>2013</td>\n",
       "      <td>19</td>\n",
       "      <td>1</td>\n",
       "    </tr>\n",
       "  </tbody>\n",
       "</table>\n",
       "</div>"
      ],
      "text/plain": [
       "   salesYear  item_id  total_cnt_year\n",
       "0       2013       12               1\n",
       "1       2013       19               1"
      ]
     },
     "execution_count": 126,
     "metadata": {},
     "output_type": "execute_result"
    }
   ],
   "source": [
    "sales_train_grouped_by_item = sales_train_prepared.groupby(['salesYear', 'item_id']).agg({'item_cnt_day':'sum'}).reset_index().rename(columns={'item_cnt_day':'total_cnt_year'})\n",
    "print(sales_train_grouped_by_item.shape)\n",
    "#sales_train_grouped_by_item.loc[:,'item_id'] = sales_train_grouped_by_item['item_id'].astype(str)\n",
    "sales_items_2013 = sales_train_grouped_by_item[sales_train_grouped_by_item['salesYear']==2013].sort_values('total_cnt_year', ascending=False).reset_index()\n",
    "sales_items_2014 = sales_train_grouped_by_item[sales_train_grouped_by_item['salesYear']==2014].sort_values('total_cnt_year', ascending=False).reset_index()\n",
    "sales_items_2015 = sales_train_grouped_by_item[sales_train_grouped_by_item['salesYear']==2015].sort_values('total_cnt_year', ascending=False).reset_index()\n",
    "\n",
    "sales_train_grouped_by_item.head(2)"
   ]
  },
  {
   "cell_type": "markdown",
   "id": "cd05df74",
   "metadata": {},
   "source": [
    "### Comparing the total sales of the top 15 best-seller of each year."
   ]
  },
  {
   "cell_type": "code",
   "execution_count": 127,
   "id": "1b6606c4",
   "metadata": {},
   "outputs": [
    {
     "data": {
      "image/png": "[encoded data removed]",
      "text/plain": [
       "<Figure size 1512x360 with 3 Axes>"
      ]
     },
     "metadata": {
      "needs_background": "light"
     },
     "output_type": "display_data"
    }
   ],
   "source": [
    "plt.rcParams.update({'font.size': 13}) # must set in top\n",
    "\n",
    "fig, axes = plt.subplots(nrows=1, ncols=3, figsize=[21, 5])\n",
    "\n",
    "sales_items_2013[0:15].plot(ax=axes[0], x='item_id', y='total_cnt_year', kind='barh', title='2013', label = 'total sales')\n",
    "sales_items_2014[0:15].plot(ax=axes[1], x='item_id', y='total_cnt_year', kind='barh', title='2014', label = 'total sales')\n",
    "sales_items_2015[0:15].plot(ax=axes[2], x='item_id', y='total_cnt_year', kind='barh', title='2015', label = 'total sales')\n",
    "\n",
    "for i in (0,1,2):\n",
    "    axes[i].set_ylabel('item ID')\n",
    "    axes[i].set_xlabel('total sale count')"
   ]
  },
  {
   "cell_type": "markdown",
   "id": "1be89233",
   "metadata": {},
   "source": [
    "### Plotting # of product sold per category during Jan 2013-Oct 2015: item_category_id vs item_cnt_day"
   ]
  },
  {
   "cell_type": "code",
   "execution_count": 128,
   "id": "5239d6e3",
   "metadata": {},
   "outputs": [
    {
     "data": {
      "image/png": "[encoded data removed]",
      "text/plain": [
       "<Figure size 1080x288 with 1 Axes>"
      ]
     },
     "metadata": {
      "needs_background": "light"
     },
     "output_type": "display_data"
    }
   ],
   "source": [
    "#sales_train_grouped_by_category.loc[:, 'item_category_id']=sales_train_grouped_by_category['item_category_id'].astype(int)\n",
    "plt.rcParams.update({'font.size': 14}) # must set in top\n",
    "\n",
    "sales_train_grouped_by_category = sales_train_prepared.groupby(['item_category_id', 'salesYear']).agg({'item_cnt_day': 'sum'}).reset_index().rename(columns={'item_cnt_day':'total_cnt'})\n",
    "sales_train_grouped_by_category = sales_train_grouped_by_category.sort_values('item_category_id')\n",
    "#sales_train_grouped_by_category.reset_index().plot(y='total_cnt', x='item_category_id', kind='line', figsize=(20,5), xlabel='category ID', ylabel='total sales', fontsize=14)\n",
    "\n",
    "fig, ax = plt.subplots(figsize=(15,4))\n",
    "plt.plot(sales_train_grouped_by_category[sales_train_grouped_by_category['salesYear']==2013]['item_category_id'], sales_train_grouped_by_category[sales_train_grouped_by_category['salesYear']==2013]['total_cnt'], color='steelblue', linewidth=2, label='2013')\n",
    "plt.plot(sales_train_grouped_by_category[sales_train_grouped_by_category['salesYear']==2014]['item_category_id'], sales_train_grouped_by_category[sales_train_grouped_by_category['salesYear']==2014]['total_cnt'], color='purple', linewidth=2, label='2014')\n",
    "plt.plot(sales_train_grouped_by_category[sales_train_grouped_by_category['salesYear']==2015]['item_category_id'], sales_train_grouped_by_category[sales_train_grouped_by_category['salesYear']==2015]['total_cnt'], color='orange', linewidth=2, label='2015')\n",
    "\n",
    "ax = plt.gca()\n",
    "ax.set_xlabel('Item Category ID')\n",
    "ax.set_ylabel('Total Sale')\n",
    "ax.legend()\n",
    "ax.grid(axis='both', color='gray', alpha=.2)\n",
    "ax.xaxis.set_ticks(np.arange(0, 90, 5))\n",
    "\n",
    "plt.show()\n"
   ]
  },
  {
   "cell_type": "code",
   "execution_count": 129,
   "id": "7850a15c",
   "metadata": {},
   "outputs": [
    {
     "data": {
      "text/plain": [
       "1565895"
      ]
     },
     "execution_count": 129,
     "metadata": {},
     "output_type": "execute_result"
    }
   ],
   "source": [
    "sales_train_grouped_by_category = sales_train_grouped_by_category.merge(item_categories[['item_category_id', 'item_category_name']], left_on='item_category_id', right_on='item_category_id', how='left')\n",
    "sales_train_grouped_by_category.sort_values(['salesYear', 'total_cnt'], ascending=False)\n",
    "\n",
    "sales_train_grouped_by_category[sales_train_grouped_by_category['salesYear']==2013]['total_cnt'].sum()"
   ]
  },
  {
   "cell_type": "code",
   "execution_count": 130,
   "id": "da58ce1f",
   "metadata": {},
   "outputs": [
    {
     "name": "stdout",
     "output_type": "stream",
     "text": [
      "2013: the total sale amount of the top 15 best selling items is 1304002/1565895 = 83.28%\n",
      "2014: the total sale amount of the top 15 best selling items is 1048377/1323594 = 79.21%\n",
      "2015: the total sale amount of the top 15 best selling items is 580259/766256 = 75.73%\n"
     ]
    },
    {
     "data": {
      "image/png": "[encoded data removed]",
      "text/plain": [
       "<Figure size 1728x720 with 3 Axes>"
      ]
     },
     "metadata": {},
     "output_type": "display_data"
    }
   ],
   "source": [
    "top_n = 15\n",
    "\n",
    "\n",
    "def pie_ratio(year, cat_count):\n",
    "    total_sales_year = sales_train_grouped_by_category[sales_train_grouped_by_category['salesYear']==year]['total_cnt'].sum()\n",
    "    ratio = cat_count/total_sales_year*100\n",
    "    return \"{0}: the total sale amount of the top {1} best selling items is {2}/{3} = {4:.2f}%\".format(year, top_n, cat_count, total_sales_year, ratio)\n",
    "\n",
    "\n",
    "years = [2013, 2014, 2015]\n",
    "fig, axes = plt.subplots(1, 3, figsize=(24,10))\n",
    "\n",
    "\n",
    "#colors of the pie charts\n",
    "colors = {}\n",
    "for year in years:\n",
    "    colors[year] = []\n",
    "\n",
    "import seaborn as sns\n",
    "colors[2013] = sns.light_palette((860, 75, 50), input='husl',reverse=True, n_colors=15)\n",
    "colors[2014] = sns.light_palette((226, 75, 50), input='husl',reverse=True, n_colors=15)\n",
    "colors[2015] = sns.light_palette((730, 75, 50), input='husl', reverse=True, n_colors=15)\n",
    "\n",
    "#plotting the pie charts\n",
    "top = {}\n",
    "for i in range(0,3):\n",
    "    year = years[i]\n",
    "    top[year] = sales_train_grouped_by_category[sales_train_grouped_by_category['salesYear']==year].sort_values('total_cnt', ascending=False)[0:15]\n",
    "    print(pie_ratio(year, top[year].total_cnt.sum()))\n",
    "    axes[i].pie(top[year].total_cnt, labels=top[year].item_category_name, radius=1.3, labeldistance=.3, \n",
    "            rotatelabels=True, textprops={'color':\"k\", 'fontsize': 15}, startangle=90, wedgeprops={\"edgecolor\":\"1\",'linewidth': .6}, colors = colors[year])"
   ]
  },
  {
   "cell_type": "markdown",
   "id": "f729211e-edf0-435c-b542-95a21ff5620f",
   "metadata": {},
   "source": [
    "### Plotting # of products sold over the months and the years: date_block_num vs item_cnt_day"
   ]
  },
  {
   "cell_type": "code",
   "execution_count": 131,
   "id": "4416c9a7-6c36-4e81-b8ac-4a031e5bf36c",
   "metadata": {},
   "outputs": [
    {
     "data": {
      "text/plain": [
       "<AxesSubplot:xlabel='date_block_num'>"
      ]
     },
     "execution_count": 131,
     "metadata": {},
     "output_type": "execute_result"
    },
    {
     "data": {
      "image/png": "[encoded data removed]",
      "text/plain": [
       "<Figure size 864x288 with 1 Axes>"
      ]
     },
     "metadata": {
      "needs_background": "light"
     },
     "output_type": "display_data"
    }
   ],
   "source": [
    "sales_train_grouped_by_block = sales_train_prepared.groupby(['date_block_num']).agg({'item_cnt_day': 'sum'}).reset_index().rename(columns={'item_cnt_day':'total_cnt_month'})\n",
    "sales_train_grouped_by_block.columns\n",
    "sales_train_grouped_by_block.plot(y='total_cnt_month', x='date_block_num', figsize=(12,4))\n",
    "\n",
    "\n"
   ]
  },
  {
   "cell_type": "code",
   "execution_count": 132,
   "id": "ee74e3c6",
   "metadata": {},
   "outputs": [],
   "source": [
    "#check\n",
    "#a= sales_train_prepared[sales_train_prepared['date_block_num']==0]['item_cnt_day'].sum()\n",
    "#print(a)\n",
    "#b= sales_train_prepared[sales_train_prepared['date_block_num']==1]['item_cnt_day'].sum()\n",
    "#print(b)\n",
    "#sales_train_grouped_by_block.head(2)"
   ]
  },
  {
   "cell_type": "markdown",
   "id": "3d4c55d1-3de9-4def-8b9c-9ac16d54ebc1",
   "metadata": {},
   "source": [
    "The general trend is a decrease in the sales over time even though there are sharp increases and decreases."
   ]
  },
  {
   "cell_type": "code",
   "execution_count": 133,
   "id": "73d780b4",
   "metadata": {},
   "outputs": [
    {
     "data": {
      "text/html": [
       "<div>\n",
       "<style scoped>\n",
       "    .dataframe tbody tr th:only-of-type {\n",
       "        vertical-align: middle;\n",
       "    }\n",
       "\n",
       "    .dataframe tbody tr th {\n",
       "        vertical-align: top;\n",
       "    }\n",
       "\n",
       "    .dataframe thead th {\n",
       "        text-align: right;\n",
       "    }\n",
       "</style>\n",
       "<table border=\"1\" class=\"dataframe\">\n",
       "  <thead>\n",
       "    <tr style=\"text-align: right;\">\n",
       "      <th></th>\n",
       "      <th>shop_id</th>\n",
       "      <th>item_id</th>\n",
       "      <th>item_category_id</th>\n",
       "    </tr>\n",
       "  </thead>\n",
       "  <tbody>\n",
       "    <tr>\n",
       "      <th>0</th>\n",
       "      <td>5</td>\n",
       "      <td>5037</td>\n",
       "      <td>19</td>\n",
       "    </tr>\n",
       "  </tbody>\n",
       "</table>\n",
       "</div>"
      ],
      "text/plain": [
       "   shop_id  item_id  item_category_id\n",
       "0        5     5037                19"
      ]
     },
     "execution_count": 133,
     "metadata": {},
     "output_type": "execute_result"
    }
   ],
   "source": [
    "sales_test_prepared = sales_test.merge(item_id_list, left_on='item_id', right_on='item_id', how='left')\n",
    "sales_test_prepared.head(2) \n",
    "\n",
    "sales_test_prepared = sales_test_prepared.drop('ID', axis=1)\n",
    "sales_test_prepared.head(1)"
   ]
  },
  {
   "cell_type": "markdown",
   "id": "eb6c3a26",
   "metadata": {},
   "source": [
    "The aim is to predict the sales for the items and shops given in test set for November 2015. Thus, we should add a column named 'date_block_num' to test set and set all the values in this column to 34."
   ]
  },
  {
   "cell_type": "code",
   "execution_count": 134,
   "id": "1393b905",
   "metadata": {},
   "outputs": [
    {
     "name": "stdout",
     "output_type": "stream",
     "text": [
      "(2928491, 10)\n"
     ]
    },
    {
     "data": {
      "text/html": [
       "<div>\n",
       "<style scoped>\n",
       "    .dataframe tbody tr th:only-of-type {\n",
       "        vertical-align: middle;\n",
       "    }\n",
       "\n",
       "    .dataframe tbody tr th {\n",
       "        vertical-align: top;\n",
       "    }\n",
       "\n",
       "    .dataframe thead th {\n",
       "        text-align: right;\n",
       "    }\n",
       "</style>\n",
       "<table border=\"1\" class=\"dataframe\">\n",
       "  <thead>\n",
       "    <tr style=\"text-align: right;\">\n",
       "      <th></th>\n",
       "      <th>shop_id</th>\n",
       "      <th>item_id</th>\n",
       "      <th>item_category_id</th>\n",
       "      <th>date_block_num</th>\n",
       "      <th>salesYear</th>\n",
       "      <th>salesMonth</th>\n",
       "    </tr>\n",
       "  </thead>\n",
       "  <tbody>\n",
       "    <tr>\n",
       "      <th>0</th>\n",
       "      <td>5</td>\n",
       "      <td>5037</td>\n",
       "      <td>19</td>\n",
       "      <td>34</td>\n",
       "      <td>2015</td>\n",
       "      <td>11</td>\n",
       "    </tr>\n",
       "    <tr>\n",
       "      <th>1</th>\n",
       "      <td>5</td>\n",
       "      <td>5320</td>\n",
       "      <td>55</td>\n",
       "      <td>34</td>\n",
       "      <td>2015</td>\n",
       "      <td>11</td>\n",
       "    </tr>\n",
       "  </tbody>\n",
       "</table>\n",
       "</div>"
      ],
      "text/plain": [
       "   shop_id  item_id  item_category_id  date_block_num  salesYear  salesMonth\n",
       "0        5     5037                19              34       2015          11\n",
       "1        5     5320                55              34       2015          11"
      ]
     },
     "execution_count": 134,
     "metadata": {},
     "output_type": "execute_result"
    }
   ],
   "source": [
    "sales_test_prepared['date_block_num'] = 34\n",
    "sales_test_prepared['salesYear'] = 2015\n",
    "sales_test_prepared['salesMonth'] = 11\n",
    "print(sales_train_prepared.shape)\n",
    "sales_test_prepared.head(2)"
   ]
  },
  {
   "cell_type": "code",
   "execution_count": 135,
   "id": "534615eb",
   "metadata": {},
   "outputs": [],
   "source": [
    "#sales_test_prepared.loc[:,'shop_id'] = sales_test_prepared['shop_id'].astype(str)\n",
    "#sales_test_prepared.loc[:,'item_id'] = sales_test_prepared['item_id'].astype(str)\n",
    "#sales_test_prepared.loc[:,'city_id'] = sales_test_prepared['city_id'].astype(str)\n",
    "#sales_test_prepared.loc[:,'item_category_id'] = sales_test_prepared['item_category_id'].astype(str)\n",
    "#sales_test_prepared.loc[:,'date_block_num'] = sales_test_prepared['date_block_num'].astype(str)"
   ]
  },
  {
   "cell_type": "markdown",
   "id": "aa60ff3e",
   "metadata": {},
   "source": [
    "# 5. Feature Engineering<a id='feature_engineering_'></a>\n",
    "[Back to top](#table_of_contents)"
   ]
  },
  {
   "cell_type": "markdown",
   "id": "08d9b58c",
   "metadata": {},
   "source": [
    "#### Adding a feature of item_category_type"
   ]
  },
  {
   "cell_type": "markdown",
   "id": "ea7d89cf",
   "metadata": {},
   "source": [
    "There are two different names for the gaming category: 'Игровые', 'Игры', 'Аксессуары'. Thus, I will change the names."
   ]
  },
  {
   "cell_type": "code",
   "execution_count": 136,
   "id": "53cdb162",
   "metadata": {},
   "outputs": [
    {
     "data": {
      "text/plain": [
       "13"
      ]
     },
     "execution_count": 136,
     "metadata": {},
     "output_type": "execute_result"
    }
   ],
   "source": [
    "item_categories['item_category_type'] = item_categories['item_category_name'].apply(lambda x: x.split(\" \")[0]).astype(str)\n",
    "item_categories.item_category_type.nunique()\n",
    "\n",
    "item_categories.loc[item_categories.item_category_type=='Игровые', 'item_category_type'] = 'Игры'\n",
    "item_categories.loc[item_categories.item_category_type=='Аксессуары', 'item_category_type'] = 'Игры'\n",
    "\n",
    "item_categories.item_category_type.nunique()"
   ]
  },
  {
   "cell_type": "code",
   "execution_count": 137,
   "id": "e2108b5e",
   "metadata": {},
   "outputs": [
    {
     "data": {
      "text/html": [
       "<div>\n",
       "<style scoped>\n",
       "    .dataframe tbody tr th:only-of-type {\n",
       "        vertical-align: middle;\n",
       "    }\n",
       "\n",
       "    .dataframe tbody tr th {\n",
       "        vertical-align: top;\n",
       "    }\n",
       "\n",
       "    .dataframe thead th {\n",
       "        text-align: right;\n",
       "    }\n",
       "</style>\n",
       "<table border=\"1\" class=\"dataframe\">\n",
       "  <thead>\n",
       "    <tr style=\"text-align: right;\">\n",
       "      <th></th>\n",
       "      <th>item_category_name</th>\n",
       "      <th>item_category_id</th>\n",
       "      <th>item_category_type</th>\n",
       "    </tr>\n",
       "  </thead>\n",
       "  <tbody>\n",
       "    <tr>\n",
       "      <th>0</th>\n",
       "      <td>PC - Гарнитуры/Наушники</td>\n",
       "      <td>0</td>\n",
       "      <td>PC</td>\n",
       "    </tr>\n",
       "    <tr>\n",
       "      <th>1</th>\n",
       "      <td>Аксессуары - PS2</td>\n",
       "      <td>1</td>\n",
       "      <td>Игры</td>\n",
       "    </tr>\n",
       "    <tr>\n",
       "      <th>2</th>\n",
       "      <td>Аксессуары - PS3</td>\n",
       "      <td>2</td>\n",
       "      <td>Игры</td>\n",
       "    </tr>\n",
       "    <tr>\n",
       "      <th>3</th>\n",
       "      <td>Аксессуары - PS4</td>\n",
       "      <td>3</td>\n",
       "      <td>Игры</td>\n",
       "    </tr>\n",
       "    <tr>\n",
       "      <th>4</th>\n",
       "      <td>Аксессуары - PSP</td>\n",
       "      <td>4</td>\n",
       "      <td>Игры</td>\n",
       "    </tr>\n",
       "    <tr>\n",
       "      <th>...</th>\n",
       "      <td>...</td>\n",
       "      <td>...</td>\n",
       "      <td>...</td>\n",
       "    </tr>\n",
       "    <tr>\n",
       "      <th>79</th>\n",
       "      <td>Служебные</td>\n",
       "      <td>79</td>\n",
       "      <td>Служебные</td>\n",
       "    </tr>\n",
       "    <tr>\n",
       "      <th>80</th>\n",
       "      <td>Служебные - Билеты</td>\n",
       "      <td>80</td>\n",
       "      <td>Служебные</td>\n",
       "    </tr>\n",
       "    <tr>\n",
       "      <th>81</th>\n",
       "      <td>Чистые носители (шпиль)</td>\n",
       "      <td>81</td>\n",
       "      <td>Чистые</td>\n",
       "    </tr>\n",
       "    <tr>\n",
       "      <th>82</th>\n",
       "      <td>Чистые носители (штучные)</td>\n",
       "      <td>82</td>\n",
       "      <td>Чистые</td>\n",
       "    </tr>\n",
       "    <tr>\n",
       "      <th>83</th>\n",
       "      <td>Элементы питания</td>\n",
       "      <td>83</td>\n",
       "      <td>Элементы</td>\n",
       "    </tr>\n",
       "  </tbody>\n",
       "</table>\n",
       "<p>84 rows × 3 columns</p>\n",
       "</div>"
      ],
      "text/plain": [
       "           item_category_name  item_category_id item_category_type\n",
       "0     PC - Гарнитуры/Наушники                 0                 PC\n",
       "1            Аксессуары - PS2                 1               Игры\n",
       "2            Аксессуары - PS3                 2               Игры\n",
       "3            Аксессуары - PS4                 3               Игры\n",
       "4            Аксессуары - PSP                 4               Игры\n",
       "..                        ...               ...                ...\n",
       "79                  Служебные                79          Служебные\n",
       "80         Служебные - Билеты                80          Служебные\n",
       "81    Чистые носители (шпиль)                81             Чистые\n",
       "82  Чистые носители (штучные)                82             Чистые\n",
       "83           Элементы питания                83           Элементы\n",
       "\n",
       "[84 rows x 3 columns]"
      ]
     },
     "execution_count": 137,
     "metadata": {},
     "output_type": "execute_result"
    }
   ],
   "source": [
    "item_categories"
   ]
  },
  {
   "cell_type": "markdown",
   "id": "5095c8e8",
   "metadata": {},
   "source": [
    "#### Adding city information and shop_category."
   ]
  },
  {
   "cell_type": "code",
   "execution_count": 138,
   "id": "9eb7c0b4",
   "metadata": {},
   "outputs": [
    {
     "data": {
      "text/plain": [
       "array(['ТЦ', 'ТРК', 'ТРЦ', '(Плехановская,', 'Торговля', 'ул.', 'ЧС',\n",
       "       '\"Распродажа\"', 'МТРЦ', 'Магазин', 'ТК', 'склад', 'Орджоникидзе,'],\n",
       "      dtype=object)"
      ]
     },
     "execution_count": 138,
     "metadata": {},
     "output_type": "execute_result"
    }
   ],
   "source": [
    "def add_city_feature(data):\n",
    "    data['city'] = data['shop_name'].str.split(\" \").map(lambda x: x[0])    \n",
    "    data.loc[data['city'] == '!Якутск', 'city'] = 'Якутск'\n",
    "    data['city_id'] = data['city'].factorize()[0]\n",
    "    data['shop_category'] = data['shop_name'].str.split(\" \").map(lambda x: x[1])\n",
    "    return data\n",
    "\n",
    "shops_prepared = add_city_feature(shops_cleaned)\n",
    "shops_prepared.shop_category.unique()"
   ]
  },
  {
   "cell_type": "code",
   "execution_count": 139,
   "id": "55875cb8",
   "metadata": {},
   "outputs": [
    {
     "name": "stdout",
     "output_type": "stream",
     "text": [
      "42 out of 57 shops are in test data set and 57 out of 57 are represented in the training\n",
      "5100 out of 22170 items are in test data set and 21803 out of 22170 are represented in the training\n"
     ]
    }
   ],
   "source": [
    "shop_train = sales_train_prepared['shop_id'].nunique()\n",
    "shop_test = sales_test_prepared['shop_id'].nunique()\n",
    "item_train = sales_train_prepared['item_id'].nunique()\n",
    "item_test = sales_test_prepared['item_id'].nunique()\n",
    "all_shop = shops_cleaned['shop_id'].nunique()\n",
    "all_item = item_list['item_id'].nunique()\n",
    "\n",
    "print(\"%d out of %d shops are in test data set and %d out of %d are represented in the training\" \n",
    "      %(shop_test, all_shop, shop_train, all_shop))\n",
    "\n",
    "print(\"%d out of %d items are in test data set and %d out of %d are represented in the training\" \n",
    "      %(item_test, all_item, item_train, all_item))"
   ]
  },
  {
   "cell_type": "markdown",
   "id": "3391bf20",
   "metadata": {},
   "source": [
    "It means that sales data for 22170-21803=367 items cannot be predicted. Also we can think about including only the items that are asked to be predicted in."
   ]
  },
  {
   "cell_type": "code",
   "execution_count": 140,
   "id": "21baafd3",
   "metadata": {},
   "outputs": [
    {
     "data": {
      "text/plain": [
       "363"
      ]
     },
     "execution_count": 140,
     "metadata": {},
     "output_type": "execute_result"
    }
   ],
   "source": [
    "test_items = pd.DataFrame(sales_test_prepared['item_id'].unique(), columns={'item_id'})\n",
    "#test_items.loc[:,'item_id']=test_items['item_id'].astype(str)\n",
    "train_items = sales_train_prepared['item_id'].unique()\n",
    "test_items.isin(train_items.tolist()).head(5)\n",
    "#print(train_items)\n",
    "test_items['isin_training_set'] = test_items['item_id'].apply(lambda x: True if x in train_items.tolist() else False)\n",
    "len(test_items)\n",
    "\n",
    "missing_items = []\n",
    "test_items['item_id'].apply(lambda x: missing_items.append(x) if not x in train_items.tolist() else True)\n",
    "len(missing_items)"
   ]
  },
  {
   "cell_type": "markdown",
   "id": "1f6f0308",
   "metadata": {},
   "source": [
    "There are 363 item_ids which are present in test set but not in training set. For these items we cannot expect our model to make good predictions because we dont have any data related to these items to train a model. For now, i will keep them and continue with the benchmark modelling. According to evaluation of the first model, I will decide to remove/keep them."
   ]
  },
  {
   "cell_type": "code",
   "execution_count": 141,
   "id": "40b5ffc5",
   "metadata": {},
   "outputs": [
    {
     "name": "stdout",
     "output_type": "stream",
     "text": [
      "Index(['date', 'date_block_num', 'shop_id', 'item_id', 'item_price',\n",
      "       'item_cnt_day', 'salesYear', 'salesMonth', 'salesDay',\n",
      "       'item_category_id'],\n",
      "      dtype='object')\n",
      "Index(['shop_id', 'item_id', 'item_category_id', 'date_block_num', 'salesYear',\n",
      "       'salesMonth'],\n",
      "      dtype='object')\n"
     ]
    }
   ],
   "source": [
    "print(sales_train_prepared.columns)\n",
    "print(sales_test_prepared.columns)"
   ]
  },
  {
   "cell_type": "code",
   "execution_count": 142,
   "id": "31522cc1",
   "metadata": {},
   "outputs": [],
   "source": [
    "#sales_test_prepared = sales_test_prepared.merge(item_categories, left_on='item_category_id', right_on='item_category_id', how='left')\n",
    "#sales_test_prepared = sales_test_prepared.merge(shops_prepared[['shop_category', 'shop_id', 'city', 'city_id']], left_on='shop_id', right_on='shop_id', how='left')\n",
    "\n",
    "#sales_train_prepared = sales_train_prepared.merge(item_categories, left_on='item_category_id', right_on='item_category_id', how='left')\n",
    "#sales_train_prepared = sales_train_prepared.merge(shops_prepared, left_on='shop_id', right_on='shop_id', how='left')"
   ]
  },
  {
   "cell_type": "code",
   "execution_count": 143,
   "id": "beadab54",
   "metadata": {},
   "outputs": [
    {
     "name": "stdout",
     "output_type": "stream",
     "text": [
      "Index(['date', 'date_block_num', 'shop_id', 'item_id', 'item_price',\n",
      "       'item_cnt_day', 'salesYear', 'salesMonth', 'salesDay',\n",
      "       'item_category_id'],\n",
      "      dtype='object')\n",
      "Index(['shop_id', 'item_id', 'item_category_id', 'date_block_num', 'salesYear',\n",
      "       'salesMonth'],\n",
      "      dtype='object')\n"
     ]
    },
    {
     "data": {
      "text/html": [
       "<div>\n",
       "<style scoped>\n",
       "    .dataframe tbody tr th:only-of-type {\n",
       "        vertical-align: middle;\n",
       "    }\n",
       "\n",
       "    .dataframe tbody tr th {\n",
       "        vertical-align: top;\n",
       "    }\n",
       "\n",
       "    .dataframe thead th {\n",
       "        text-align: right;\n",
       "    }\n",
       "</style>\n",
       "<table border=\"1\" class=\"dataframe\">\n",
       "  <thead>\n",
       "    <tr style=\"text-align: right;\">\n",
       "      <th></th>\n",
       "      <th>date</th>\n",
       "      <th>date_block_num</th>\n",
       "      <th>shop_id</th>\n",
       "      <th>item_id</th>\n",
       "      <th>item_price</th>\n",
       "      <th>item_cnt_day</th>\n",
       "      <th>salesYear</th>\n",
       "      <th>salesMonth</th>\n",
       "      <th>salesDay</th>\n",
       "      <th>item_category_id</th>\n",
       "    </tr>\n",
       "  </thead>\n",
       "  <tbody>\n",
       "    <tr>\n",
       "      <th>0</th>\n",
       "      <td>2013-01-02</td>\n",
       "      <td>0</td>\n",
       "      <td>59</td>\n",
       "      <td>22154</td>\n",
       "      <td>999.00</td>\n",
       "      <td>1</td>\n",
       "      <td>2013</td>\n",
       "      <td>1</td>\n",
       "      <td>2</td>\n",
       "      <td>37</td>\n",
       "    </tr>\n",
       "    <tr>\n",
       "      <th>1</th>\n",
       "      <td>2013-01-03</td>\n",
       "      <td>0</td>\n",
       "      <td>25</td>\n",
       "      <td>2552</td>\n",
       "      <td>899.00</td>\n",
       "      <td>1</td>\n",
       "      <td>2013</td>\n",
       "      <td>1</td>\n",
       "      <td>3</td>\n",
       "      <td>58</td>\n",
       "    </tr>\n",
       "    <tr>\n",
       "      <th>2</th>\n",
       "      <td>2013-01-06</td>\n",
       "      <td>0</td>\n",
       "      <td>25</td>\n",
       "      <td>2554</td>\n",
       "      <td>1709.05</td>\n",
       "      <td>1</td>\n",
       "      <td>2013</td>\n",
       "      <td>1</td>\n",
       "      <td>6</td>\n",
       "      <td>58</td>\n",
       "    </tr>\n",
       "    <tr>\n",
       "      <th>3</th>\n",
       "      <td>2013-01-15</td>\n",
       "      <td>0</td>\n",
       "      <td>25</td>\n",
       "      <td>2555</td>\n",
       "      <td>1099.00</td>\n",
       "      <td>1</td>\n",
       "      <td>2013</td>\n",
       "      <td>1</td>\n",
       "      <td>15</td>\n",
       "      <td>56</td>\n",
       "    </tr>\n",
       "    <tr>\n",
       "      <th>4</th>\n",
       "      <td>2013-01-10</td>\n",
       "      <td>0</td>\n",
       "      <td>25</td>\n",
       "      <td>2564</td>\n",
       "      <td>349.00</td>\n",
       "      <td>1</td>\n",
       "      <td>2013</td>\n",
       "      <td>1</td>\n",
       "      <td>10</td>\n",
       "      <td>59</td>\n",
       "    </tr>\n",
       "    <tr>\n",
       "      <th>...</th>\n",
       "      <td>...</td>\n",
       "      <td>...</td>\n",
       "      <td>...</td>\n",
       "      <td>...</td>\n",
       "      <td>...</td>\n",
       "      <td>...</td>\n",
       "      <td>...</td>\n",
       "      <td>...</td>\n",
       "      <td>...</td>\n",
       "      <td>...</td>\n",
       "    </tr>\n",
       "    <tr>\n",
       "      <th>2928486</th>\n",
       "      <td>2015-10-10</td>\n",
       "      <td>33</td>\n",
       "      <td>25</td>\n",
       "      <td>7409</td>\n",
       "      <td>299.00</td>\n",
       "      <td>1</td>\n",
       "      <td>2015</td>\n",
       "      <td>10</td>\n",
       "      <td>10</td>\n",
       "      <td>55</td>\n",
       "    </tr>\n",
       "    <tr>\n",
       "      <th>2928487</th>\n",
       "      <td>2015-10-09</td>\n",
       "      <td>33</td>\n",
       "      <td>25</td>\n",
       "      <td>7460</td>\n",
       "      <td>299.00</td>\n",
       "      <td>1</td>\n",
       "      <td>2015</td>\n",
       "      <td>10</td>\n",
       "      <td>9</td>\n",
       "      <td>55</td>\n",
       "    </tr>\n",
       "    <tr>\n",
       "      <th>2928488</th>\n",
       "      <td>2015-10-14</td>\n",
       "      <td>33</td>\n",
       "      <td>25</td>\n",
       "      <td>7459</td>\n",
       "      <td>349.00</td>\n",
       "      <td>1</td>\n",
       "      <td>2015</td>\n",
       "      <td>10</td>\n",
       "      <td>14</td>\n",
       "      <td>55</td>\n",
       "    </tr>\n",
       "    <tr>\n",
       "      <th>2928489</th>\n",
       "      <td>2015-10-22</td>\n",
       "      <td>33</td>\n",
       "      <td>25</td>\n",
       "      <td>7440</td>\n",
       "      <td>299.00</td>\n",
       "      <td>1</td>\n",
       "      <td>2015</td>\n",
       "      <td>10</td>\n",
       "      <td>22</td>\n",
       "      <td>57</td>\n",
       "    </tr>\n",
       "    <tr>\n",
       "      <th>2928490</th>\n",
       "      <td>2015-10-03</td>\n",
       "      <td>33</td>\n",
       "      <td>25</td>\n",
       "      <td>7460</td>\n",
       "      <td>299.00</td>\n",
       "      <td>1</td>\n",
       "      <td>2015</td>\n",
       "      <td>10</td>\n",
       "      <td>3</td>\n",
       "      <td>55</td>\n",
       "    </tr>\n",
       "  </tbody>\n",
       "</table>\n",
       "<p>2928491 rows × 10 columns</p>\n",
       "</div>"
      ],
      "text/plain": [
       "              date  date_block_num  shop_id  item_id  item_price  \\\n",
       "0       2013-01-02               0       59    22154      999.00   \n",
       "1       2013-01-03               0       25     2552      899.00   \n",
       "2       2013-01-06               0       25     2554     1709.05   \n",
       "3       2013-01-15               0       25     2555     1099.00   \n",
       "4       2013-01-10               0       25     2564      349.00   \n",
       "...            ...             ...      ...      ...         ...   \n",
       "2928486 2015-10-10              33       25     7409      299.00   \n",
       "2928487 2015-10-09              33       25     7460      299.00   \n",
       "2928488 2015-10-14              33       25     7459      349.00   \n",
       "2928489 2015-10-22              33       25     7440      299.00   \n",
       "2928490 2015-10-03              33       25     7460      299.00   \n",
       "\n",
       "         item_cnt_day  salesYear  salesMonth  salesDay  item_category_id  \n",
       "0                   1       2013           1         2                37  \n",
       "1                   1       2013           1         3                58  \n",
       "2                   1       2013           1         6                58  \n",
       "3                   1       2013           1        15                56  \n",
       "4                   1       2013           1        10                59  \n",
       "...               ...        ...         ...       ...               ...  \n",
       "2928486             1       2015          10        10                55  \n",
       "2928487             1       2015          10         9                55  \n",
       "2928488             1       2015          10        14                55  \n",
       "2928489             1       2015          10        22                57  \n",
       "2928490             1       2015          10         3                55  \n",
       "\n",
       "[2928491 rows x 10 columns]"
      ]
     },
     "execution_count": 143,
     "metadata": {},
     "output_type": "execute_result"
    }
   ],
   "source": [
    "print(sales_train_prepared.columns)\n",
    "print(sales_test_prepared.columns)\n",
    "sales_train_prepared"
   ]
  },
  {
   "cell_type": "markdown",
   "id": "48d2d052",
   "metadata": {},
   "source": [
    "### Feature encoding\n",
    "Here I handle the categorical features with an encoding technique. \n",
    "Each unique string of shop_category and city is assigned a unique number."
   ]
  },
  {
   "cell_type": "markdown",
   "id": "49414c44",
   "metadata": {},
   "source": [
    "Target feature and input features are listed below. Input features were used in order to narrow down the columns of train and test data frames."
   ]
  },
  {
   "cell_type": "code",
   "execution_count": 144,
   "id": "fac216ef",
   "metadata": {},
   "outputs": [],
   "source": [
    "target_feature = ['item_cnt_month']\n",
    "categorical_features = ['shop_id', 'item_id', 'city', 'item_category_type', 'shop_category']\n",
    "input_features = categorical_features + ['date_block_num']\n",
    "\n",
    "sales_train_grouped = sales_train_prepared.groupby(['shop_id', 'item_id', 'date_block_num', 'item_category_id']).agg({'item_cnt_day':'sum'}).reset_index().rename(columns={'item_cnt_day':'total_cnt_month'})\n",
    "sales_train_grouped.loc[:,'total_cnt_month'] = sales_train_grouped['total_cnt_month'].astype(int)\n",
    "\n",
    "sales_train_modelling = sales_train_grouped.copy()\n",
    "sales_test_modelling = sales_test_prepared[['shop_id', 'item_id', 'date_block_num', 'item_category_id']]"
   ]
  },
  {
   "cell_type": "markdown",
   "id": "8aab68c1",
   "metadata": {},
   "source": [
    "Label encoding for shops:"
   ]
  },
  {
   "cell_type": "code",
   "execution_count": 145,
   "id": "ea21ccf9",
   "metadata": {},
   "outputs": [
    {
     "name": "stdout",
     "output_type": "stream",
     "text": [
      "Index(['date', 'date_block_num', 'shop_id', 'item_id', 'item_price',\n",
      "       'item_cnt_day', 'salesYear', 'salesMonth', 'salesDay',\n",
      "       'item_category_id'],\n",
      "      dtype='object')\n",
      "Index(['shop_id', 'item_id', 'item_category_id', 'date_block_num', 'salesYear',\n",
      "       'salesMonth'],\n",
      "      dtype='object')\n"
     ]
    },
    {
     "data": {
      "text/html": [
       "<div>\n",
       "<style scoped>\n",
       "    .dataframe tbody tr th:only-of-type {\n",
       "        vertical-align: middle;\n",
       "    }\n",
       "\n",
       "    .dataframe tbody tr th {\n",
       "        vertical-align: top;\n",
       "    }\n",
       "\n",
       "    .dataframe thead th {\n",
       "        text-align: right;\n",
       "    }\n",
       "</style>\n",
       "<table border=\"1\" class=\"dataframe\">\n",
       "  <thead>\n",
       "    <tr style=\"text-align: right;\">\n",
       "      <th></th>\n",
       "      <th>shop_id</th>\n",
       "      <th>item_id</th>\n",
       "      <th>date_block_num</th>\n",
       "      <th>item_category_id</th>\n",
       "      <th>total_cnt_month</th>\n",
       "    </tr>\n",
       "  </thead>\n",
       "  <tbody>\n",
       "    <tr>\n",
       "      <th>0</th>\n",
       "      <td>2</td>\n",
       "      <td>27</td>\n",
       "      <td>0</td>\n",
       "      <td>19</td>\n",
       "      <td>1</td>\n",
       "    </tr>\n",
       "    <tr>\n",
       "      <th>1</th>\n",
       "      <td>2</td>\n",
       "      <td>27</td>\n",
       "      <td>17</td>\n",
       "      <td>19</td>\n",
       "      <td>1</td>\n",
       "    </tr>\n",
       "    <tr>\n",
       "      <th>2</th>\n",
       "      <td>2</td>\n",
       "      <td>30</td>\n",
       "      <td>2</td>\n",
       "      <td>40</td>\n",
       "      <td>1</td>\n",
       "    </tr>\n",
       "    <tr>\n",
       "      <th>3</th>\n",
       "      <td>2</td>\n",
       "      <td>30</td>\n",
       "      <td>5</td>\n",
       "      <td>40</td>\n",
       "      <td>1</td>\n",
       "    </tr>\n",
       "    <tr>\n",
       "      <th>4</th>\n",
       "      <td>2</td>\n",
       "      <td>30</td>\n",
       "      <td>15</td>\n",
       "      <td>40</td>\n",
       "      <td>1</td>\n",
       "    </tr>\n",
       "    <tr>\n",
       "      <th>...</th>\n",
       "      <td>...</td>\n",
       "      <td>...</td>\n",
       "      <td>...</td>\n",
       "      <td>...</td>\n",
       "      <td>...</td>\n",
       "    </tr>\n",
       "    <tr>\n",
       "      <th>1608220</th>\n",
       "      <td>59</td>\n",
       "      <td>22164</td>\n",
       "      <td>27</td>\n",
       "      <td>37</td>\n",
       "      <td>2</td>\n",
       "    </tr>\n",
       "    <tr>\n",
       "      <th>1608221</th>\n",
       "      <td>59</td>\n",
       "      <td>22164</td>\n",
       "      <td>30</td>\n",
       "      <td>37</td>\n",
       "      <td>1</td>\n",
       "    </tr>\n",
       "    <tr>\n",
       "      <th>1608222</th>\n",
       "      <td>59</td>\n",
       "      <td>22167</td>\n",
       "      <td>9</td>\n",
       "      <td>49</td>\n",
       "      <td>1</td>\n",
       "    </tr>\n",
       "    <tr>\n",
       "      <th>1608223</th>\n",
       "      <td>59</td>\n",
       "      <td>22167</td>\n",
       "      <td>11</td>\n",
       "      <td>49</td>\n",
       "      <td>2</td>\n",
       "    </tr>\n",
       "    <tr>\n",
       "      <th>1608224</th>\n",
       "      <td>59</td>\n",
       "      <td>22167</td>\n",
       "      <td>17</td>\n",
       "      <td>49</td>\n",
       "      <td>1</td>\n",
       "    </tr>\n",
       "  </tbody>\n",
       "</table>\n",
       "<p>1608225 rows × 5 columns</p>\n",
       "</div>"
      ],
      "text/plain": [
       "         shop_id  item_id  date_block_num  item_category_id  total_cnt_month\n",
       "0              2       27               0                19                1\n",
       "1              2       27              17                19                1\n",
       "2              2       30               2                40                1\n",
       "3              2       30               5                40                1\n",
       "4              2       30              15                40                1\n",
       "...          ...      ...             ...               ...              ...\n",
       "1608220       59    22164              27                37                2\n",
       "1608221       59    22164              30                37                1\n",
       "1608222       59    22167               9                49                1\n",
       "1608223       59    22167              11                49                2\n",
       "1608224       59    22167              17                49                1\n",
       "\n",
       "[1608225 rows x 5 columns]"
      ]
     },
     "execution_count": 145,
     "metadata": {},
     "output_type": "execute_result"
    }
   ],
   "source": [
    "print(sales_train_prepared.columns)\n",
    "print(sales_test_prepared.columns)\n",
    "sales_train_modelling"
   ]
  },
  {
   "cell_type": "code",
   "execution_count": 146,
   "id": "e0a54374",
   "metadata": {},
   "outputs": [
    {
     "data": {
      "text/html": [
       "<div>\n",
       "<style scoped>\n",
       "    .dataframe tbody tr th:only-of-type {\n",
       "        vertical-align: middle;\n",
       "    }\n",
       "\n",
       "    .dataframe tbody tr th {\n",
       "        vertical-align: top;\n",
       "    }\n",
       "\n",
       "    .dataframe thead th {\n",
       "        text-align: right;\n",
       "    }\n",
       "</style>\n",
       "<table border=\"1\" class=\"dataframe\">\n",
       "  <thead>\n",
       "    <tr style=\"text-align: right;\">\n",
       "      <th></th>\n",
       "      <th>index</th>\n",
       "      <th>shop_name</th>\n",
       "      <th>shop_id</th>\n",
       "      <th>city</th>\n",
       "      <th>city_id</th>\n",
       "      <th>shop_category</th>\n",
       "    </tr>\n",
       "  </thead>\n",
       "  <tbody>\n",
       "    <tr>\n",
       "      <th>0</th>\n",
       "      <td>2</td>\n",
       "      <td>Адыгея ТЦ \"Мега\"</td>\n",
       "      <td>2</td>\n",
       "      <td>0</td>\n",
       "      <td>0</td>\n",
       "      <td>8</td>\n",
       "    </tr>\n",
       "    <tr>\n",
       "      <th>1</th>\n",
       "      <td>3</td>\n",
       "      <td>Балашиха ТРК \"Октябрь-Киномир\"</td>\n",
       "      <td>3</td>\n",
       "      <td>1</td>\n",
       "      <td>1</td>\n",
       "      <td>6</td>\n",
       "    </tr>\n",
       "    <tr>\n",
       "      <th>2</th>\n",
       "      <td>4</td>\n",
       "      <td>Волжский ТЦ \"Волга Молл\"</td>\n",
       "      <td>4</td>\n",
       "      <td>2</td>\n",
       "      <td>2</td>\n",
       "      <td>8</td>\n",
       "    </tr>\n",
       "    <tr>\n",
       "      <th>3</th>\n",
       "      <td>5</td>\n",
       "      <td>Вологда ТРЦ \"Мармелад\"</td>\n",
       "      <td>5</td>\n",
       "      <td>3</td>\n",
       "      <td>3</td>\n",
       "      <td>7</td>\n",
       "    </tr>\n",
       "    <tr>\n",
       "      <th>4</th>\n",
       "      <td>6</td>\n",
       "      <td>Воронеж (Плехановская, 13)</td>\n",
       "      <td>6</td>\n",
       "      <td>4</td>\n",
       "      <td>4</td>\n",
       "      <td>1</td>\n",
       "    </tr>\n",
       "  </tbody>\n",
       "</table>\n",
       "</div>"
      ],
      "text/plain": [
       "   index                       shop_name  shop_id  city  city_id  \\\n",
       "0      2                Адыгея ТЦ \"Мега\"        2     0        0   \n",
       "1      3  Балашиха ТРК \"Октябрь-Киномир\"        3     1        1   \n",
       "2      4        Волжский ТЦ \"Волга Молл\"        4     2        2   \n",
       "3      5          Вологда ТРЦ \"Мармелад\"        5     3        3   \n",
       "4      6      Воронеж (Плехановская, 13)        6     4        4   \n",
       "\n",
       "   shop_category  \n",
       "0              8  \n",
       "1              6  \n",
       "2              8  \n",
       "3              7  \n",
       "4              1  "
      ]
     },
     "execution_count": 146,
     "metadata": {},
     "output_type": "execute_result"
    }
   ],
   "source": [
    "from sklearn.preprocessing import LabelEncoder\n",
    "shops_encoded = shops_cleaned.copy()\n",
    "shops_encoded['city'] = LabelEncoder().fit_transform(shops_encoded.city)\n",
    "shops_encoded['shop_category'] = LabelEncoder().fit_transform(shops_encoded.shop_category)\n",
    "shops_encoded.head()"
   ]
  },
  {
   "cell_type": "markdown",
   "id": "68f8cc4e",
   "metadata": {},
   "source": [
    "Label encoding for item categories:"
   ]
  },
  {
   "cell_type": "code",
   "execution_count": 147,
   "id": "6f654a80",
   "metadata": {},
   "outputs": [
    {
     "data": {
      "text/plain": [
       "item_category_name    object\n",
       "item_category_id       int64\n",
       "item_category_type     int64\n",
       "dtype: object"
      ]
     },
     "execution_count": 147,
     "metadata": {},
     "output_type": "execute_result"
    }
   ],
   "source": [
    "item_categories['item_category_type'] = LabelEncoder().fit_transform(item_categories.item_category_type)   \n",
    "item_categories.dtypes"
   ]
  },
  {
   "cell_type": "code",
   "execution_count": 148,
   "id": "15efd092",
   "metadata": {},
   "outputs": [
    {
     "data": {
      "text/html": [
       "<div>\n",
       "<style scoped>\n",
       "    .dataframe tbody tr th:only-of-type {\n",
       "        vertical-align: middle;\n",
       "    }\n",
       "\n",
       "    .dataframe tbody tr th {\n",
       "        vertical-align: top;\n",
       "    }\n",
       "\n",
       "    .dataframe thead th {\n",
       "        text-align: right;\n",
       "    }\n",
       "</style>\n",
       "<table border=\"1\" class=\"dataframe\">\n",
       "  <thead>\n",
       "    <tr style=\"text-align: right;\">\n",
       "      <th></th>\n",
       "      <th>shop_id</th>\n",
       "      <th>item_id</th>\n",
       "      <th>date_block_num</th>\n",
       "      <th>item_category_id</th>\n",
       "      <th>total_cnt_month</th>\n",
       "    </tr>\n",
       "  </thead>\n",
       "  <tbody>\n",
       "    <tr>\n",
       "      <th>0</th>\n",
       "      <td>2</td>\n",
       "      <td>27</td>\n",
       "      <td>0</td>\n",
       "      <td>19</td>\n",
       "      <td>1</td>\n",
       "    </tr>\n",
       "    <tr>\n",
       "      <th>1</th>\n",
       "      <td>2</td>\n",
       "      <td>27</td>\n",
       "      <td>17</td>\n",
       "      <td>19</td>\n",
       "      <td>1</td>\n",
       "    </tr>\n",
       "    <tr>\n",
       "      <th>2</th>\n",
       "      <td>2</td>\n",
       "      <td>30</td>\n",
       "      <td>2</td>\n",
       "      <td>40</td>\n",
       "      <td>1</td>\n",
       "    </tr>\n",
       "    <tr>\n",
       "      <th>3</th>\n",
       "      <td>2</td>\n",
       "      <td>30</td>\n",
       "      <td>5</td>\n",
       "      <td>40</td>\n",
       "      <td>1</td>\n",
       "    </tr>\n",
       "    <tr>\n",
       "      <th>4</th>\n",
       "      <td>2</td>\n",
       "      <td>30</td>\n",
       "      <td>15</td>\n",
       "      <td>40</td>\n",
       "      <td>1</td>\n",
       "    </tr>\n",
       "    <tr>\n",
       "      <th>...</th>\n",
       "      <td>...</td>\n",
       "      <td>...</td>\n",
       "      <td>...</td>\n",
       "      <td>...</td>\n",
       "      <td>...</td>\n",
       "    </tr>\n",
       "    <tr>\n",
       "      <th>1608220</th>\n",
       "      <td>59</td>\n",
       "      <td>22164</td>\n",
       "      <td>27</td>\n",
       "      <td>37</td>\n",
       "      <td>2</td>\n",
       "    </tr>\n",
       "    <tr>\n",
       "      <th>1608221</th>\n",
       "      <td>59</td>\n",
       "      <td>22164</td>\n",
       "      <td>30</td>\n",
       "      <td>37</td>\n",
       "      <td>1</td>\n",
       "    </tr>\n",
       "    <tr>\n",
       "      <th>1608222</th>\n",
       "      <td>59</td>\n",
       "      <td>22167</td>\n",
       "      <td>9</td>\n",
       "      <td>49</td>\n",
       "      <td>1</td>\n",
       "    </tr>\n",
       "    <tr>\n",
       "      <th>1608223</th>\n",
       "      <td>59</td>\n",
       "      <td>22167</td>\n",
       "      <td>11</td>\n",
       "      <td>49</td>\n",
       "      <td>2</td>\n",
       "    </tr>\n",
       "    <tr>\n",
       "      <th>1608224</th>\n",
       "      <td>59</td>\n",
       "      <td>22167</td>\n",
       "      <td>17</td>\n",
       "      <td>49</td>\n",
       "      <td>1</td>\n",
       "    </tr>\n",
       "  </tbody>\n",
       "</table>\n",
       "<p>1608225 rows × 5 columns</p>\n",
       "</div>"
      ],
      "text/plain": [
       "         shop_id  item_id  date_block_num  item_category_id  total_cnt_month\n",
       "0              2       27               0                19                1\n",
       "1              2       27              17                19                1\n",
       "2              2       30               2                40                1\n",
       "3              2       30               5                40                1\n",
       "4              2       30              15                40                1\n",
       "...          ...      ...             ...               ...              ...\n",
       "1608220       59    22164              27                37                2\n",
       "1608221       59    22164              30                37                1\n",
       "1608222       59    22167               9                49                1\n",
       "1608223       59    22167              11                49                2\n",
       "1608224       59    22167              17                49                1\n",
       "\n",
       "[1608225 rows x 5 columns]"
      ]
     },
     "execution_count": 148,
     "metadata": {},
     "output_type": "execute_result"
    }
   ],
   "source": [
    "sales_train_modelling"
   ]
  },
  {
   "cell_type": "code",
   "execution_count": 149,
   "id": "50d09c7e",
   "metadata": {},
   "outputs": [
    {
     "data": {
      "text/plain": [
       "Index(['shop_id', 'item_id', 'date_block_num', 'item_category_id',\n",
       "       'total_cnt_month', 'index', 'shop_name', 'city', 'city_id',\n",
       "       'shop_category', 'item_category_type'],\n",
       "      dtype='object')"
      ]
     },
     "execution_count": 149,
     "metadata": {},
     "output_type": "execute_result"
    }
   ],
   "source": [
    "#sales_train_modelling =sales_train_modelling.merge(item_id_list, left_on='item_id', right_on='item_id', how='left')\n",
    "sales_train_modelling = sales_train_modelling.merge(shops_encoded, left_on='shop_id', right_on='shop_id', how='left')\n",
    "sales_train_modelling = sales_train_modelling.merge(item_categories[['item_category_id', 'item_category_type']], left_on='item_category_id', right_on='item_category_id', how='left')\n",
    "sales_train_modelling.columns"
   ]
  },
  {
   "cell_type": "code",
   "execution_count": 150,
   "id": "afc4b2b9",
   "metadata": {},
   "outputs": [],
   "source": [
    "def lag_feature(df, lags, col):\n",
    "    print(col)\n",
    "    for i in lags:\n",
    "        shifted = df[['date_block_num', 'shop_id', 'item_id', col]].copy()\n",
    "        shifted.columns = ['date_block_num', 'shop_id', 'item_id', col+\"_lag_\"+str(i)]\n",
    "        shifted.date_block_num += i\n",
    "        df = df.merge(shifted, on=['date_block_num','shop_id','item_id'], how='left').fillna(0)\n",
    "    return df"
   ]
  },
  {
   "cell_type": "code",
   "execution_count": 152,
   "id": "4ddba8a5",
   "metadata": {},
   "outputs": [
    {
     "data": {
      "text/plain": [
       "Index(['shop_id', 'item_id', 'date_block_num', 'item_category_id',\n",
       "       'total_cnt_month', 'index', 'shop_name', 'city', 'city_id',\n",
       "       'shop_category', 'item_category_type'],\n",
       "      dtype='object')"
      ]
     },
     "execution_count": 152,
     "metadata": {},
     "output_type": "execute_result"
    }
   ],
   "source": [
    "#sales_test_modelling['total_cnt_month'] = 0\n",
    "sales_test_modelling\n",
    "sales_test_modelling = sales_test_modelling.merge(shops_encoded, left_on='shop_id', right_on='shop_id', how='left')\n",
    "sales_test_modelling = sales_test_modelling.merge(item_categories[['item_category_id', 'item_category_type']], left_on='item_category_id', right_on='item_category_id', how='left')\n",
    "sales_test_modelling.columns"
   ]
  },
  {
   "cell_type": "markdown",
   "id": "b5876f4a",
   "metadata": {},
   "source": [
    "The part below assumes that whenever there is not any total_cnt_month available for any shop_id-item_id-date_block_num triplet, the sale is zero. According to the this assumption:\n",
    "\n",
    "\n",
    "There were available stocks, however, the items were not sold. All items were always in the market since before doing fillna('0'), the beginning date of the sale info were not checked.\n",
    "\n",
    "However, in real life, these items might not be in the market since the beginning or even if they were there might be a stock-related problem and these items cannot be sold again. Putting zero for such a case may cause a mistaken prediction for the future sales as the stocks could be renewed in the future."
   ]
  },
  {
   "cell_type": "code",
   "execution_count": 153,
   "id": "d97aac9a",
   "metadata": {},
   "outputs": [],
   "source": [
    "df_modelling = sales_train_modelling.append(sales_test_modelling)"
   ]
  },
  {
   "cell_type": "code",
   "execution_count": 156,
   "id": "b2b458fd",
   "metadata": {},
   "outputs": [],
   "source": [
    "df_modelling = df_modelling.drop('shop_name', axis=1)"
   ]
  },
  {
   "cell_type": "code",
   "execution_count": 157,
   "id": "58d2ba73",
   "metadata": {},
   "outputs": [],
   "source": [
    "df_modelling = df_modelling.sort_values('date_block_num')"
   ]
  },
  {
   "cell_type": "code",
   "execution_count": 158,
   "id": "580175b5",
   "metadata": {},
   "outputs": [
    {
     "data": {
      "text/plain": [
       "shop_id               int64\n",
       "item_id               int64\n",
       "date_block_num        int64\n",
       "item_category_id      int64\n",
       "total_cnt_month       int64\n",
       "index                 int64\n",
       "city                  int64\n",
       "city_id               int64\n",
       "shop_category         int64\n",
       "item_category_type    int64\n",
       "dtype: object"
      ]
     },
     "execution_count": 158,
     "metadata": {},
     "output_type": "execute_result"
    }
   ],
   "source": [
    "df_modelling.dtypes"
   ]
  },
  {
   "cell_type": "code",
   "execution_count": 181,
   "id": "8899e62c",
   "metadata": {},
   "outputs": [
    {
     "name": "stdout",
     "output_type": "stream",
     "text": [
      "Size of the feature matrix must be  11098708 .\n"
     ]
    }
   ],
   "source": [
    "from itertools import product\n",
    "\n",
    "product_matrix = []\n",
    "total_len = 0\n",
    "# Try creating a matrix of product(sales['date_block_num'].unique(), sales.shop_id.unique(), sales.item_id.unique()) which are about 45m lines\n",
    "for num in df_modelling['date_block_num'].unique():\n",
    "    tmp = df_modelling[df_modelling.date_block_num==num] #\n",
    "    product_matrix.append(np.array(list(product([num], tmp.shop_id.unique(), tmp.item_id.unique()))))\n",
    "    #print(product([num], tmp.shop_id.unique(), tmp.item_id.unique()))\n",
    "    total_len = total_len + (len(tmp.shop_id.unique())*len(tmp.item_id.unique()))\n",
    "    #matrix.append(np.array(list(product([num], shops.shop_id, items.item_id)), dtype='int16'))\n",
    "    \n",
    "print(\"Size of the feature matrix must be \", total_len, '.')\n",
    "\n",
    "#product_matrix"
   ]
  },
  {
   "cell_type": "code",
   "execution_count": 182,
   "id": "34a8b008",
   "metadata": {},
   "outputs": [],
   "source": [
    "# Turn the grid into a dataframe\n",
    "product_matrix = pd.DataFrame(np.vstack(product_matrix), columns=['date_block_num', 'shop_id', 'item_id'])\n",
    "#print(product_matrix.shape)\n",
    "product_matrix.dtypes\n",
    "\n",
    "# Adding total_cnt_month from the sales data to the product matrix:\n",
    "product_matrix = product_matrix.merge(df_modelling, how='left', on=['date_block_num', 'shop_id', 'item_id']).fillna(0)\n",
    "\n",
    "# Adding the features of shops, items and item_categories:\n",
    "#product_matrix = product_matrix.merge(shops_cleaned[['shop_id', 'city_id']], how='left', on='shop_id')\n",
    "#product_matrix = product_matrix.merge(item_id_list[['item_id','item_category_id']], how='left', on='item_id')\n",
    "#product_matrix.loc[:,'city_id'] = product_matrix['city_id'].astype(int)\n",
    "product_matrix.head(2)\n",
    "\n",
    "# Add month\n",
    "product_matrix['month'] = product_matrix.date_block_num%12+1 #i added + 1 because block_num startes from 0 (e.g. Jan 2013 = 0)\n",
    "product_matrix.dtypes\n",
    "\n",
    "\n",
    "# If fillna.('NA')instead of fillna('0')\n",
    "#product_matrix_c = product_matrix.copy()\n",
    "#print(product_matrix_c.shape)\n",
    "#def remove_nan_rows(df, col):\n",
    "#    df = df[df[col]!='NA']\n",
    "#    return df\n",
    "\n",
    "#cols = list(product_matrix_c.columns)\n",
    "#for c in cols:\n",
    "#    print(c)\n",
    "#    product_matrix_c = remove_nan_rows(product_matrix_c, str(c))\n",
    "#\n",
    "#product_matrix_c.shape\n",
    "\n",
    "# Clip counts\n",
    "product_matrix.loc[:,'total_cnt_month'] = product_matrix['total_cnt_month'].astype(int)\n",
    "product_matrix['total_cnt_month'] = product_matrix['total_cnt_month'].clip(0, 20)"
   ]
  },
  {
   "cell_type": "code",
   "execution_count": 183,
   "id": "209bb589",
   "metadata": {},
   "outputs": [
    {
     "name": "stdout",
     "output_type": "stream",
     "text": [
      "total_cnt_month\n"
     ]
    },
    {
     "data": {
      "text/plain": [
       "date_block_num              int64\n",
       "shop_id                     int64\n",
       "item_id                     int64\n",
       "item_category_id          float64\n",
       "total_cnt_month             int64\n",
       "index                     float64\n",
       "city                      float64\n",
       "city_id                   float64\n",
       "shop_category             float64\n",
       "item_category_type        float64\n",
       "month                       int64\n",
       "total_cnt_month_lag_1     float64\n",
       "total_cnt_month_lag_2     float64\n",
       "total_cnt_month_lag_3     float64\n",
       "total_cnt_month_lag_4     float64\n",
       "total_cnt_month_lag_5     float64\n",
       "total_cnt_month_lag_12    float64\n",
       "dtype: object"
      ]
     },
     "execution_count": 183,
     "metadata": {},
     "output_type": "execute_result"
    }
   ],
   "source": [
    "product_matrix = product_matrix[product_matrix['date_block_num']>=12]\n",
    "product_matrix.reset_index(drop=True, inplace=True)\n",
    "\n",
    "#lag frames\n",
    "myframe = product_matrix.copy() #didnt use product_matrix here\n",
    "\n",
    "#myframe.loc[:,'date_block_num'] = myframe['date_block_num'].astype(int)\n",
    "lags = [1, 2, 3, 4, 5, 12]\n",
    "\n",
    "myframe = lag_feature(myframe, lags, 'total_cnt_month')\n",
    "myframe.dtypes"
   ]
  },
  {
   "cell_type": "code",
   "execution_count": 184,
   "id": "bd649b6c",
   "metadata": {},
   "outputs": [
    {
     "name": "stdout",
     "output_type": "stream",
     "text": [
      "total_cnt_month_item\n",
      "total_cnt_month_shop\n",
      "total_cnt_month_category\n"
     ]
    },
    {
     "data": {
      "text/plain": [
       "date_block_num                       int64\n",
       "shop_id                              int64\n",
       "item_id                              int64\n",
       "item_category_id                   float64\n",
       "total_cnt_month                      int64\n",
       "index                              float64\n",
       "city                               float64\n",
       "city_id                            float64\n",
       "shop_category                      float64\n",
       "item_category_type                 float64\n",
       "month                                int64\n",
       "total_cnt_month_lag_1              float64\n",
       "total_cnt_month_lag_2              float64\n",
       "total_cnt_month_lag_3              float64\n",
       "total_cnt_month_lag_4              float64\n",
       "total_cnt_month_lag_5              float64\n",
       "total_cnt_month_lag_12             float64\n",
       "total_cnt_month_item_lag_1         float64\n",
       "total_cnt_month_item_lag_2         float64\n",
       "total_cnt_month_item_lag_3         float64\n",
       "total_cnt_month_item_lag_4         float64\n",
       "total_cnt_month_item_lag_5         float64\n",
       "total_cnt_month_item_lag_12        float64\n",
       "total_cnt_month_shop_lag_1         float64\n",
       "total_cnt_month_shop_lag_2         float64\n",
       "total_cnt_month_shop_lag_3         float64\n",
       "total_cnt_month_shop_lag_4         float64\n",
       "total_cnt_month_shop_lag_5         float64\n",
       "total_cnt_month_shop_lag_12        float64\n",
       "total_cnt_month_category_lag_1     float64\n",
       "total_cnt_month_category_lag_2     float64\n",
       "total_cnt_month_category_lag_3     float64\n",
       "total_cnt_month_category_lag_4     float64\n",
       "total_cnt_month_category_lag_5     float64\n",
       "total_cnt_month_category_lag_12    float64\n",
       "dtype: object"
      ]
     },
     "execution_count": 184,
     "metadata": {},
     "output_type": "execute_result"
    }
   ],
   "source": [
    "grouped_myframe = myframe.groupby(['item_id', 'date_block_num']).agg({'total_cnt_month':'sum'}).reset_index().rename(columns={'total_cnt_month':'total_cnt_month_item'})\n",
    "myframe = myframe.merge(grouped_myframe, on=['item_id', 'date_block_num'], how='left').fillna(0)\n",
    "myframe =lag_feature(myframe, lags, 'total_cnt_month_item')\n",
    "myframe = myframe.drop('total_cnt_month_item', axis=1)\n",
    "\n",
    "grouped_myframe = myframe.groupby(['shop_id', 'date_block_num']).agg({'total_cnt_month':'sum'}).reset_index().rename(columns={'total_cnt_month':'total_cnt_month_shop'})\n",
    "myframe = myframe.merge(grouped_myframe, on=['shop_id', 'date_block_num'], how='left').fillna(0)\n",
    "myframe =lag_feature(myframe, lags, 'total_cnt_month_shop')\n",
    "myframe = myframe.drop('total_cnt_month_shop', axis=1)\n",
    "\n",
    "grouped_myframe = myframe.groupby(['item_category_type', 'date_block_num']).agg({'total_cnt_month':'sum'}).reset_index().rename(columns={'total_cnt_month':'total_cnt_month_category'})\n",
    "myframe = myframe.merge(grouped_myframe, on=['item_category_type', 'date_block_num'], how='left').fillna(0)\n",
    "myframe =lag_feature(myframe, lags, 'total_cnt_month_category')\n",
    "myframe = myframe.drop('total_cnt_month_category', axis=1)\n",
    "\n",
    "\n",
    "myframe.dtypes\n"
   ]
  },
  {
   "cell_type": "code",
   "execution_count": 185,
   "id": "30909a40",
   "metadata": {},
   "outputs": [],
   "source": [
    "#myframe.to_csv('product_matrix.csv', index=False)"
   ]
  },
  {
   "cell_type": "code",
   "execution_count": 186,
   "id": "07e47c9d",
   "metadata": {},
   "outputs": [
    {
     "data": {
      "text/html": [
       "<div>\n",
       "<style scoped>\n",
       "    .dataframe tbody tr th:only-of-type {\n",
       "        vertical-align: middle;\n",
       "    }\n",
       "\n",
       "    .dataframe tbody tr th {\n",
       "        vertical-align: top;\n",
       "    }\n",
       "\n",
       "    .dataframe thead th {\n",
       "        text-align: right;\n",
       "    }\n",
       "</style>\n",
       "<table border=\"1\" class=\"dataframe\">\n",
       "  <thead>\n",
       "    <tr style=\"text-align: right;\">\n",
       "      <th></th>\n",
       "      <th>date_block_num</th>\n",
       "      <th>shop_id</th>\n",
       "      <th>item_id</th>\n",
       "      <th>item_category_id</th>\n",
       "      <th>total_cnt_month</th>\n",
       "      <th>index</th>\n",
       "      <th>city</th>\n",
       "      <th>city_id</th>\n",
       "      <th>shop_category</th>\n",
       "      <th>item_category_type</th>\n",
       "      <th>...</th>\n",
       "      <th>total_cnt_month_shop_lag_3</th>\n",
       "      <th>total_cnt_month_shop_lag_4</th>\n",
       "      <th>total_cnt_month_shop_lag_5</th>\n",
       "      <th>total_cnt_month_shop_lag_12</th>\n",
       "      <th>total_cnt_month_category_lag_1</th>\n",
       "      <th>total_cnt_month_category_lag_2</th>\n",
       "      <th>total_cnt_month_category_lag_3</th>\n",
       "      <th>total_cnt_month_category_lag_4</th>\n",
       "      <th>total_cnt_month_category_lag_5</th>\n",
       "      <th>total_cnt_month_category_lag_12</th>\n",
       "    </tr>\n",
       "  </thead>\n",
       "  <tbody>\n",
       "    <tr>\n",
       "      <th>0</th>\n",
       "      <td>12</td>\n",
       "      <td>29</td>\n",
       "      <td>16564</td>\n",
       "      <td>40.0</td>\n",
       "      <td>1</td>\n",
       "      <td>29.0</td>\n",
       "      <td>13.0</td>\n",
       "      <td>13.0</td>\n",
       "      <td>8.0</td>\n",
       "      <td>5.0</td>\n",
       "      <td>...</td>\n",
       "      <td>0.0</td>\n",
       "      <td>0.0</td>\n",
       "      <td>0.0</td>\n",
       "      <td>0.0</td>\n",
       "      <td>0.0</td>\n",
       "      <td>0.0</td>\n",
       "      <td>0.0</td>\n",
       "      <td>0.0</td>\n",
       "      <td>0.0</td>\n",
       "      <td>0.0</td>\n",
       "    </tr>\n",
       "    <tr>\n",
       "      <th>1</th>\n",
       "      <td>12</td>\n",
       "      <td>29</td>\n",
       "      <td>2754</td>\n",
       "      <td>19.0</td>\n",
       "      <td>2</td>\n",
       "      <td>29.0</td>\n",
       "      <td>13.0</td>\n",
       "      <td>13.0</td>\n",
       "      <td>8.0</td>\n",
       "      <td>3.0</td>\n",
       "      <td>...</td>\n",
       "      <td>0.0</td>\n",
       "      <td>0.0</td>\n",
       "      <td>0.0</td>\n",
       "      <td>0.0</td>\n",
       "      <td>0.0</td>\n",
       "      <td>0.0</td>\n",
       "      <td>0.0</td>\n",
       "      <td>0.0</td>\n",
       "      <td>0.0</td>\n",
       "      <td>0.0</td>\n",
       "    </tr>\n",
       "    <tr>\n",
       "      <th>2</th>\n",
       "      <td>12</td>\n",
       "      <td>29</td>\n",
       "      <td>13607</td>\n",
       "      <td>0.0</td>\n",
       "      <td>0</td>\n",
       "      <td>0.0</td>\n",
       "      <td>0.0</td>\n",
       "      <td>0.0</td>\n",
       "      <td>0.0</td>\n",
       "      <td>0.0</td>\n",
       "      <td>...</td>\n",
       "      <td>0.0</td>\n",
       "      <td>0.0</td>\n",
       "      <td>0.0</td>\n",
       "      <td>0.0</td>\n",
       "      <td>0.0</td>\n",
       "      <td>0.0</td>\n",
       "      <td>0.0</td>\n",
       "      <td>0.0</td>\n",
       "      <td>0.0</td>\n",
       "      <td>0.0</td>\n",
       "    </tr>\n",
       "    <tr>\n",
       "      <th>3</th>\n",
       "      <td>12</td>\n",
       "      <td>29</td>\n",
       "      <td>1143</td>\n",
       "      <td>55.0</td>\n",
       "      <td>1</td>\n",
       "      <td>29.0</td>\n",
       "      <td>13.0</td>\n",
       "      <td>13.0</td>\n",
       "      <td>8.0</td>\n",
       "      <td>7.0</td>\n",
       "      <td>...</td>\n",
       "      <td>0.0</td>\n",
       "      <td>0.0</td>\n",
       "      <td>0.0</td>\n",
       "      <td>0.0</td>\n",
       "      <td>0.0</td>\n",
       "      <td>0.0</td>\n",
       "      <td>0.0</td>\n",
       "      <td>0.0</td>\n",
       "      <td>0.0</td>\n",
       "      <td>0.0</td>\n",
       "    </tr>\n",
       "    <tr>\n",
       "      <th>4</th>\n",
       "      <td>12</td>\n",
       "      <td>29</td>\n",
       "      <td>6474</td>\n",
       "      <td>28.0</td>\n",
       "      <td>2</td>\n",
       "      <td>29.0</td>\n",
       "      <td>13.0</td>\n",
       "      <td>13.0</td>\n",
       "      <td>8.0</td>\n",
       "      <td>3.0</td>\n",
       "      <td>...</td>\n",
       "      <td>0.0</td>\n",
       "      <td>0.0</td>\n",
       "      <td>0.0</td>\n",
       "      <td>0.0</td>\n",
       "      <td>0.0</td>\n",
       "      <td>0.0</td>\n",
       "      <td>0.0</td>\n",
       "      <td>0.0</td>\n",
       "      <td>0.0</td>\n",
       "      <td>0.0</td>\n",
       "    </tr>\n",
       "    <tr>\n",
       "      <th>...</th>\n",
       "      <td>...</td>\n",
       "      <td>...</td>\n",
       "      <td>...</td>\n",
       "      <td>...</td>\n",
       "      <td>...</td>\n",
       "      <td>...</td>\n",
       "      <td>...</td>\n",
       "      <td>...</td>\n",
       "      <td>...</td>\n",
       "      <td>...</td>\n",
       "      <td>...</td>\n",
       "      <td>...</td>\n",
       "      <td>...</td>\n",
       "      <td>...</td>\n",
       "      <td>...</td>\n",
       "      <td>...</td>\n",
       "      <td>...</td>\n",
       "      <td>...</td>\n",
       "      <td>...</td>\n",
       "      <td>...</td>\n",
       "      <td>...</td>\n",
       "    </tr>\n",
       "    <tr>\n",
       "      <th>6619859</th>\n",
       "      <td>34</td>\n",
       "      <td>21</td>\n",
       "      <td>17391</td>\n",
       "      <td>40.0</td>\n",
       "      <td>0</td>\n",
       "      <td>21.0</td>\n",
       "      <td>13.0</td>\n",
       "      <td>13.0</td>\n",
       "      <td>2.0</td>\n",
       "      <td>5.0</td>\n",
       "      <td>...</td>\n",
       "      <td>1548.0</td>\n",
       "      <td>1628.0</td>\n",
       "      <td>1598.0</td>\n",
       "      <td>0.0</td>\n",
       "      <td>0.0</td>\n",
       "      <td>0.0</td>\n",
       "      <td>0.0</td>\n",
       "      <td>0.0</td>\n",
       "      <td>0.0</td>\n",
       "      <td>0.0</td>\n",
       "    </tr>\n",
       "    <tr>\n",
       "      <th>6619860</th>\n",
       "      <td>34</td>\n",
       "      <td>21</td>\n",
       "      <td>18140</td>\n",
       "      <td>55.0</td>\n",
       "      <td>0</td>\n",
       "      <td>21.0</td>\n",
       "      <td>13.0</td>\n",
       "      <td>13.0</td>\n",
       "      <td>2.0</td>\n",
       "      <td>7.0</td>\n",
       "      <td>...</td>\n",
       "      <td>1548.0</td>\n",
       "      <td>1628.0</td>\n",
       "      <td>1598.0</td>\n",
       "      <td>0.0</td>\n",
       "      <td>0.0</td>\n",
       "      <td>0.0</td>\n",
       "      <td>0.0</td>\n",
       "      <td>7621.0</td>\n",
       "      <td>7164.0</td>\n",
       "      <td>0.0</td>\n",
       "    </tr>\n",
       "    <tr>\n",
       "      <th>6619861</th>\n",
       "      <td>34</td>\n",
       "      <td>21</td>\n",
       "      <td>18107</td>\n",
       "      <td>61.0</td>\n",
       "      <td>0</td>\n",
       "      <td>21.0</td>\n",
       "      <td>13.0</td>\n",
       "      <td>13.0</td>\n",
       "      <td>2.0</td>\n",
       "      <td>8.0</td>\n",
       "      <td>...</td>\n",
       "      <td>1548.0</td>\n",
       "      <td>0.0</td>\n",
       "      <td>1598.0</td>\n",
       "      <td>0.0</td>\n",
       "      <td>0.0</td>\n",
       "      <td>0.0</td>\n",
       "      <td>0.0</td>\n",
       "      <td>0.0</td>\n",
       "      <td>0.0</td>\n",
       "      <td>0.0</td>\n",
       "    </tr>\n",
       "    <tr>\n",
       "      <th>6619862</th>\n",
       "      <td>34</td>\n",
       "      <td>21</td>\n",
       "      <td>18102</td>\n",
       "      <td>61.0</td>\n",
       "      <td>0</td>\n",
       "      <td>21.0</td>\n",
       "      <td>13.0</td>\n",
       "      <td>13.0</td>\n",
       "      <td>2.0</td>\n",
       "      <td>8.0</td>\n",
       "      <td>...</td>\n",
       "      <td>1548.0</td>\n",
       "      <td>0.0</td>\n",
       "      <td>0.0</td>\n",
       "      <td>0.0</td>\n",
       "      <td>0.0</td>\n",
       "      <td>0.0</td>\n",
       "      <td>0.0</td>\n",
       "      <td>0.0</td>\n",
       "      <td>0.0</td>\n",
       "      <td>0.0</td>\n",
       "    </tr>\n",
       "    <tr>\n",
       "      <th>6619863</th>\n",
       "      <td>34</td>\n",
       "      <td>21</td>\n",
       "      <td>15560</td>\n",
       "      <td>37.0</td>\n",
       "      <td>0</td>\n",
       "      <td>21.0</td>\n",
       "      <td>13.0</td>\n",
       "      <td>13.0</td>\n",
       "      <td>2.0</td>\n",
       "      <td>5.0</td>\n",
       "      <td>...</td>\n",
       "      <td>0.0</td>\n",
       "      <td>0.0</td>\n",
       "      <td>0.0</td>\n",
       "      <td>1956.0</td>\n",
       "      <td>0.0</td>\n",
       "      <td>0.0</td>\n",
       "      <td>0.0</td>\n",
       "      <td>0.0</td>\n",
       "      <td>0.0</td>\n",
       "      <td>22430.0</td>\n",
       "    </tr>\n",
       "  </tbody>\n",
       "</table>\n",
       "<p>6619864 rows × 35 columns</p>\n",
       "</div>"
      ],
      "text/plain": [
       "         date_block_num  shop_id  item_id  item_category_id  total_cnt_month  \\\n",
       "0                    12       29    16564              40.0                1   \n",
       "1                    12       29     2754              19.0                2   \n",
       "2                    12       29    13607               0.0                0   \n",
       "3                    12       29     1143              55.0                1   \n",
       "4                    12       29     6474              28.0                2   \n",
       "...                 ...      ...      ...               ...              ...   \n",
       "6619859              34       21    17391              40.0                0   \n",
       "6619860              34       21    18140              55.0                0   \n",
       "6619861              34       21    18107              61.0                0   \n",
       "6619862              34       21    18102              61.0                0   \n",
       "6619863              34       21    15560              37.0                0   \n",
       "\n",
       "         index  city  city_id  shop_category  item_category_type  ...  \\\n",
       "0         29.0  13.0     13.0            8.0                 5.0  ...   \n",
       "1         29.0  13.0     13.0            8.0                 3.0  ...   \n",
       "2          0.0   0.0      0.0            0.0                 0.0  ...   \n",
       "3         29.0  13.0     13.0            8.0                 7.0  ...   \n",
       "4         29.0  13.0     13.0            8.0                 3.0  ...   \n",
       "...        ...   ...      ...            ...                 ...  ...   \n",
       "6619859   21.0  13.0     13.0            2.0                 5.0  ...   \n",
       "6619860   21.0  13.0     13.0            2.0                 7.0  ...   \n",
       "6619861   21.0  13.0     13.0            2.0                 8.0  ...   \n",
       "6619862   21.0  13.0     13.0            2.0                 8.0  ...   \n",
       "6619863   21.0  13.0     13.0            2.0                 5.0  ...   \n",
       "\n",
       "         total_cnt_month_shop_lag_3  total_cnt_month_shop_lag_4  \\\n",
       "0                               0.0                         0.0   \n",
       "1                               0.0                         0.0   \n",
       "2                               0.0                         0.0   \n",
       "3                               0.0                         0.0   \n",
       "4                               0.0                         0.0   \n",
       "...                             ...                         ...   \n",
       "6619859                      1548.0                      1628.0   \n",
       "6619860                      1548.0                      1628.0   \n",
       "6619861                      1548.0                         0.0   \n",
       "6619862                      1548.0                         0.0   \n",
       "6619863                         0.0                         0.0   \n",
       "\n",
       "         total_cnt_month_shop_lag_5  total_cnt_month_shop_lag_12  \\\n",
       "0                               0.0                          0.0   \n",
       "1                               0.0                          0.0   \n",
       "2                               0.0                          0.0   \n",
       "3                               0.0                          0.0   \n",
       "4                               0.0                          0.0   \n",
       "...                             ...                          ...   \n",
       "6619859                      1598.0                          0.0   \n",
       "6619860                      1598.0                          0.0   \n",
       "6619861                      1598.0                          0.0   \n",
       "6619862                         0.0                          0.0   \n",
       "6619863                         0.0                       1956.0   \n",
       "\n",
       "         total_cnt_month_category_lag_1  total_cnt_month_category_lag_2  \\\n",
       "0                                   0.0                             0.0   \n",
       "1                                   0.0                             0.0   \n",
       "2                                   0.0                             0.0   \n",
       "3                                   0.0                             0.0   \n",
       "4                                   0.0                             0.0   \n",
       "...                                 ...                             ...   \n",
       "6619859                             0.0                             0.0   \n",
       "6619860                             0.0                             0.0   \n",
       "6619861                             0.0                             0.0   \n",
       "6619862                             0.0                             0.0   \n",
       "6619863                             0.0                             0.0   \n",
       "\n",
       "         total_cnt_month_category_lag_3  total_cnt_month_category_lag_4  \\\n",
       "0                                   0.0                             0.0   \n",
       "1                                   0.0                             0.0   \n",
       "2                                   0.0                             0.0   \n",
       "3                                   0.0                             0.0   \n",
       "4                                   0.0                             0.0   \n",
       "...                                 ...                             ...   \n",
       "6619859                             0.0                             0.0   \n",
       "6619860                             0.0                          7621.0   \n",
       "6619861                             0.0                             0.0   \n",
       "6619862                             0.0                             0.0   \n",
       "6619863                             0.0                             0.0   \n",
       "\n",
       "         total_cnt_month_category_lag_5  total_cnt_month_category_lag_12  \n",
       "0                                   0.0                              0.0  \n",
       "1                                   0.0                              0.0  \n",
       "2                                   0.0                              0.0  \n",
       "3                                   0.0                              0.0  \n",
       "4                                   0.0                              0.0  \n",
       "...                                 ...                              ...  \n",
       "6619859                             0.0                              0.0  \n",
       "6619860                          7164.0                              0.0  \n",
       "6619861                             0.0                              0.0  \n",
       "6619862                             0.0                              0.0  \n",
       "6619863                             0.0                          22430.0  \n",
       "\n",
       "[6619864 rows x 35 columns]"
      ]
     },
     "execution_count": 186,
     "metadata": {},
     "output_type": "execute_result"
    }
   ],
   "source": [
    "myframe"
   ]
  },
  {
   "cell_type": "code",
   "execution_count": 187,
   "id": "3260dede",
   "metadata": {},
   "outputs": [],
   "source": [
    "#no_nan_frame = myframe.copy()#\n",
    "#print(no_nan_frame.shape)\n",
    "#def remove_nan_rows(df, col):\n",
    "#    df = df[df[col]!='NaN']\n",
    "#    return df\n",
    "\n",
    "#cols = list(no_nan_frame.columns)\n",
    "#for c in cols:\n",
    "#    print(c)\n",
    "#    no_nan_frame = remove_nan_rows(no_nan_frame, str(c))\n",
    "    \n",
    "#print(no_nan_frame.shape)"
   ]
  },
  {
   "cell_type": "code",
   "execution_count": 188,
   "id": "363a9bd5",
   "metadata": {},
   "outputs": [],
   "source": [
    "#myframe[(myframe['date_block_num']==30) & (myframe['shop_id']=='42') & (myframe['item_id']=='22154')]"
   ]
  },
  {
   "cell_type": "code",
   "execution_count": 189,
   "id": "464df6cf",
   "metadata": {},
   "outputs": [],
   "source": [
    "#myframe[(myframe['date_block_num']==29) & (myframe['shop_id']=='42') & (myframe['item_id']=='22154')]"
   ]
  },
  {
   "cell_type": "markdown",
   "id": "11c2bbda",
   "metadata": {},
   "source": [
    "# 6. Benchmark Modelling <a id='benchmark_modelling'></a>\n",
    "[Back to top](#table_of_contents)"
   ]
  },
  {
   "cell_type": "code",
   "execution_count": 190,
   "id": "42d6b4c5",
   "metadata": {},
   "outputs": [],
   "source": [
    "#target_feature_bm = ['total_cnt_month']\n",
    "#categorical_features_bm = ['item_id', 'item_category_id', 'shop_id', 'city_id', 'month']\n",
    "#input_features_bm = categorical_features_bm"
   ]
  },
  {
   "cell_type": "markdown",
   "id": "671332b1",
   "metadata": {},
   "source": [
    "### Splitting training, validation, and test sets"
   ]
  },
  {
   "cell_type": "code",
   "execution_count": 191,
   "id": "9ead70a0",
   "metadata": {},
   "outputs": [
    {
     "data": {
      "text/html": [
       "<div>\n",
       "<style scoped>\n",
       "    .dataframe tbody tr th:only-of-type {\n",
       "        vertical-align: middle;\n",
       "    }\n",
       "\n",
       "    .dataframe tbody tr th {\n",
       "        vertical-align: top;\n",
       "    }\n",
       "\n",
       "    .dataframe thead th {\n",
       "        text-align: right;\n",
       "    }\n",
       "</style>\n",
       "<table border=\"1\" class=\"dataframe\">\n",
       "  <thead>\n",
       "    <tr style=\"text-align: right;\">\n",
       "      <th></th>\n",
       "      <th>date_block_num</th>\n",
       "      <th>shop_id</th>\n",
       "      <th>item_id</th>\n",
       "      <th>item_category_id</th>\n",
       "      <th>total_cnt_month</th>\n",
       "      <th>index</th>\n",
       "      <th>city</th>\n",
       "      <th>city_id</th>\n",
       "      <th>shop_category</th>\n",
       "      <th>item_category_type</th>\n",
       "      <th>...</th>\n",
       "      <th>total_cnt_month_shop_lag_3</th>\n",
       "      <th>total_cnt_month_shop_lag_4</th>\n",
       "      <th>total_cnt_month_shop_lag_5</th>\n",
       "      <th>total_cnt_month_shop_lag_12</th>\n",
       "      <th>total_cnt_month_category_lag_1</th>\n",
       "      <th>total_cnt_month_category_lag_2</th>\n",
       "      <th>total_cnt_month_category_lag_3</th>\n",
       "      <th>total_cnt_month_category_lag_4</th>\n",
       "      <th>total_cnt_month_category_lag_5</th>\n",
       "      <th>total_cnt_month_category_lag_12</th>\n",
       "    </tr>\n",
       "  </thead>\n",
       "  <tbody>\n",
       "    <tr>\n",
       "      <th>0</th>\n",
       "      <td>12</td>\n",
       "      <td>29</td>\n",
       "      <td>16564</td>\n",
       "      <td>40.0</td>\n",
       "      <td>1</td>\n",
       "      <td>29.0</td>\n",
       "      <td>13.0</td>\n",
       "      <td>13.0</td>\n",
       "      <td>8.0</td>\n",
       "      <td>5.0</td>\n",
       "      <td>...</td>\n",
       "      <td>0.0</td>\n",
       "      <td>0.0</td>\n",
       "      <td>0.0</td>\n",
       "      <td>0.0</td>\n",
       "      <td>0.0</td>\n",
       "      <td>0.0</td>\n",
       "      <td>0.0</td>\n",
       "      <td>0.0</td>\n",
       "      <td>0.0</td>\n",
       "      <td>0.0</td>\n",
       "    </tr>\n",
       "    <tr>\n",
       "      <th>1</th>\n",
       "      <td>12</td>\n",
       "      <td>29</td>\n",
       "      <td>2754</td>\n",
       "      <td>19.0</td>\n",
       "      <td>2</td>\n",
       "      <td>29.0</td>\n",
       "      <td>13.0</td>\n",
       "      <td>13.0</td>\n",
       "      <td>8.0</td>\n",
       "      <td>3.0</td>\n",
       "      <td>...</td>\n",
       "      <td>0.0</td>\n",
       "      <td>0.0</td>\n",
       "      <td>0.0</td>\n",
       "      <td>0.0</td>\n",
       "      <td>0.0</td>\n",
       "      <td>0.0</td>\n",
       "      <td>0.0</td>\n",
       "      <td>0.0</td>\n",
       "      <td>0.0</td>\n",
       "      <td>0.0</td>\n",
       "    </tr>\n",
       "    <tr>\n",
       "      <th>2</th>\n",
       "      <td>12</td>\n",
       "      <td>29</td>\n",
       "      <td>13607</td>\n",
       "      <td>0.0</td>\n",
       "      <td>0</td>\n",
       "      <td>0.0</td>\n",
       "      <td>0.0</td>\n",
       "      <td>0.0</td>\n",
       "      <td>0.0</td>\n",
       "      <td>0.0</td>\n",
       "      <td>...</td>\n",
       "      <td>0.0</td>\n",
       "      <td>0.0</td>\n",
       "      <td>0.0</td>\n",
       "      <td>0.0</td>\n",
       "      <td>0.0</td>\n",
       "      <td>0.0</td>\n",
       "      <td>0.0</td>\n",
       "      <td>0.0</td>\n",
       "      <td>0.0</td>\n",
       "      <td>0.0</td>\n",
       "    </tr>\n",
       "    <tr>\n",
       "      <th>3</th>\n",
       "      <td>12</td>\n",
       "      <td>29</td>\n",
       "      <td>1143</td>\n",
       "      <td>55.0</td>\n",
       "      <td>1</td>\n",
       "      <td>29.0</td>\n",
       "      <td>13.0</td>\n",
       "      <td>13.0</td>\n",
       "      <td>8.0</td>\n",
       "      <td>7.0</td>\n",
       "      <td>...</td>\n",
       "      <td>0.0</td>\n",
       "      <td>0.0</td>\n",
       "      <td>0.0</td>\n",
       "      <td>0.0</td>\n",
       "      <td>0.0</td>\n",
       "      <td>0.0</td>\n",
       "      <td>0.0</td>\n",
       "      <td>0.0</td>\n",
       "      <td>0.0</td>\n",
       "      <td>0.0</td>\n",
       "    </tr>\n",
       "    <tr>\n",
       "      <th>4</th>\n",
       "      <td>12</td>\n",
       "      <td>29</td>\n",
       "      <td>6474</td>\n",
       "      <td>28.0</td>\n",
       "      <td>2</td>\n",
       "      <td>29.0</td>\n",
       "      <td>13.0</td>\n",
       "      <td>13.0</td>\n",
       "      <td>8.0</td>\n",
       "      <td>3.0</td>\n",
       "      <td>...</td>\n",
       "      <td>0.0</td>\n",
       "      <td>0.0</td>\n",
       "      <td>0.0</td>\n",
       "      <td>0.0</td>\n",
       "      <td>0.0</td>\n",
       "      <td>0.0</td>\n",
       "      <td>0.0</td>\n",
       "      <td>0.0</td>\n",
       "      <td>0.0</td>\n",
       "      <td>0.0</td>\n",
       "    </tr>\n",
       "    <tr>\n",
       "      <th>...</th>\n",
       "      <td>...</td>\n",
       "      <td>...</td>\n",
       "      <td>...</td>\n",
       "      <td>...</td>\n",
       "      <td>...</td>\n",
       "      <td>...</td>\n",
       "      <td>...</td>\n",
       "      <td>...</td>\n",
       "      <td>...</td>\n",
       "      <td>...</td>\n",
       "      <td>...</td>\n",
       "      <td>...</td>\n",
       "      <td>...</td>\n",
       "      <td>...</td>\n",
       "      <td>...</td>\n",
       "      <td>...</td>\n",
       "      <td>...</td>\n",
       "      <td>...</td>\n",
       "      <td>...</td>\n",
       "      <td>...</td>\n",
       "      <td>...</td>\n",
       "    </tr>\n",
       "    <tr>\n",
       "      <th>6619859</th>\n",
       "      <td>34</td>\n",
       "      <td>21</td>\n",
       "      <td>17391</td>\n",
       "      <td>40.0</td>\n",
       "      <td>0</td>\n",
       "      <td>21.0</td>\n",
       "      <td>13.0</td>\n",
       "      <td>13.0</td>\n",
       "      <td>2.0</td>\n",
       "      <td>5.0</td>\n",
       "      <td>...</td>\n",
       "      <td>1548.0</td>\n",
       "      <td>1628.0</td>\n",
       "      <td>1598.0</td>\n",
       "      <td>0.0</td>\n",
       "      <td>0.0</td>\n",
       "      <td>0.0</td>\n",
       "      <td>0.0</td>\n",
       "      <td>0.0</td>\n",
       "      <td>0.0</td>\n",
       "      <td>0.0</td>\n",
       "    </tr>\n",
       "    <tr>\n",
       "      <th>6619860</th>\n",
       "      <td>34</td>\n",
       "      <td>21</td>\n",
       "      <td>18140</td>\n",
       "      <td>55.0</td>\n",
       "      <td>0</td>\n",
       "      <td>21.0</td>\n",
       "      <td>13.0</td>\n",
       "      <td>13.0</td>\n",
       "      <td>2.0</td>\n",
       "      <td>7.0</td>\n",
       "      <td>...</td>\n",
       "      <td>1548.0</td>\n",
       "      <td>1628.0</td>\n",
       "      <td>1598.0</td>\n",
       "      <td>0.0</td>\n",
       "      <td>0.0</td>\n",
       "      <td>0.0</td>\n",
       "      <td>0.0</td>\n",
       "      <td>7621.0</td>\n",
       "      <td>7164.0</td>\n",
       "      <td>0.0</td>\n",
       "    </tr>\n",
       "    <tr>\n",
       "      <th>6619861</th>\n",
       "      <td>34</td>\n",
       "      <td>21</td>\n",
       "      <td>18107</td>\n",
       "      <td>61.0</td>\n",
       "      <td>0</td>\n",
       "      <td>21.0</td>\n",
       "      <td>13.0</td>\n",
       "      <td>13.0</td>\n",
       "      <td>2.0</td>\n",
       "      <td>8.0</td>\n",
       "      <td>...</td>\n",
       "      <td>1548.0</td>\n",
       "      <td>0.0</td>\n",
       "      <td>1598.0</td>\n",
       "      <td>0.0</td>\n",
       "      <td>0.0</td>\n",
       "      <td>0.0</td>\n",
       "      <td>0.0</td>\n",
       "      <td>0.0</td>\n",
       "      <td>0.0</td>\n",
       "      <td>0.0</td>\n",
       "    </tr>\n",
       "    <tr>\n",
       "      <th>6619862</th>\n",
       "      <td>34</td>\n",
       "      <td>21</td>\n",
       "      <td>18102</td>\n",
       "      <td>61.0</td>\n",
       "      <td>0</td>\n",
       "      <td>21.0</td>\n",
       "      <td>13.0</td>\n",
       "      <td>13.0</td>\n",
       "      <td>2.0</td>\n",
       "      <td>8.0</td>\n",
       "      <td>...</td>\n",
       "      <td>1548.0</td>\n",
       "      <td>0.0</td>\n",
       "      <td>0.0</td>\n",
       "      <td>0.0</td>\n",
       "      <td>0.0</td>\n",
       "      <td>0.0</td>\n",
       "      <td>0.0</td>\n",
       "      <td>0.0</td>\n",
       "      <td>0.0</td>\n",
       "      <td>0.0</td>\n",
       "    </tr>\n",
       "    <tr>\n",
       "      <th>6619863</th>\n",
       "      <td>34</td>\n",
       "      <td>21</td>\n",
       "      <td>15560</td>\n",
       "      <td>37.0</td>\n",
       "      <td>0</td>\n",
       "      <td>21.0</td>\n",
       "      <td>13.0</td>\n",
       "      <td>13.0</td>\n",
       "      <td>2.0</td>\n",
       "      <td>5.0</td>\n",
       "      <td>...</td>\n",
       "      <td>0.0</td>\n",
       "      <td>0.0</td>\n",
       "      <td>0.0</td>\n",
       "      <td>1956.0</td>\n",
       "      <td>0.0</td>\n",
       "      <td>0.0</td>\n",
       "      <td>0.0</td>\n",
       "      <td>0.0</td>\n",
       "      <td>0.0</td>\n",
       "      <td>22430.0</td>\n",
       "    </tr>\n",
       "  </tbody>\n",
       "</table>\n",
       "<p>6619864 rows × 35 columns</p>\n",
       "</div>"
      ],
      "text/plain": [
       "         date_block_num  shop_id  item_id  item_category_id  total_cnt_month  \\\n",
       "0                    12       29    16564              40.0                1   \n",
       "1                    12       29     2754              19.0                2   \n",
       "2                    12       29    13607               0.0                0   \n",
       "3                    12       29     1143              55.0                1   \n",
       "4                    12       29     6474              28.0                2   \n",
       "...                 ...      ...      ...               ...              ...   \n",
       "6619859              34       21    17391              40.0                0   \n",
       "6619860              34       21    18140              55.0                0   \n",
       "6619861              34       21    18107              61.0                0   \n",
       "6619862              34       21    18102              61.0                0   \n",
       "6619863              34       21    15560              37.0                0   \n",
       "\n",
       "         index  city  city_id  shop_category  item_category_type  ...  \\\n",
       "0         29.0  13.0     13.0            8.0                 5.0  ...   \n",
       "1         29.0  13.0     13.0            8.0                 3.0  ...   \n",
       "2          0.0   0.0      0.0            0.0                 0.0  ...   \n",
       "3         29.0  13.0     13.0            8.0                 7.0  ...   \n",
       "4         29.0  13.0     13.0            8.0                 3.0  ...   \n",
       "...        ...   ...      ...            ...                 ...  ...   \n",
       "6619859   21.0  13.0     13.0            2.0                 5.0  ...   \n",
       "6619860   21.0  13.0     13.0            2.0                 7.0  ...   \n",
       "6619861   21.0  13.0     13.0            2.0                 8.0  ...   \n",
       "6619862   21.0  13.0     13.0            2.0                 8.0  ...   \n",
       "6619863   21.0  13.0     13.0            2.0                 5.0  ...   \n",
       "\n",
       "         total_cnt_month_shop_lag_3  total_cnt_month_shop_lag_4  \\\n",
       "0                               0.0                         0.0   \n",
       "1                               0.0                         0.0   \n",
       "2                               0.0                         0.0   \n",
       "3                               0.0                         0.0   \n",
       "4                               0.0                         0.0   \n",
       "...                             ...                         ...   \n",
       "6619859                      1548.0                      1628.0   \n",
       "6619860                      1548.0                      1628.0   \n",
       "6619861                      1548.0                         0.0   \n",
       "6619862                      1548.0                         0.0   \n",
       "6619863                         0.0                         0.0   \n",
       "\n",
       "         total_cnt_month_shop_lag_5  total_cnt_month_shop_lag_12  \\\n",
       "0                               0.0                          0.0   \n",
       "1                               0.0                          0.0   \n",
       "2                               0.0                          0.0   \n",
       "3                               0.0                          0.0   \n",
       "4                               0.0                          0.0   \n",
       "...                             ...                          ...   \n",
       "6619859                      1598.0                          0.0   \n",
       "6619860                      1598.0                          0.0   \n",
       "6619861                      1598.0                          0.0   \n",
       "6619862                         0.0                          0.0   \n",
       "6619863                         0.0                       1956.0   \n",
       "\n",
       "         total_cnt_month_category_lag_1  total_cnt_month_category_lag_2  \\\n",
       "0                                   0.0                             0.0   \n",
       "1                                   0.0                             0.0   \n",
       "2                                   0.0                             0.0   \n",
       "3                                   0.0                             0.0   \n",
       "4                                   0.0                             0.0   \n",
       "...                                 ...                             ...   \n",
       "6619859                             0.0                             0.0   \n",
       "6619860                             0.0                             0.0   \n",
       "6619861                             0.0                             0.0   \n",
       "6619862                             0.0                             0.0   \n",
       "6619863                             0.0                             0.0   \n",
       "\n",
       "         total_cnt_month_category_lag_3  total_cnt_month_category_lag_4  \\\n",
       "0                                   0.0                             0.0   \n",
       "1                                   0.0                             0.0   \n",
       "2                                   0.0                             0.0   \n",
       "3                                   0.0                             0.0   \n",
       "4                                   0.0                             0.0   \n",
       "...                                 ...                             ...   \n",
       "6619859                             0.0                             0.0   \n",
       "6619860                             0.0                          7621.0   \n",
       "6619861                             0.0                             0.0   \n",
       "6619862                             0.0                             0.0   \n",
       "6619863                             0.0                             0.0   \n",
       "\n",
       "         total_cnt_month_category_lag_5  total_cnt_month_category_lag_12  \n",
       "0                                   0.0                              0.0  \n",
       "1                                   0.0                              0.0  \n",
       "2                                   0.0                              0.0  \n",
       "3                                   0.0                              0.0  \n",
       "4                                   0.0                              0.0  \n",
       "...                                 ...                              ...  \n",
       "6619859                             0.0                              0.0  \n",
       "6619860                          7164.0                              0.0  \n",
       "6619861                             0.0                              0.0  \n",
       "6619862                             0.0                              0.0  \n",
       "6619863                             0.0                          22430.0  \n",
       "\n",
       "[6619864 rows x 35 columns]"
      ]
     },
     "execution_count": 191,
     "metadata": {},
     "output_type": "execute_result"
    }
   ],
   "source": [
    "# Remove the 2013's sales data\n",
    "myframe2 = myframe[myframe.date_block_num>=12] \n",
    "myframe2.reset_index(drop=True, inplace=True)\n",
    "myframe2"
   ]
  },
  {
   "cell_type": "code",
   "execution_count": 202,
   "id": "09128bd8",
   "metadata": {},
   "outputs": [],
   "source": [
    "matrix = myframe2.copy()\n",
    "X_train = matrix[matrix.date_block_num < 33].drop(['total_cnt_month'], axis=1)\n",
    "y_train = matrix[matrix.date_block_num < 33]['total_cnt_month']\n",
    "X_val = matrix[matrix.date_block_num == 33].drop(['total_cnt_month'], axis=1)\n",
    "y_val =  matrix[matrix.date_block_num == 33]['total_cnt_month']\n",
    "X_test = matrix[matrix.date_block_num == 34].drop(['total_cnt_month'], axis=1)"
   ]
  },
  {
   "cell_type": "code",
   "execution_count": 203,
   "id": "3121a68f",
   "metadata": {},
   "outputs": [
    {
     "data": {
      "text/plain": [
       "Index(['date_block_num', 'shop_id', 'item_id', 'item_category_id', 'index',\n",
       "       'city', 'city_id', 'shop_category', 'item_category_type', 'month',\n",
       "       'total_cnt_month_lag_1', 'total_cnt_month_lag_2',\n",
       "       'total_cnt_month_lag_3', 'total_cnt_month_lag_4',\n",
       "       'total_cnt_month_lag_5', 'total_cnt_month_lag_12',\n",
       "       'total_cnt_month_item_lag_1', 'total_cnt_month_item_lag_2',\n",
       "       'total_cnt_month_item_lag_3', 'total_cnt_month_item_lag_4',\n",
       "       'total_cnt_month_item_lag_5', 'total_cnt_month_item_lag_12',\n",
       "       'total_cnt_month_shop_lag_1', 'total_cnt_month_shop_lag_2',\n",
       "       'total_cnt_month_shop_lag_3', 'total_cnt_month_shop_lag_4',\n",
       "       'total_cnt_month_shop_lag_5', 'total_cnt_month_shop_lag_12',\n",
       "       'total_cnt_month_category_lag_1', 'total_cnt_month_category_lag_2',\n",
       "       'total_cnt_month_category_lag_3', 'total_cnt_month_category_lag_4',\n",
       "       'total_cnt_month_category_lag_5', 'total_cnt_month_category_lag_12'],\n",
       "      dtype='object')"
      ]
     },
     "execution_count": 203,
     "metadata": {},
     "output_type": "execute_result"
    }
   ],
   "source": [
    "X_train.columns"
   ]
  },
  {
   "cell_type": "code",
   "execution_count": 204,
   "id": "05cf1cbc",
   "metadata": {},
   "outputs": [],
   "source": [
    "# Removinh few columns\n",
    "X_train.drop(['date_block_num', 'city_id', 'index'], axis=1, inplace=True)\n",
    "X_val.drop(['date_block_num', 'city_id', 'index'], axis=1, inplace=True)\n",
    "X_test.drop(['date_block_num', 'city_id', 'index'], axis=1, inplace=True)"
   ]
  },
  {
   "cell_type": "code",
   "execution_count": 215,
   "id": "46b4364d",
   "metadata": {},
   "outputs": [
    {
     "data": {
      "text/plain": [
       "array([ 1,  2,  3,  4,  5,  6,  7,  8,  9, 10, 11, 12])"
      ]
     },
     "execution_count": 215,
     "metadata": {},
     "output_type": "execute_result"
    }
   ],
   "source": [
    "X_train.month.unique()"
   ]
  },
  {
   "cell_type": "markdown",
   "id": "8c85cf4d",
   "metadata": {},
   "source": [
    "### Hyper-Parameters Tuning"
   ]
  },
  {
   "cell_type": "code",
   "execution_count": 205,
   "id": "0da4be78",
   "metadata": {},
   "outputs": [
    {
     "data": {
      "text/plain": [
       "[(array([      0,       1,       2, ..., 4808154, 4808155, 4808156]),\n",
       "  array([4808157, 4808158, 4808159, ..., 5054439, 5054440, 5054441])),\n",
       " (array([      0,       1,       2, ..., 5054439, 5054440, 5054441]),\n",
       "  array([5054442, 5054443, 5054444, ..., 5286891, 5286892, 5286893])),\n",
       " (array([      0,       1,       2, ..., 5286891, 5286892, 5286893]),\n",
       "  array([5286894, 5286895, 5286896, ..., 5511007, 5511008, 5511009])),\n",
       " (array([      0,       1,       2, ..., 5511007, 5511008, 5511009]),\n",
       "  array([5511010, 5511011, 5511012, ..., 5739681, 5739682, 5739683])),\n",
       " (array([      0,       1,       2, ..., 5739681, 5739682, 5739683]),\n",
       "  array([5739684, 5739685, 5739686, ..., 5954091, 5954092, 5954093])),\n",
       " (array([      0,       1,       2, ..., 5954091, 5954092, 5954093]),\n",
       "  array([5954094, 5954095, 5954096, ..., 6167577, 6167578, 6167579]))]"
      ]
     },
     "execution_count": 205,
     "metadata": {},
     "output_type": "execute_result"
    }
   ],
   "source": [
    "splits = []\n",
    "for block in [27, 28, 29, 30, 31, 32]:\n",
    "    train_idxs = matrix[matrix.date_block_num < block].index.values\n",
    "    test_idxs = matrix[matrix.date_block_num == block].index.values\n",
    "    splits.append((train_idxs, test_idxs))\n",
    "splits"
   ]
  },
  {
   "cell_type": "code",
   "execution_count": 206,
   "id": "bbe2e391",
   "metadata": {},
   "outputs": [
    {
     "name": "stdout",
     "output_type": "stream",
     "text": [
      "Fitting 6 folds for each of 2 candidates, totalling 12 fits\n",
      "[CV 1/6] END colsample_bytree=0.7, gamma=5, learning_rate=0.3, max_bin=256, max_depth=6, subsample=0.7; total time=  26.4s\n",
      "[CV 2/6] END colsample_bytree=0.7, gamma=5, learning_rate=0.3, max_bin=256, max_depth=6, subsample=0.7; total time=  27.6s\n",
      "[CV 3/6] END colsample_bytree=0.7, gamma=5, learning_rate=0.3, max_bin=256, max_depth=6, subsample=0.7; total time=  28.3s\n",
      "[CV 4/6] END colsample_bytree=0.7, gamma=5, learning_rate=0.3, max_bin=256, max_depth=6, subsample=0.7; total time=  29.8s\n",
      "[CV 5/6] END colsample_bytree=0.7, gamma=5, learning_rate=0.3, max_bin=256, max_depth=6, subsample=0.7; total time=  30.5s\n",
      "[CV 6/6] END colsample_bytree=0.7, gamma=5, learning_rate=0.3, max_bin=256, max_depth=6, subsample=0.7; total time=  31.0s\n",
      "[CV 1/6] END colsample_bytree=0.8, gamma=2, learning_rate=0.3, max_bin=1024, max_depth=8, subsample=0.9; total time=  29.7s\n",
      "[CV 2/6] END colsample_bytree=0.8, gamma=2, learning_rate=0.3, max_bin=1024, max_depth=8, subsample=0.9; total time=  31.1s\n",
      "[CV 3/6] END colsample_bytree=0.8, gamma=2, learning_rate=0.3, max_bin=1024, max_depth=8, subsample=0.9; total time=  32.5s\n",
      "[CV 4/6] END colsample_bytree=0.8, gamma=2, learning_rate=0.3, max_bin=1024, max_depth=8, subsample=0.9; total time=  33.8s\n",
      "[CV 5/6] END colsample_bytree=0.8, gamma=2, learning_rate=0.3, max_bin=1024, max_depth=8, subsample=0.9; total time=  35.3s\n",
      "[CV 6/6] END colsample_bytree=0.8, gamma=2, learning_rate=0.3, max_bin=1024, max_depth=8, subsample=0.9; total time=  37.3s\n",
      "Best parameters: {'subsample': 0.9, 'max_depth': 8, 'max_bin': 1024, 'learning_rate': 0.3, 'gamma': 2, 'colsample_bytree': 0.8}\n",
      "Lowest RMSE:  0.6451552310807384\n"
     ]
    }
   ],
   "source": [
    "from sklearn.model_selection import RandomizedSearchCV\n",
    "from xgboost import XGBRegressor\n",
    "\n",
    "hyper_params = {'max_depth': [3, 4, 5, 6, 7, 8, 9], \n",
    "                'gamma': [0, 0.5, 1, 1.5, 2, 5], \n",
    "                'subsample': [0.6, 0.7, 0.8, 0.9, 1], \n",
    "                'colsample_bytree': [0.5, 0.6, 0.7, 0.8, 0.9, 1], \n",
    "                'learning_rate': [0.01, 0.1, 0.2, 0.3],\n",
    "                'max_bin' : [256, 512, 1024]\n",
    "               }\n",
    "\n",
    "xgbr = XGBRegressor(seed = 13, tree_method = \"hist\") #gpu_hist\n",
    "clf = RandomizedSearchCV(estimator = xgbr, \n",
    "                   param_distributions = hyper_params,\n",
    "                   n_iter = 2, #500\n",
    "                   scoring = 'neg_root_mean_squared_error',\n",
    "                   cv = splits,\n",
    "                   verbose=3)\n",
    "clf.fit(X_train, y_train)\n",
    "\n",
    "print(\"Best parameters:\", clf.best_params_)\n",
    "print(\"Lowest RMSE: \", -clf.best_score_)"
   ]
  },
  {
   "cell_type": "markdown",
   "id": "39105f46",
   "metadata": {},
   "source": [
    "### Model Evaluation, linear regression"
   ]
  },
  {
   "cell_type": "code",
   "execution_count": 216,
   "id": "7d9b8a49",
   "metadata": {},
   "outputs": [
    {
     "name": "stdout",
     "output_type": "stream",
     "text": [
      "Validation RMSE: 0.8507904358733479\n"
     ]
    }
   ],
   "source": [
    "from sklearn.linear_model import LinearRegression\n",
    "from sklearn.metrics import mean_squared_error\n",
    "\n",
    "lr = LinearRegression()\n",
    "lr.fit(X_train, y_train)\n",
    "yhat_val_lr = lr.predict(X_val).clip(0, 20)\n",
    "print('Validation RMSE:', mean_squared_error(y_val, yhat_val_lr, squared=False)) #Validation RMSE: 0.9645168655662343\n",
    "yhat_test_lr = lr.predict(X_test).clip(0, 20)"
   ]
  },
  {
   "cell_type": "markdown",
   "id": "d87afb4f",
   "metadata": {},
   "source": [
    "## XGBoost"
   ]
  },
  {
   "cell_type": "code",
   "execution_count": 208,
   "id": "ae37d149",
   "metadata": {},
   "outputs": [
    {
     "name": "stdout",
     "output_type": "stream",
     "text": [
      "[0]\tvalidation_0-rmse:1.13067\tvalidation_1-rmse:1.09356\n",
      "[1]\tvalidation_0-rmse:1.07036\tvalidation_1-rmse:1.03273\n",
      "[2]\tvalidation_0-rmse:1.01074\tvalidation_1-rmse:0.97798\n",
      "[3]\tvalidation_0-rmse:0.96324\tvalidation_1-rmse:0.93348\n",
      "[4]\tvalidation_0-rmse:0.92341\tvalidation_1-rmse:0.89652\n",
      "[5]\tvalidation_0-rmse:0.88582\tvalidation_1-rmse:0.86284\n",
      "[6]\tvalidation_0-rmse:0.85859\tvalidation_1-rmse:0.83703\n",
      "[7]\tvalidation_0-rmse:0.82838\tvalidation_1-rmse:0.81403\n",
      "[8]\tvalidation_0-rmse:0.80778\tvalidation_1-rmse:0.79823\n",
      "[9]\tvalidation_0-rmse:0.79019\tvalidation_1-rmse:0.78285\n",
      "[10]\tvalidation_0-rmse:0.77638\tvalidation_1-rmse:0.77077\n",
      "[11]\tvalidation_0-rmse:0.76276\tvalidation_1-rmse:0.76040\n",
      "[12]\tvalidation_0-rmse:0.75278\tvalidation_1-rmse:0.75035\n",
      "[13]\tvalidation_0-rmse:0.73819\tvalidation_1-rmse:0.74538\n",
      "[14]\tvalidation_0-rmse:0.73028\tvalidation_1-rmse:0.73991\n",
      "[15]\tvalidation_0-rmse:0.72411\tvalidation_1-rmse:0.73430\n",
      "[16]\tvalidation_0-rmse:0.71598\tvalidation_1-rmse:0.73071\n",
      "[17]\tvalidation_0-rmse:0.71076\tvalidation_1-rmse:0.72802\n",
      "[18]\tvalidation_0-rmse:0.70643\tvalidation_1-rmse:0.72453\n",
      "[19]\tvalidation_0-rmse:0.70169\tvalidation_1-rmse:0.71954\n",
      "[20]\tvalidation_0-rmse:0.69798\tvalidation_1-rmse:0.71744\n",
      "[21]\tvalidation_0-rmse:0.69495\tvalidation_1-rmse:0.71558\n",
      "[22]\tvalidation_0-rmse:0.69227\tvalidation_1-rmse:0.71441\n",
      "[23]\tvalidation_0-rmse:0.68952\tvalidation_1-rmse:0.71392\n",
      "[24]\tvalidation_0-rmse:0.68720\tvalidation_1-rmse:0.71304\n",
      "[25]\tvalidation_0-rmse:0.68489\tvalidation_1-rmse:0.71064\n",
      "[26]\tvalidation_0-rmse:0.68249\tvalidation_1-rmse:0.70912\n",
      "[27]\tvalidation_0-rmse:0.68017\tvalidation_1-rmse:0.70919\n",
      "[28]\tvalidation_0-rmse:0.67787\tvalidation_1-rmse:0.71007\n",
      "[29]\tvalidation_0-rmse:0.67625\tvalidation_1-rmse:0.70790\n",
      "[30]\tvalidation_0-rmse:0.67412\tvalidation_1-rmse:0.70775\n",
      "[31]\tvalidation_0-rmse:0.67285\tvalidation_1-rmse:0.70604\n",
      "[32]\tvalidation_0-rmse:0.67174\tvalidation_1-rmse:0.70575\n",
      "[33]\tvalidation_0-rmse:0.67031\tvalidation_1-rmse:0.70587\n",
      "[34]\tvalidation_0-rmse:0.66879\tvalidation_1-rmse:0.70456\n",
      "[35]\tvalidation_0-rmse:0.66754\tvalidation_1-rmse:0.70396\n",
      "[36]\tvalidation_0-rmse:0.66633\tvalidation_1-rmse:0.70319\n",
      "[37]\tvalidation_0-rmse:0.66526\tvalidation_1-rmse:0.70279\n",
      "[38]\tvalidation_0-rmse:0.66414\tvalidation_1-rmse:0.70224\n",
      "[39]\tvalidation_0-rmse:0.66277\tvalidation_1-rmse:0.70171\n",
      "[40]\tvalidation_0-rmse:0.66197\tvalidation_1-rmse:0.70154\n",
      "[41]\tvalidation_0-rmse:0.66094\tvalidation_1-rmse:0.70229\n",
      "[42]\tvalidation_0-rmse:0.65992\tvalidation_1-rmse:0.70198\n",
      "[43]\tvalidation_0-rmse:0.65919\tvalidation_1-rmse:0.70182\n",
      "[44]\tvalidation_0-rmse:0.65861\tvalidation_1-rmse:0.70175\n",
      "[45]\tvalidation_0-rmse:0.65732\tvalidation_1-rmse:0.70167\n",
      "[46]\tvalidation_0-rmse:0.65615\tvalidation_1-rmse:0.70140\n",
      "[47]\tvalidation_0-rmse:0.65472\tvalidation_1-rmse:0.70187\n",
      "[48]\tvalidation_0-rmse:0.65345\tvalidation_1-rmse:0.70255\n",
      "[49]\tvalidation_0-rmse:0.65272\tvalidation_1-rmse:0.70260\n",
      "[50]\tvalidation_0-rmse:0.65178\tvalidation_1-rmse:0.70279\n",
      "[51]\tvalidation_0-rmse:0.65086\tvalidation_1-rmse:0.70361\n",
      "[52]\tvalidation_0-rmse:0.64996\tvalidation_1-rmse:0.70323\n",
      "[53]\tvalidation_0-rmse:0.64906\tvalidation_1-rmse:0.70347\n",
      "[54]\tvalidation_0-rmse:0.64863\tvalidation_1-rmse:0.70343\n",
      "[55]\tvalidation_0-rmse:0.64783\tvalidation_1-rmse:0.70342\n",
      "[56]\tvalidation_0-rmse:0.64650\tvalidation_1-rmse:0.70354\n",
      "Training took: 23.102553129196167s\n",
      "Valdation RMSE: 0.7014084305768234\n"
     ]
    }
   ],
   "source": [
    "from xgboost import XGBRegressor\n",
    "import time\n",
    "\n",
    "ts = time.time()\n",
    "\n",
    "xgb = XGBRegressor(seed = 13, \n",
    "    tree_method = \"hist\", #gpu_hist\n",
    "    subsample = 0.9,\n",
    "    max_depth = 9,\n",
    "    learning_rate = 0.1,\n",
    "    gamma = 2,\n",
    "    colsample_bytree = 0.9\n",
    "    )\n",
    "xgb.fit(\n",
    "    X_train,y_train,\n",
    "    eval_metric=\"rmse\",\n",
    "    eval_set=[(X_train, y_train), (X_val, y_val)],\n",
    "    verbose=True,\n",
    "    early_stopping_rounds = 10\n",
    "    )\n",
    "print('Training took: {0}s'.format(time.time()-ts))\n",
    "yhat_val_xgb = xgb.predict(X_val).clip(0, 20)\n",
    "print('Valdation RMSE:', mean_squared_error(y_val, yhat_val_xgb, squared=False)) #Valdation RMSE: 0.9273184120626018\n",
    "yhat_test_xgb = xgb.predict(X_test).clip(0, 20)"
   ]
  },
  {
   "cell_type": "code",
   "execution_count": 209,
   "id": "436e1bcc",
   "metadata": {},
   "outputs": [
    {
     "data": {
      "text/plain": [
       "<AxesSubplot:title={'center':'Feature importance'}, xlabel='F score', ylabel='Features'>"
      ]
     },
     "execution_count": 209,
     "metadata": {},
     "output_type": "execute_result"
    },
    {
     "data": {
      "image/png": "[encoded data removed]",
      "text/plain": [
       "<Figure size 720x1008 with 1 Axes>"
      ]
     },
     "metadata": {
      "needs_background": "light"
     },
     "output_type": "display_data"
    }
   ],
   "source": [
    "from xgboost import plot_importance\n",
    "\n",
    "def plot_features(booster, figsize):    \n",
    "    fig, ax = plt.subplots(1,1,figsize=figsize)\n",
    "    return plot_importance(booster=booster, ax=ax)\n",
    "\n",
    "plot_features(xgb, (10,14))"
   ]
  },
  {
   "cell_type": "code",
   "execution_count": 200,
   "id": "d5d5ac3c",
   "metadata": {},
   "outputs": [
    {
     "data": {
      "text/plain": [
       "date_block_num                       int64\n",
       "shop_id                              int64\n",
       "item_id                              int64\n",
       "item_category_id                   float64\n",
       "total_cnt_month                      int64\n",
       "index                              float64\n",
       "city                               float64\n",
       "city_id                            float64\n",
       "shop_category                      float64\n",
       "item_category_type                 float64\n",
       "month                                int64\n",
       "total_cnt_month_lag_1              float64\n",
       "total_cnt_month_lag_2              float64\n",
       "total_cnt_month_lag_3              float64\n",
       "total_cnt_month_lag_4              float64\n",
       "total_cnt_month_lag_5              float64\n",
       "total_cnt_month_lag_12             float64\n",
       "total_cnt_month_item_lag_1         float64\n",
       "total_cnt_month_item_lag_2         float64\n",
       "total_cnt_month_item_lag_3         float64\n",
       "total_cnt_month_item_lag_4         float64\n",
       "total_cnt_month_item_lag_5         float64\n",
       "total_cnt_month_item_lag_12        float64\n",
       "total_cnt_month_shop_lag_1         float64\n",
       "total_cnt_month_shop_lag_2         float64\n",
       "total_cnt_month_shop_lag_3         float64\n",
       "total_cnt_month_shop_lag_4         float64\n",
       "total_cnt_month_shop_lag_5         float64\n",
       "total_cnt_month_shop_lag_12        float64\n",
       "total_cnt_month_category_lag_1     float64\n",
       "total_cnt_month_category_lag_2     float64\n",
       "total_cnt_month_category_lag_3     float64\n",
       "total_cnt_month_category_lag_4     float64\n",
       "total_cnt_month_category_lag_5     float64\n",
       "total_cnt_month_category_lag_12    float64\n",
       "dtype: object"
      ]
     },
     "execution_count": 200,
     "metadata": {},
     "output_type": "execute_result"
    }
   ],
   "source": [
    "matrix.dtypes"
   ]
  },
  {
   "cell_type": "code",
   "execution_count": null,
   "id": "914f98cb",
   "metadata": {},
   "outputs": [],
   "source": []
  },
  {
   "cell_type": "code",
   "execution_count": null,
   "id": "21baf079",
   "metadata": {},
   "outputs": [],
   "source": []
  }
 ],
 "metadata": {
  "kernelspec": {
   "display_name": "Python 3",
   "language": "python",
   "name": "python3"
  },
  "language_info": {
   "codemirror_mode": {
    "name": "ipython",
    "version": 3
   },
   "file_extension": ".py",
   "mimetype": "text/x-python",
   "name": "python",
   "nbconvert_exporter": "python",
   "pygments_lexer": "ipython3",
   "version": "3.8.8"
  }
 },
 "nbformat": 4,
 "nbformat_minor": 5
}
