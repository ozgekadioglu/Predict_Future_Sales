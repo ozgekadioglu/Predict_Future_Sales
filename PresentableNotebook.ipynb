{
 "cells": [
  {
   "cell_type": "markdown",
   "id": "de3ef891-5043-481e-8313-dfdc2abfe08f",
   "metadata": {},
   "source": [
    "<b> Predict Sales  \n",
    "    Data Description: </b>\n",
    "You are provided with daily historical sales data. The task is to forecast the total amount of products sold in every shop for the test set. Note that the list of shops and products slightly changes every month. Creating a robust model that can handle such situations is part of the challenge. Then:\n",
    "\n",
    "1. for the list of shops and products I should then create a data frame that can be extended with the new lists.\n",
    "2. target feature —> total amount of a given product sold in a given shop per month\n",
    "3. item_cnt_day (# of product sold in a given day)\n",
    "Then I should create a column item_cnt_month\n",
    "\n",
    "<b> Features: </b>  \n",
    "ID - an Id that represents a (Shop, Item) tuple within the test set\n",
    "* shop_id - unique identifier of a shop\n",
    "* item_id - unique identifier of a product\n",
    "* item_category_id - unique identifier of item category\n",
    "* item_cnt_day - number of products sold. You are predicting a monthly amount of this measure\n",
    "* item_price - current price of an item\n",
    "* date - date in format dd/mm/yyyy\n",
    "* date_block_num - a consecutive month number, used for convenience. January 2013 is 0, February 2013 is 1,…, October 2015 is 33\n",
    "* item_name - name of item\n",
    "* shop_name - name of shop\n",
    "* item_category_name - name of item category  "
   ]
  },
  {
   "cell_type": "code",
   "execution_count": 37,
   "id": "48f48dad-42bc-45ad-9b28-31c7660504a4",
   "metadata": {},
   "outputs": [],
   "source": [
    "import pandas as pd\n",
    "import numpy as np"
   ]
  },
  {
   "cell_type": "markdown",
   "id": "cd008f6c-fbdc-4ba6-8311-631c3d7f8fca",
   "metadata": {},
   "source": [
    "<h1> 1. Data Exploring </h1>"
   ]
  },
  {
   "cell_type": "markdown",
   "id": "70c771f4-4038-4687-afe3-7f42d0b57248",
   "metadata": {},
   "source": [
    "<h2> Item Categories </h2>"
   ]
  },
  {
   "cell_type": "code",
   "execution_count": 3,
   "id": "a40d94b6-6e8d-4e8b-a50a-807101b2f655",
   "metadata": {},
   "outputs": [
    {
     "data": {
      "text/plain": [
       "Подарки - Атрибутика                        1\n",
       "Кино - Blu-Ray                              1\n",
       "Игровые консоли - PS2                       1\n",
       "Музыка - CD фирменного производства         1\n",
       "Подарки - Сумки, Альбомы, Коврики д/мыши    1\n",
       "                                           ..\n",
       "Доставка товара                             1\n",
       "Книги - Путеводители                        1\n",
       "Карты оплаты - PSN                          1\n",
       "Книги - Артбуки, энциклопедии               1\n",
       "Служебные                                   1\n",
       "Name: item_category_name, Length: 84, dtype: int64"
      ]
     },
     "execution_count": 3,
     "metadata": {},
     "output_type": "execute_result"
    }
   ],
   "source": [
    "item_categories = pd.read_csv('Data/item_categories.csv')\n",
    "#item_categories.head()\n",
    "item_categories['item_category_name'].value_counts()"
   ]
  },
  {
   "cell_type": "markdown",
   "id": "ef11ab9b-6c1c-4b0c-aad3-e4deab15118d",
   "metadata": {},
   "source": [
    "* There are 84 item categories."
   ]
  },
  {
   "cell_type": "markdown",
   "id": "3294ef9d-7ee7-47a3-885b-ef444cc42e20",
   "metadata": {},
   "source": [
    "<h2> Item List </h2>"
   ]
  },
  {
   "cell_type": "code",
   "execution_count": 4,
   "id": "6fa3877f-8fce-41d4-bbf3-857c3d614178",
   "metadata": {},
   "outputs": [
    {
     "data": {
      "text/html": [
       "<div>\n",
       "<style scoped>\n",
       "    .dataframe tbody tr th:only-of-type {\n",
       "        vertical-align: middle;\n",
       "    }\n",
       "\n",
       "    .dataframe tbody tr th {\n",
       "        vertical-align: top;\n",
       "    }\n",
       "\n",
       "    .dataframe thead th {\n",
       "        text-align: right;\n",
       "    }\n",
       "</style>\n",
       "<table border=\"1\" class=\"dataframe\">\n",
       "  <thead>\n",
       "    <tr style=\"text-align: right;\">\n",
       "      <th></th>\n",
       "      <th>item_name</th>\n",
       "      <th>item_id</th>\n",
       "      <th>item_category_id</th>\n",
       "    </tr>\n",
       "  </thead>\n",
       "  <tbody>\n",
       "    <tr>\n",
       "      <th>0</th>\n",
       "      <td>! ВО ВЛАСТИ НАВАЖДЕНИЯ (ПЛАСТ.)         D</td>\n",
       "      <td>0</td>\n",
       "      <td>40</td>\n",
       "    </tr>\n",
       "    <tr>\n",
       "      <th>1</th>\n",
       "      <td>!ABBYY FineReader 12 Professional Edition Full...</td>\n",
       "      <td>1</td>\n",
       "      <td>76</td>\n",
       "    </tr>\n",
       "    <tr>\n",
       "      <th>2</th>\n",
       "      <td>***В ЛУЧАХ СЛАВЫ   (UNV)                    D</td>\n",
       "      <td>2</td>\n",
       "      <td>40</td>\n",
       "    </tr>\n",
       "    <tr>\n",
       "      <th>3</th>\n",
       "      <td>***ГОЛУБАЯ ВОЛНА  (Univ)                      D</td>\n",
       "      <td>3</td>\n",
       "      <td>40</td>\n",
       "    </tr>\n",
       "    <tr>\n",
       "      <th>4</th>\n",
       "      <td>***КОРОБКА (СТЕКЛО)                       D</td>\n",
       "      <td>4</td>\n",
       "      <td>40</td>\n",
       "    </tr>\n",
       "  </tbody>\n",
       "</table>\n",
       "</div>"
      ],
      "text/plain": [
       "                                           item_name  item_id  \\\n",
       "0          ! ВО ВЛАСТИ НАВАЖДЕНИЯ (ПЛАСТ.)         D        0   \n",
       "1  !ABBYY FineReader 12 Professional Edition Full...        1   \n",
       "2      ***В ЛУЧАХ СЛАВЫ   (UNV)                    D        2   \n",
       "3    ***ГОЛУБАЯ ВОЛНА  (Univ)                      D        3   \n",
       "4        ***КОРОБКА (СТЕКЛО)                       D        4   \n",
       "\n",
       "   item_category_id  \n",
       "0                40  \n",
       "1                76  \n",
       "2                40  \n",
       "3                40  \n",
       "4                40  "
      ]
     },
     "execution_count": 4,
     "metadata": {},
     "output_type": "execute_result"
    }
   ],
   "source": [
    "item_list = pd.read_csv('Data/items.csv')\n",
    "item_list.head()"
   ]
  },
  {
   "cell_type": "code",
   "execution_count": 5,
   "id": "3d363030-079f-46ac-840f-b85f9d40660b",
   "metadata": {},
   "outputs": [
    {
     "data": {
      "text/plain": [
       "(22170,)"
      ]
     },
     "execution_count": 5,
     "metadata": {},
     "output_type": "execute_result"
    }
   ],
   "source": [
    "item_list['item_id'].shape "
   ]
  },
  {
   "cell_type": "code",
   "execution_count": 6,
   "id": "129d6dcb-7fb4-4fd6-b30e-bb149dc75c1a",
   "metadata": {},
   "outputs": [
    {
     "data": {
      "text/plain": [
       "array([[<AxesSubplot:title={'center':'item_id'}>,\n",
       "        <AxesSubplot:title={'center':'item_category_id'}>]], dtype=object)"
      ]
     },
     "execution_count": 6,
     "metadata": {},
     "output_type": "execute_result"
    },
    {
     "data": {
      "image/png": "[encoded data removed]",
      "text/plain": [
       "<Figure size 1440x360 with 2 Axes>"
      ]
     },
     "metadata": {
      "needs_background": "light"
     },
     "output_type": "display_data"
    }
   ],
   "source": [
    "item_list.hist(figsize=(20,5), bins=60)"
   ]
  },
  {
   "cell_type": "markdown",
   "id": "2e758c40-f956-4f43-9162-ff78851f9526",
   "metadata": {},
   "source": [
    "item_list['item_category_id'].value_counts()"
   ]
  },
  {
   "cell_type": "markdown",
   "id": "83678128-db71-44eb-99b7-826ff6324ba0",
   "metadata": {},
   "source": [
    "* There are 22170 different items in the store and the features of them --> item_id, item_category_id\n",
    "* Most of the items belong to item_category #40 which is \"Кино - DVD\""
   ]
  },
  {
   "cell_type": "code",
   "execution_count": 7,
   "id": "e345cddf-f881-4cd2-bdb4-1c54f0afd881",
   "metadata": {},
   "outputs": [
    {
     "data": {
      "text/plain": [
       "item_name           object\n",
       "item_id              int64\n",
       "item_category_id     int64\n",
       "dtype: object"
      ]
     },
     "execution_count": 7,
     "metadata": {},
     "output_type": "execute_result"
    }
   ],
   "source": [
    "#item_list['item_category_id'].isna().sum()\n",
    "item_list.dtypes"
   ]
  },
  {
   "cell_type": "markdown",
   "id": "d4baedf2-a1af-4f21-8b0f-6dfb6aa4f759",
   "metadata": {},
   "source": [
    "<h2> Shops </h2>"
   ]
  },
  {
   "cell_type": "code",
   "execution_count": 8,
   "id": "bb39e43d-c66e-4539-b6b5-bc4f98429eb2",
   "metadata": {},
   "outputs": [
    {
     "data": {
      "text/plain": [
       "(60, 2)"
      ]
     },
     "execution_count": 8,
     "metadata": {},
     "output_type": "execute_result"
    }
   ],
   "source": [
    "shops = pd.read_csv('Data/shops.csv')\n",
    "shops.shape"
   ]
  },
  {
   "cell_type": "markdown",
   "id": "fb3583ff-4f5c-4a79-833f-56d573c797d4",
   "metadata": {},
   "source": [
    "* There are 60 shops and their IDs are listed."
   ]
  },
  {
   "cell_type": "markdown",
   "id": "28ac9773-c52b-43e2-8279-42faf05df69d",
   "metadata": {},
   "source": [
    "<h2> Sample Submission </h2>"
   ]
  },
  {
   "cell_type": "markdown",
   "id": "f9adc267-940f-49e4-9f13-714ba2a9ef90",
   "metadata": {},
   "source": [
    "A sample submission file in the correct format."
   ]
  },
  {
   "cell_type": "code",
   "execution_count": 9,
   "id": "bd9fc9c0-c735-49b1-a016-2c952ea48827",
   "metadata": {},
   "outputs": [
    {
     "data": {
      "text/html": [
       "<div>\n",
       "<style scoped>\n",
       "    .dataframe tbody tr th:only-of-type {\n",
       "        vertical-align: middle;\n",
       "    }\n",
       "\n",
       "    .dataframe tbody tr th {\n",
       "        vertical-align: top;\n",
       "    }\n",
       "\n",
       "    .dataframe thead th {\n",
       "        text-align: right;\n",
       "    }\n",
       "</style>\n",
       "<table border=\"1\" class=\"dataframe\">\n",
       "  <thead>\n",
       "    <tr style=\"text-align: right;\">\n",
       "      <th></th>\n",
       "      <th>ID</th>\n",
       "      <th>item_cnt_month</th>\n",
       "    </tr>\n",
       "  </thead>\n",
       "  <tbody>\n",
       "    <tr>\n",
       "      <th>0</th>\n",
       "      <td>0</td>\n",
       "      <td>0.5</td>\n",
       "    </tr>\n",
       "    <tr>\n",
       "      <th>1</th>\n",
       "      <td>1</td>\n",
       "      <td>0.5</td>\n",
       "    </tr>\n",
       "    <tr>\n",
       "      <th>2</th>\n",
       "      <td>2</td>\n",
       "      <td>0.5</td>\n",
       "    </tr>\n",
       "    <tr>\n",
       "      <th>3</th>\n",
       "      <td>3</td>\n",
       "      <td>0.5</td>\n",
       "    </tr>\n",
       "    <tr>\n",
       "      <th>4</th>\n",
       "      <td>4</td>\n",
       "      <td>0.5</td>\n",
       "    </tr>\n",
       "    <tr>\n",
       "      <th>...</th>\n",
       "      <td>...</td>\n",
       "      <td>...</td>\n",
       "    </tr>\n",
       "    <tr>\n",
       "      <th>214195</th>\n",
       "      <td>214195</td>\n",
       "      <td>0.5</td>\n",
       "    </tr>\n",
       "    <tr>\n",
       "      <th>214196</th>\n",
       "      <td>214196</td>\n",
       "      <td>0.5</td>\n",
       "    </tr>\n",
       "    <tr>\n",
       "      <th>214197</th>\n",
       "      <td>214197</td>\n",
       "      <td>0.5</td>\n",
       "    </tr>\n",
       "    <tr>\n",
       "      <th>214198</th>\n",
       "      <td>214198</td>\n",
       "      <td>0.5</td>\n",
       "    </tr>\n",
       "    <tr>\n",
       "      <th>214199</th>\n",
       "      <td>214199</td>\n",
       "      <td>0.5</td>\n",
       "    </tr>\n",
       "  </tbody>\n",
       "</table>\n",
       "<p>214200 rows × 2 columns</p>\n",
       "</div>"
      ],
      "text/plain": [
       "            ID  item_cnt_month\n",
       "0            0             0.5\n",
       "1            1             0.5\n",
       "2            2             0.5\n",
       "3            3             0.5\n",
       "4            4             0.5\n",
       "...        ...             ...\n",
       "214195  214195             0.5\n",
       "214196  214196             0.5\n",
       "214197  214197             0.5\n",
       "214198  214198             0.5\n",
       "214199  214199             0.5\n",
       "\n",
       "[214200 rows x 2 columns]"
      ]
     },
     "execution_count": 9,
     "metadata": {},
     "output_type": "execute_result"
    }
   ],
   "source": [
    "pd.read_csv('Data/sample_submission.csv')"
   ]
  },
  {
   "cell_type": "markdown",
   "id": "f731197c-0452-4897-8214-d903a0ee37af",
   "metadata": {},
   "source": [
    "<h2> sales_train.csv </h2>"
   ]
  },
  {
   "cell_type": "markdown",
   "id": "fd973231-3bb9-45d5-a8c4-bfd9ac4754b9",
   "metadata": {},
   "source": [
    "The training set. Daily historical data from January 2013 to October 2015."
   ]
  },
  {
   "cell_type": "code",
   "execution_count": 10,
   "id": "3a851182-8242-48b8-9d54-a5cf430b1a9e",
   "metadata": {},
   "outputs": [
    {
     "data": {
      "text/html": [
       "<div>\n",
       "<style scoped>\n",
       "    .dataframe tbody tr th:only-of-type {\n",
       "        vertical-align: middle;\n",
       "    }\n",
       "\n",
       "    .dataframe tbody tr th {\n",
       "        vertical-align: top;\n",
       "    }\n",
       "\n",
       "    .dataframe thead th {\n",
       "        text-align: right;\n",
       "    }\n",
       "</style>\n",
       "<table border=\"1\" class=\"dataframe\">\n",
       "  <thead>\n",
       "    <tr style=\"text-align: right;\">\n",
       "      <th></th>\n",
       "      <th>date</th>\n",
       "      <th>date_block_num</th>\n",
       "      <th>shop_id</th>\n",
       "      <th>item_id</th>\n",
       "      <th>item_price</th>\n",
       "      <th>item_cnt_day</th>\n",
       "    </tr>\n",
       "  </thead>\n",
       "  <tbody>\n",
       "    <tr>\n",
       "      <th>0</th>\n",
       "      <td>02.01.2013</td>\n",
       "      <td>0</td>\n",
       "      <td>59</td>\n",
       "      <td>22154</td>\n",
       "      <td>999.00</td>\n",
       "      <td>1.0</td>\n",
       "    </tr>\n",
       "    <tr>\n",
       "      <th>1</th>\n",
       "      <td>03.01.2013</td>\n",
       "      <td>0</td>\n",
       "      <td>25</td>\n",
       "      <td>2552</td>\n",
       "      <td>899.00</td>\n",
       "      <td>1.0</td>\n",
       "    </tr>\n",
       "    <tr>\n",
       "      <th>2</th>\n",
       "      <td>05.01.2013</td>\n",
       "      <td>0</td>\n",
       "      <td>25</td>\n",
       "      <td>2552</td>\n",
       "      <td>899.00</td>\n",
       "      <td>-1.0</td>\n",
       "    </tr>\n",
       "    <tr>\n",
       "      <th>3</th>\n",
       "      <td>06.01.2013</td>\n",
       "      <td>0</td>\n",
       "      <td>25</td>\n",
       "      <td>2554</td>\n",
       "      <td>1709.05</td>\n",
       "      <td>1.0</td>\n",
       "    </tr>\n",
       "    <tr>\n",
       "      <th>4</th>\n",
       "      <td>15.01.2013</td>\n",
       "      <td>0</td>\n",
       "      <td>25</td>\n",
       "      <td>2555</td>\n",
       "      <td>1099.00</td>\n",
       "      <td>1.0</td>\n",
       "    </tr>\n",
       "  </tbody>\n",
       "</table>\n",
       "</div>"
      ],
      "text/plain": [
       "         date  date_block_num  shop_id  item_id  item_price  item_cnt_day\n",
       "0  02.01.2013               0       59    22154      999.00           1.0\n",
       "1  03.01.2013               0       25     2552      899.00           1.0\n",
       "2  05.01.2013               0       25     2552      899.00          -1.0\n",
       "3  06.01.2013               0       25     2554     1709.05           1.0\n",
       "4  15.01.2013               0       25     2555     1099.00           1.0"
      ]
     },
     "execution_count": 10,
     "metadata": {},
     "output_type": "execute_result"
    }
   ],
   "source": [
    "sales_train = pd.read_csv('Data/sales_train.csv')\n",
    "sales_train.head()"
   ]
  },
  {
   "cell_type": "code",
   "execution_count": 11,
   "id": "8c82c345-d3de-44ca-8944-ae8924682e89",
   "metadata": {},
   "outputs": [
    {
     "data": {
      "text/plain": [
       "date               object\n",
       "date_block_num      int64\n",
       "shop_id             int64\n",
       "item_id             int64\n",
       "item_price        float64\n",
       "item_cnt_day      float64\n",
       "dtype: object"
      ]
     },
     "execution_count": 11,
     "metadata": {},
     "output_type": "execute_result"
    }
   ],
   "source": [
    "sales_train.dtypes"
   ]
  },
  {
   "cell_type": "markdown",
   "id": "cf9c2368-03a1-48c2-aa91-e68b949a7e82",
   "metadata": {},
   "source": [
    "We should convert the types from object to date_time."
   ]
  },
  {
   "cell_type": "code",
   "execution_count": 12,
   "id": "2fac6313-20e9-4f4a-ba9a-12917cbc8896",
   "metadata": {},
   "outputs": [
    {
     "data": {
      "text/plain": [
       "array([[<AxesSubplot:title={'center':'date_block_num'}>,\n",
       "        <AxesSubplot:title={'center':'shop_id'}>],\n",
       "       [<AxesSubplot:title={'center':'item_id'}>,\n",
       "        <AxesSubplot:title={'center':'item_price'}>],\n",
       "       [<AxesSubplot:title={'center':'item_cnt_day'}>, <AxesSubplot:>]],\n",
       "      dtype=object)"
      ]
     },
     "execution_count": 12,
     "metadata": {},
     "output_type": "execute_result"
    },
    {
     "data": {
      "image/png": "[encoded data removed]",
      "text/plain": [
       "<Figure size 1440x720 with 6 Axes>"
      ]
     },
     "metadata": {
      "needs_background": "light"
     },
     "output_type": "display_data"
    }
   ],
   "source": [
    "sales_train.hist(figsize=(20,10), bins=60)"
   ]
  },
  {
   "cell_type": "code",
   "execution_count": 13,
   "id": "383903ca-b0f1-4f5c-b539-d71cd1eddc9a",
   "metadata": {},
   "outputs": [
    {
     "data": {
      "text/plain": [
       "<AxesSubplot:xlabel='index', ylabel='item_price'>"
      ]
     },
     "execution_count": 13,
     "metadata": {},
     "output_type": "execute_result"
    },
    {
     "data": {
      "image/png": "[encoded data removed]",
      "text/plain": [
       "<Figure size 720x360 with 1 Axes>"
      ]
     },
     "metadata": {
      "needs_background": "light"
     },
     "output_type": "display_data"
    }
   ],
   "source": [
    "sales_train[sales_train['item_price']<0].reset_index().plot(kind='scatter', y='item_price', x='index', figsize=(10,5))"
   ]
  },
  {
   "cell_type": "markdown",
   "id": "9bd25c1d-ef32-44c8-8d3c-8772c9a12774",
   "metadata": {},
   "source": [
    "* There is an item with negative price. We should remove it."
   ]
  },
  {
   "cell_type": "code",
   "execution_count": 14,
   "id": "c6ef27a3-7f77-427f-93c5-804cee060480",
   "metadata": {},
   "outputs": [
    {
     "data": {
      "text/plain": [
       "<AxesSubplot:xlabel='index', ylabel='item_price'>"
      ]
     },
     "execution_count": 14,
     "metadata": {},
     "output_type": "execute_result"
    },
    {
     "data": {
      "image/png": "[encoded data removed]",
      "text/plain": [
       "<Figure size 720x360 with 1 Axes>"
      ]
     },
     "metadata": {
      "needs_background": "light"
     },
     "output_type": "display_data"
    }
   ],
   "source": [
    "sales_train[(sales_train['item_price']>5000)].reset_index().plot(kind='scatter', y='item_price', x='index', figsize=(10,5))"
   ]
  },
  {
   "cell_type": "code",
   "execution_count": 36,
   "id": "c563dbf8-681d-445a-8d0a-ade4e4175339",
   "metadata": {},
   "outputs": [
    {
     "data": {
      "text/plain": [
       "date        date_block_num  shop_id  item_id  item_price  item_cnt_day\n",
       "01.01.2013  0               18       6724     299.5       -1.0            1\n",
       "20.10.2013  9               43       7802     299.0       -1.0            1\n",
       "                                     3336     2499.0      -1.0            1\n",
       "                                     3331     1199.0      -1.0            1\n",
       "                            31       9186     299.0       -1.0            1\n",
       "                                                                         ..\n",
       "10.04.2013  3               32       3476     1199.0      -1.0            1\n",
       "                            26       485      300.0       -1.0            1\n",
       "                            22       7815     4152.0      -1.0            1\n",
       "                                     5380     2966.0      -1.0            1\n",
       "31.12.2014  23              54       1865     2999.0      -1.0            1\n",
       "Length: 7356, dtype: int64"
      ]
     },
     "execution_count": 36,
     "metadata": {},
     "output_type": "execute_result"
    }
   ],
   "source": [
    "sales_train[sales_train['item_cnt_day']<0].value_counts()"
   ]
  },
  {
   "cell_type": "markdown",
   "id": "f1c3265c-0ad9-42d7-ab44-93fe9b4f51e4",
   "metadata": {},
   "source": [
    "* There are negative item_cnt_day (# of product counts cannot be negative. However, could -1 mean product return? )"
   ]
  },
  {
   "cell_type": "markdown",
   "id": "91a3894e-2516-486b-8149-2f922c933199",
   "metadata": {},
   "source": [
    "* What is the currency? Do these number make sense? Which products cost the mosts?"
   ]
  },
  {
   "cell_type": "code",
   "execution_count": 15,
   "id": "9b461681-5ce5-480d-9411-f6ac9be121f2",
   "metadata": {},
   "outputs": [],
   "source": [
    "sales_train_sorted_on_price = sales_train.sort_values('item_price', ascending=False)"
   ]
  },
  {
   "cell_type": "code",
   "execution_count": 16,
   "id": "97ee5585-fe3f-42eb-ae04-e4354d3302aa",
   "metadata": {},
   "outputs": [
    {
     "name": "stdout",
     "output_type": "stream",
     "text": [
      "                 item_name  item_id  item_category_id\n",
      "6066  Radmin 3  - 522 лиц.     6066                75\n",
      "              shop_name  shop_id\n",
      "12  Интернет-магазин ЧС       12\n",
      "               date  date_block_num  shop_id  item_id  item_price  \\\n",
      "1163158  13.12.2013              11       12     6066    307980.0   \n",
      "\n",
      "         item_cnt_day  \n",
      "1163158           1.0  \n"
     ]
    }
   ],
   "source": [
    "sales_train_sorted_on_price.head()\n",
    "#item_id= 6066 in shop_id=12 costs the most. it is \n",
    "\n",
    "print(item_list[item_list['item_id']==6066])\n",
    "print(shops[shops['shop_id']==12])\n",
    "print(sales_train[sales_train['item_id']==6066]) "
   ]
  },
  {
   "cell_type": "markdown",
   "id": "da462931-251b-413e-9646-437f043c97b5",
   "metadata": {},
   "source": [
    "I googled it and saw that Radmin 3  - 522 лиц is a remote control software.20 dollars  \n",
    "Only one shop sells this product. \n",
    "307980 russian ruble is 4381.04 USD in October 2021. Thus, the price listed for this product may be unreal. Considering that we do not have any other sample for this product, we may thinking about removing this item from the list. However, I will keep for now."
   ]
  },
  {
   "cell_type": "code",
   "execution_count": 17,
   "id": "c5a73e92-ed4c-4cf9-9c89-de61fcf3a63c",
   "metadata": {},
   "outputs": [
    {
     "data": {
      "text/plain": [
       "20949    31340\n",
       "5822      9408\n",
       "17717     9067\n",
       "2808      7479\n",
       "4181      6853\n",
       "         ...  \n",
       "361          1\n",
       "3589         1\n",
       "18784        1\n",
       "360          1\n",
       "0            1\n",
       "Name: item_id, Length: 21807, dtype: int64"
      ]
     },
     "execution_count": 17,
     "metadata": {},
     "output_type": "execute_result"
    }
   ],
   "source": [
    "sales_train['item_id'].value_counts()"
   ]
  },
  {
   "cell_type": "markdown",
   "id": "c0b1978e-bb90-4969-a49d-aa03049f4cd2",
   "metadata": {},
   "source": [
    "There were 22k item types sold. However, there are 21k of them in the training set."
   ]
  },
  {
   "cell_type": "code",
   "execution_count": 18,
   "id": "271e9990-26ee-4038-84db-62a4b9d9430b",
   "metadata": {},
   "outputs": [
    {
     "data": {
      "text/plain": [
       "(60,)"
      ]
     },
     "execution_count": 18,
     "metadata": {},
     "output_type": "execute_result"
    }
   ],
   "source": [
    "sales_train['shop_id'].value_counts().shape"
   ]
  },
  {
   "cell_type": "markdown",
   "id": "48f7a0e8-9492-41f4-8d7f-cb47426c9f34",
   "metadata": {},
   "source": [
    "All item categories are represented in the training set."
   ]
  },
  {
   "cell_type": "code",
   "execution_count": 19,
   "id": "1b4fbaee-02a1-4a00-8d0b-d68b49b8b1a7",
   "metadata": {},
   "outputs": [
    {
     "data": {
      "text/plain": [
       "<AxesSubplot:xlabel='index', ylabel='item_cnt_day'>"
      ]
     },
     "execution_count": 19,
     "metadata": {},
     "output_type": "execute_result"
    },
    {
     "data": {
      "image/png": "[encoded data removed]",
      "text/plain": [
       "<Figure size 720x360 with 1 Axes>"
      ]
     },
     "metadata": {
      "needs_background": "light"
     },
     "output_type": "display_data"
    }
   ],
   "source": [
    "sales_train[sales_train['item_cnt_day']<0].reset_index().plot(kind='scatter', y='item_cnt_day', x='index', figsize=(10,5))"
   ]
  },
  {
   "cell_type": "markdown",
   "id": "a8fc0158-fe23-4ca5-b539-e3d756a04c27",
   "metadata": {},
   "source": [
    "<h2> test.csv </h2>"
   ]
  },
  {
   "cell_type": "markdown",
   "id": "fded757d-aa05-4643-a736-edb93e66b0fe",
   "metadata": {},
   "source": [
    "The test set. You need to forecast the sales for these shops and products for November 2015."
   ]
  },
  {
   "cell_type": "code",
   "execution_count": 20,
   "id": "31930bc7-f014-437e-a112-369453229385",
   "metadata": {},
   "outputs": [
    {
     "data": {
      "text/plain": [
       "(214200, 3)"
      ]
     },
     "execution_count": 20,
     "metadata": {},
     "output_type": "execute_result"
    }
   ],
   "source": [
    "test_set = pd.read_csv('Data/test.csv')\n",
    "test_set.head()\n",
    "test_set.shape"
   ]
  },
  {
   "cell_type": "code",
   "execution_count": 21,
   "id": "3db6e517-8926-416a-818e-ff509499261c",
   "metadata": {},
   "outputs": [
    {
     "data": {
      "text/html": [
       "<div>\n",
       "<style scoped>\n",
       "    .dataframe tbody tr th:only-of-type {\n",
       "        vertical-align: middle;\n",
       "    }\n",
       "\n",
       "    .dataframe tbody tr th {\n",
       "        vertical-align: top;\n",
       "    }\n",
       "\n",
       "    .dataframe thead th {\n",
       "        text-align: right;\n",
       "    }\n",
       "</style>\n",
       "<table border=\"1\" class=\"dataframe\">\n",
       "  <thead>\n",
       "    <tr style=\"text-align: right;\">\n",
       "      <th></th>\n",
       "      <th>ID</th>\n",
       "      <th>shop_id</th>\n",
       "      <th>item_id</th>\n",
       "    </tr>\n",
       "  </thead>\n",
       "  <tbody>\n",
       "    <tr>\n",
       "      <th>0</th>\n",
       "      <td>0</td>\n",
       "      <td>5</td>\n",
       "      <td>5037</td>\n",
       "    </tr>\n",
       "    <tr>\n",
       "      <th>1</th>\n",
       "      <td>1</td>\n",
       "      <td>5</td>\n",
       "      <td>5320</td>\n",
       "    </tr>\n",
       "    <tr>\n",
       "      <th>2</th>\n",
       "      <td>2</td>\n",
       "      <td>5</td>\n",
       "      <td>5233</td>\n",
       "    </tr>\n",
       "    <tr>\n",
       "      <th>3</th>\n",
       "      <td>3</td>\n",
       "      <td>5</td>\n",
       "      <td>5232</td>\n",
       "    </tr>\n",
       "    <tr>\n",
       "      <th>4</th>\n",
       "      <td>4</td>\n",
       "      <td>5</td>\n",
       "      <td>5268</td>\n",
       "    </tr>\n",
       "  </tbody>\n",
       "</table>\n",
       "</div>"
      ],
      "text/plain": [
       "   ID  shop_id  item_id\n",
       "0   0        5     5037\n",
       "1   1        5     5320\n",
       "2   2        5     5233\n",
       "3   3        5     5232\n",
       "4   4        5     5268"
      ]
     },
     "execution_count": 21,
     "metadata": {},
     "output_type": "execute_result"
    }
   ],
   "source": [
    "test_set.head()"
   ]
  },
  {
   "cell_type": "code",
   "execution_count": 22,
   "id": "c4000289-8a8c-4b53-96eb-d1c070e4318e",
   "metadata": {},
   "outputs": [
    {
     "data": {
      "text/plain": [
       "ID         0\n",
       "shop_id    0\n",
       "item_id    0\n",
       "dtype: int64"
      ]
     },
     "execution_count": 22,
     "metadata": {},
     "output_type": "execute_result"
    }
   ],
   "source": [
    "test_set.isna().sum()"
   ]
  },
  {
   "cell_type": "code",
   "execution_count": 23,
   "id": "78adb281-0f59-48ce-bcf8-f80bcaea7e3d",
   "metadata": {},
   "outputs": [
    {
     "data": {
      "text/plain": [
       "ID         int64\n",
       "shop_id    int64\n",
       "item_id    int64\n",
       "dtype: object"
      ]
     },
     "execution_count": 23,
     "metadata": {},
     "output_type": "execute_result"
    }
   ],
   "source": [
    "test_set.dtypes"
   ]
  },
  {
   "cell_type": "code",
   "execution_count": 24,
   "id": "c41be017-d06f-4fe0-8a69-26611a1c9170",
   "metadata": {},
   "outputs": [
    {
     "data": {
      "text/plain": [
       "42"
      ]
     },
     "execution_count": 24,
     "metadata": {},
     "output_type": "execute_result"
    }
   ],
   "source": [
    "len(test_set['shop_id'].value_counts())"
   ]
  },
  {
   "cell_type": "markdown",
   "id": "3b05c964-7410-4c71-8670-633a26e3968a",
   "metadata": {},
   "source": [
    "Only 42/60 shops are represented in the test set."
   ]
  },
  {
   "cell_type": "code",
   "execution_count": 25,
   "id": "d6e39ccf-44ec-484f-8c71-7eddd27a4f3b",
   "metadata": {},
   "outputs": [
    {
     "data": {
      "text/plain": [
       "2049     42\n",
       "6743     42\n",
       "13266    42\n",
       "21342    42\n",
       "17244    42\n",
       "         ..\n",
       "7338     42\n",
       "1193     42\n",
       "3240     42\n",
       "13359    42\n",
       "2047     42\n",
       "Name: item_id, Length: 5100, dtype: int64"
      ]
     },
     "execution_count": 25,
     "metadata": {},
     "output_type": "execute_result"
    }
   ],
   "source": [
    "test_set['item_id'].value_counts()"
   ]
  },
  {
   "cell_type": "markdown",
   "id": "0ac712ba-4b48-465d-b299-a815457ee296",
   "metadata": {},
   "source": [
    "Each item type appears 42 times in the test_data. 5100/22170 item types are represented in the test set."
   ]
  },
  {
   "cell_type": "markdown",
   "id": "d2c493b5-01cb-4fe0-a268-fe59a5f8aa5e",
   "metadata": {},
   "source": [
    "<h1> 2. Data Preparation </h1>"
   ]
  },
  {
   "cell_type": "code",
   "execution_count": 26,
   "id": "cf2a6eb3-f498-4190-95d3-31ae5e406e9a",
   "metadata": {},
   "outputs": [],
   "source": [
    "sales_train_prepared = sales_train.copy()"
   ]
  },
  {
   "cell_type": "code",
   "execution_count": 27,
   "id": "758a3453-e72a-41ff-ae6a-3df9d950117a",
   "metadata": {},
   "outputs": [],
   "source": [
    "sales_train_prepared['date'] = pd.to_datetime(sales_train_prepared['date'])\n",
    "sales_train_prepared['salesYear'] = sales_train_prepared['date'].dt.year\n",
    "sales_train_prepared['salesMonth'] = sales_train_prepared['date'].dt.month\n",
    "sales_train_prepared['salesDay'] = sales_train_prepared['date'].dt.day\n",
    "sales_train_prepared['salesDate'] = sales_train_prepared['date'].dt.date"
   ]
  },
  {
   "cell_type": "code",
   "execution_count": 30,
   "id": "fc667674-5c79-4332-b634-10655f375d1f",
   "metadata": {},
   "outputs": [
    {
     "data": {
      "text/html": [
       "<div>\n",
       "<style scoped>\n",
       "    .dataframe tbody tr th:only-of-type {\n",
       "        vertical-align: middle;\n",
       "    }\n",
       "\n",
       "    .dataframe tbody tr th {\n",
       "        vertical-align: top;\n",
       "    }\n",
       "\n",
       "    .dataframe thead th {\n",
       "        text-align: right;\n",
       "    }\n",
       "</style>\n",
       "<table border=\"1\" class=\"dataframe\">\n",
       "  <thead>\n",
       "    <tr style=\"text-align: right;\">\n",
       "      <th></th>\n",
       "      <th>date</th>\n",
       "      <th>date_block_num</th>\n",
       "      <th>shop_id</th>\n",
       "      <th>item_id</th>\n",
       "      <th>item_price</th>\n",
       "      <th>item_cnt_day</th>\n",
       "      <th>salesYear</th>\n",
       "      <th>salesMonth</th>\n",
       "      <th>salesDay</th>\n",
       "      <th>salesDate</th>\n",
       "    </tr>\n",
       "  </thead>\n",
       "  <tbody>\n",
       "    <tr>\n",
       "      <th>0</th>\n",
       "      <td>2013-02-01</td>\n",
       "      <td>0</td>\n",
       "      <td>59</td>\n",
       "      <td>22154</td>\n",
       "      <td>999.00</td>\n",
       "      <td>1.0</td>\n",
       "      <td>2013</td>\n",
       "      <td>2</td>\n",
       "      <td>1</td>\n",
       "      <td>2013-02-01</td>\n",
       "    </tr>\n",
       "    <tr>\n",
       "      <th>1</th>\n",
       "      <td>2013-03-01</td>\n",
       "      <td>0</td>\n",
       "      <td>25</td>\n",
       "      <td>2552</td>\n",
       "      <td>899.00</td>\n",
       "      <td>1.0</td>\n",
       "      <td>2013</td>\n",
       "      <td>3</td>\n",
       "      <td>1</td>\n",
       "      <td>2013-03-01</td>\n",
       "    </tr>\n",
       "    <tr>\n",
       "      <th>2</th>\n",
       "      <td>2013-05-01</td>\n",
       "      <td>0</td>\n",
       "      <td>25</td>\n",
       "      <td>2552</td>\n",
       "      <td>899.00</td>\n",
       "      <td>-1.0</td>\n",
       "      <td>2013</td>\n",
       "      <td>5</td>\n",
       "      <td>1</td>\n",
       "      <td>2013-05-01</td>\n",
       "    </tr>\n",
       "    <tr>\n",
       "      <th>3</th>\n",
       "      <td>2013-06-01</td>\n",
       "      <td>0</td>\n",
       "      <td>25</td>\n",
       "      <td>2554</td>\n",
       "      <td>1709.05</td>\n",
       "      <td>1.0</td>\n",
       "      <td>2013</td>\n",
       "      <td>6</td>\n",
       "      <td>1</td>\n",
       "      <td>2013-06-01</td>\n",
       "    </tr>\n",
       "    <tr>\n",
       "      <th>4</th>\n",
       "      <td>2013-01-15</td>\n",
       "      <td>0</td>\n",
       "      <td>25</td>\n",
       "      <td>2555</td>\n",
       "      <td>1099.00</td>\n",
       "      <td>1.0</td>\n",
       "      <td>2013</td>\n",
       "      <td>1</td>\n",
       "      <td>15</td>\n",
       "      <td>2013-01-15</td>\n",
       "    </tr>\n",
       "  </tbody>\n",
       "</table>\n",
       "</div>"
      ],
      "text/plain": [
       "        date  date_block_num  shop_id  item_id  item_price  item_cnt_day  \\\n",
       "0 2013-02-01               0       59    22154      999.00           1.0   \n",
       "1 2013-03-01               0       25     2552      899.00           1.0   \n",
       "2 2013-05-01               0       25     2552      899.00          -1.0   \n",
       "3 2013-06-01               0       25     2554     1709.05           1.0   \n",
       "4 2013-01-15               0       25     2555     1099.00           1.0   \n",
       "\n",
       "   salesYear  salesMonth  salesDay   salesDate  \n",
       "0       2013           2         1  2013-02-01  \n",
       "1       2013           3         1  2013-03-01  \n",
       "2       2013           5         1  2013-05-01  \n",
       "3       2013           6         1  2013-06-01  \n",
       "4       2013           1        15  2013-01-15  "
      ]
     },
     "execution_count": 30,
     "metadata": {},
     "output_type": "execute_result"
    }
   ],
   "source": [
    "sales_train_prepared.head()"
   ]
  },
  {
   "cell_type": "code",
   "execution_count": 31,
   "id": "f4bf77bc-70df-4552-97fd-87492131264b",
   "metadata": {},
   "outputs": [],
   "source": [
    "#sales_train[sales_train['item_cnt_day']>100].hist(figsize=(10,5), bins=60)\n",
    "#item_cnt_day - number of products sold. You are predicting a monthly amount of this measure"
   ]
  },
  {
   "cell_type": "code",
   "execution_count": 33,
   "id": "0133f3a5-071e-4a3e-95b0-9fa1c19c7920",
   "metadata": {},
   "outputs": [],
   "source": [
    "sales_train_prepared['item_cnt_day'] = sales_train_prepared['item_cnt_day'].astype(int)"
   ]
  },
  {
   "cell_type": "code",
   "execution_count": 35,
   "id": "1722a49f-6f0a-4ed6-b3ab-867074e242ac",
   "metadata": {},
   "outputs": [
    {
     "data": {
      "text/plain": [
       "array([[<AxesSubplot:title={'center':'date'}>,\n",
       "        <AxesSubplot:title={'center':'date_block_num'}>,\n",
       "        <AxesSubplot:title={'center':'shop_id'}>],\n",
       "       [<AxesSubplot:title={'center':'item_id'}>,\n",
       "        <AxesSubplot:title={'center':'item_price'}>,\n",
       "        <AxesSubplot:title={'center':'item_cnt_day'}>],\n",
       "       [<AxesSubplot:title={'center':'salesYear'}>,\n",
       "        <AxesSubplot:title={'center':'salesMonth'}>,\n",
       "        <AxesSubplot:title={'center':'salesDay'}>]], dtype=object)"
      ]
     },
     "execution_count": 35,
     "metadata": {},
     "output_type": "execute_result"
    },
    {
     "data": {
      "image/png": "[encoded data removed]",
      "text/plain": [
       "<Figure size 1440x720 with 9 Axes>"
      ]
     },
     "metadata": {
      "needs_background": "light"
     },
     "output_type": "display_data"
    }
   ],
   "source": [
    "sales_train_prepared.hist(figsize=(20, 10), bins=100)"
   ]
  },
  {
   "cell_type": "code",
   "execution_count": null,
   "id": "bb07ae01-2fa0-4136-9f1e-dd67549128a1",
   "metadata": {},
   "outputs": [],
   "source": []
  }
 ],
 "metadata": {
  "kernelspec": {
   "display_name": "Python 3",
   "language": "python",
   "name": "python3"
  },
  "language_info": {
   "codemirror_mode": {
    "name": "ipython",
    "version": 3
   },
   "file_extension": ".py",
   "mimetype": "text/x-python",
   "name": "python",
   "nbconvert_exporter": "python",
   "pygments_lexer": "ipython3",
   "version": "3.8.8"
  }
 },
 "nbformat": 4,
 "nbformat_minor": 5
}
